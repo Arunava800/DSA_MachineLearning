{
 "cells": [
  {
   "cell_type": "markdown",
   "id": "94a65901-d1e9-4489-879f-4f52ba665701",
   "metadata": {},
   "source": [
    "**Find the fibonacci series of the nth number using dynamic programming**"
   ]
  },
  {
   "cell_type": "code",
   "execution_count": 1,
   "id": "0287358e-d27a-4d5a-947e-791a0e55ec50",
   "metadata": {},
   "outputs": [],
   "source": [
    "def fib(n):\n",
    "    if n == 0 or n == 1:\n",
    "        return n\n",
    "    elif memo[n] != -1:\n",
    "        return memo[n]\n",
    "    else:\n",
    "        return fib(n-1) + fib(n-2)"
   ]
  },
  {
   "cell_type": "code",
   "execution_count": 3,
   "id": "b31ec4ae-ab70-4257-987a-3fdc88c15387",
   "metadata": {},
   "outputs": [
    {
     "name": "stdin",
     "output_type": "stream",
     "text": [
      " 6\n"
     ]
    },
    {
     "name": "stdout",
     "output_type": "stream",
     "text": [
      "The nth fibonacci number is 8\n"
     ]
    }
   ],
   "source": [
    "if __name__ == \"__main__\":\n",
    "    n = int(input())\n",
    "    memo = [-1] * (n+1)\n",
    "    print(\"The nth fibonacci number is \" + str(fib(n)))"
   ]
  },
  {
   "cell_type": "code",
   "execution_count": null,
   "id": "2fb319a4-d183-40e2-a4b8-cf2c7d4cd3ab",
   "metadata": {},
   "outputs": [],
   "source": []
  }
 ],
 "metadata": {
  "kernelspec": {
   "display_name": "Python 3 (ipykernel)",
   "language": "python",
   "name": "python3"
  },
  "language_info": {
   "codemirror_mode": {
    "name": "ipython",
    "version": 3
   },
   "file_extension": ".py",
   "mimetype": "text/x-python",
   "name": "python",
   "nbconvert_exporter": "python",
   "pygments_lexer": "ipython3",
   "version": "3.8.1"
  }
 },
 "nbformat": 4,
 "nbformat_minor": 5
}
