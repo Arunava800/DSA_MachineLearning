{
 "cells": [
  {
   "cell_type": "code",
   "execution_count": 2,
   "id": "d045ae69-d7ab-474c-9200-af45d6e01be1",
   "metadata": {},
   "outputs": [],
   "source": [
    "from typing import List"
   ]
  },
  {
   "cell_type": "code",
   "execution_count": 19,
   "id": "7efe6398-2918-4bd3-ba6f-ac1c14d2a492",
   "metadata": {},
   "outputs": [],
   "source": [
    "def f(s_idx: int, heights: List, N: int) -> int:\n",
    "    if s_idx == N:\n",
    "        return 0\n",
    "    elif s_idx == N-1:\n",
    "        return abs(heights[N-1] - heights[N-2])\n",
    "    if dp[s_idx] != -1:\n",
    "        return dp[s_idx]\n",
    "    else:\n",
    "        dp[s_idx] = min((f(s_idx+1, heights, N) + abs(heights[s_idx - 1] - heights[s_idx])), (f(s_idx + 2, heights, N)+abs(heights[s_idx-1]- heights[s_idx+1])))\n",
    "    return dp[s_idx]"
   ]
  },
  {
   "cell_type": "code",
   "execution_count": 20,
   "id": "c7981773-fc5f-4177-ae58-2ff549be3cf5",
   "metadata": {},
   "outputs": [],
   "source": [
    "def frogJump(N: int, height_array: List) -> int:\n",
    "    return f(1, height_array,N)"
   ]
  },
  {
   "cell_type": "code",
   "execution_count": null,
   "id": "b687403b-23da-43fc-ba09-b027d680fdc5",
   "metadata": {},
   "outputs": [
    {
     "name": "stdin",
     "output_type": "stream",
     "text": [
      " 4\n"
     ]
    }
   ],
   "source": [
    "total_steps = int(input())\n",
    "height_array = [int(i) for i in input().split()]\n",
    "dp = [-1] * total_steps\n",
    "print(frogJump(total_steps, height_array))"
   ]
  },
  {
   "cell_type": "code",
   "execution_count": null,
   "id": "cc00e2b3-21a8-48c8-be60-00d120af560e",
   "metadata": {},
   "outputs": [],
   "source": []
  }
 ],
 "metadata": {
  "kernelspec": {
   "display_name": "Python 3 (ipykernel)",
   "language": "python",
   "name": "python3"
  },
  "language_info": {
   "codemirror_mode": {
    "name": "ipython",
    "version": 3
   },
   "file_extension": ".py",
   "mimetype": "text/x-python",
   "name": "python",
   "nbconvert_exporter": "python",
   "pygments_lexer": "ipython3",
   "version": "3.8.1"
  }
 },
 "nbformat": 4,
 "nbformat_minor": 5
}
