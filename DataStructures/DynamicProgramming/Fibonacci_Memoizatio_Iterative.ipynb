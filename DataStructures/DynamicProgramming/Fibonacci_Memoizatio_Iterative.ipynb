{
 "cells": [
  {
   "cell_type": "markdown",
   "id": "12717b43-a0e1-42ff-bde4-73911535a0cb",
   "metadata": {},
   "source": [
    "**Fibonacci Memoization in a iterative way. The iterative approach ensures the fact operation in dynamic programming.**\n",
    "\n",
    "**Note**\n",
    "\n",
    "**Always try to code in iterative way**\n",
    "\n",
    "**_Time Complexity:_** o(N)\n",
    "\n",
    "**_Space Complexity:_** o(N)"
   ]
  },
  {
   "cell_type": "code",
   "execution_count": 5,
   "id": "3219dc5f-7dfc-475a-87a3-e45f63df2e99",
   "metadata": {},
   "outputs": [],
   "source": [
    "def fib(n):\n",
    "    memo = [-1] * (n+1)\n",
    "    memo[0] = 0\n",
    "    memo[1] = 1\n",
    "    for i in range(2, n+1):\n",
    "        memo[i] = memo[i-1] + memo[i-2]\n",
    "    print(\"The value of nth fibonacci series is\", memo[n])"
   ]
  },
  {
   "cell_type": "code",
   "execution_count": 6,
   "id": "26118e2e-8a45-4fd7-bc98-5f04b354165a",
   "metadata": {},
   "outputs": [
    {
     "name": "stdin",
     "output_type": "stream",
     "text": [
      " 6\n"
     ]
    },
    {
     "name": "stdout",
     "output_type": "stream",
     "text": [
      "The value of nth fibonacci series is 8\n"
     ]
    }
   ],
   "source": [
    "n = int(input())\n",
    "fib(n)"
   ]
  },
  {
   "cell_type": "code",
   "execution_count": null,
   "id": "c4995020-224a-441e-a6a5-fcd81d1dc419",
   "metadata": {},
   "outputs": [],
   "source": []
  }
 ],
 "metadata": {
  "kernelspec": {
   "display_name": "Python 3 (ipykernel)",
   "language": "python",
   "name": "python3"
  },
  "language_info": {
   "codemirror_mode": {
    "name": "ipython",
    "version": 3
   },
   "file_extension": ".py",
   "mimetype": "text/x-python",
   "name": "python",
   "nbconvert_exporter": "python",
   "pygments_lexer": "ipython3",
   "version": "3.8.1"
  }
 },
 "nbformat": 4,
 "nbformat_minor": 5
}
