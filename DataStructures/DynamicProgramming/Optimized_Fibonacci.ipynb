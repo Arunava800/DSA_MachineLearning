{
 "cells": [
  {
   "cell_type": "markdown",
   "id": "3e415005-5a92-4bee-9f10-55e9807ba017",
   "metadata": {},
   "source": [
    "** The optimized approach reduces the space complexity**\n",
    "\n",
    "**_Time Complexity_**: o(N)\n",
    "\n",
    "**_Space Complexity:_** o(1)"
   ]
  },
  {
   "cell_type": "code",
   "execution_count": 2,
   "id": "019b4183-1a98-4d95-8dfb-43b1645add3f",
   "metadata": {},
   "outputs": [],
   "source": [
    "def fib(n):\n",
    "    a = 0\n",
    "    b = 1\n",
    "    fibbo = 0\n",
    "    for i in range(2, n+1):\n",
    "        fibbo = a + b\n",
    "        a, b = b, fibbo\n",
    "    return fibbo\n",
    "        "
   ]
  },
  {
   "cell_type": "code",
   "execution_count": 3,
   "id": "832c6ca5-1cc2-4487-b61a-e20bd4e485e2",
   "metadata": {},
   "outputs": [
    {
     "name": "stdin",
     "output_type": "stream",
     "text": [
      " 6\n"
     ]
    },
    {
     "name": "stdout",
     "output_type": "stream",
     "text": [
      "8\n"
     ]
    }
   ],
   "source": [
    "n = int(input())\n",
    "print(fib(n))"
   ]
  },
  {
   "cell_type": "code",
   "execution_count": null,
   "id": "2c228cd6-ef78-4510-8bcf-c7a5fba4d6d9",
   "metadata": {},
   "outputs": [],
   "source": []
  }
 ],
 "metadata": {
  "kernelspec": {
   "display_name": "Python 3 (ipykernel)",
   "language": "python",
   "name": "python3"
  },
  "language_info": {
   "codemirror_mode": {
    "name": "ipython",
    "version": 3
   },
   "file_extension": ".py",
   "mimetype": "text/x-python",
   "name": "python",
   "nbconvert_exporter": "python",
   "pygments_lexer": "ipython3",
   "version": "3.8.1"
  }
 },
 "nbformat": 4,
 "nbformat_minor": 5
}
