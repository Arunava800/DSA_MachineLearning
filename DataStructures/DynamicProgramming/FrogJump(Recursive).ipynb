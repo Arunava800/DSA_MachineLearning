{
 "cells": [
  {
   "cell_type": "markdown",
   "id": "17081a43-6050-4af4-b81e-6583007e3cb6",
   "metadata": {},
   "source": [
    "**Problem Statement**\n",
    "There is a frog on `1st step` of an `N` stairs long stair case. The frog wants to reach the `N-th` stair. `Height[i]` is the height of `(i+1)-th` stari. If frog jumps from `ith` to `jth` stair, the energy lost in the jump is given by absolute value of `(HEIGHT[i-1] - HEIGHT[j-1])`. If the frog is on `i-th` staircase, he can either `(i+1)-th` stair or to `(i+2)-th` stair. Your task is to find the minimum total energy used by the frog to reach from `1st stair` to `N-th` stair.\n",
    "\n",
    "***For example*** If the given HEIGHT array is [10. 20. 30, 10], the answer is 20 as the frog can jump from `1st` stair to `2nd` stair `(|20-10| = 10) energy lost` and then jump from `2nd` stair to last stair `|10 -20| = 10 energy lost`. so, the total energy lost  is 20.\n",
    "\n",
    "\n",
    "**_For Example:_**\n",
    "2\n",
    "\n",
    "4\n",
    "\n",
    "10 20 30 10 \n",
    "\n",
    "**_sample output_** 20"
   ]
  },
  {
   "cell_type": "code",
   "execution_count": 37,
   "id": "3fa2edf8-89fa-477b-92bc-a5d16691e134",
   "metadata": {},
   "outputs": [],
   "source": [
    "from typing import List"
   ]
  },
  {
   "cell_type": "code",
   "execution_count": 38,
   "id": "9261bf2d-eb52-4aaa-b7bc-7130121ff23f",
   "metadata": {},
   "outputs": [],
   "source": [
    "def f(n: int, height: List[int], N: int) -> int:\n",
    "    if n == N:\n",
    "        return 0\n",
    "    elif n == N -1:\n",
    "        return abs(height[N-1] - height[N-2])\n",
    "    else:\n",
    "        return min(f(n+1, height, N) + abs(height[n-1] - height[n]), f(n+2, height, N)+abs(height[n-1] - height[n+1]))"
   ]
  },
  {
   "cell_type": "code",
   "execution_count": 39,
   "id": "894000b4-3dd1-47e4-811f-fc23f7d0f8bf",
   "metadata": {},
   "outputs": [],
   "source": [
    "def frogJump(n : int, height: List[int]) -> int:\n",
    "    return f(1, height, n)"
   ]
  },
  {
   "cell_type": "code",
   "execution_count": 40,
   "id": "30678eca-9424-4ad9-a082-3eec1ad6e4ae",
   "metadata": {},
   "outputs": [
    {
     "name": "stdin",
     "output_type": "stream",
     "text": [
      " 4\n",
      " 10 20 30 10\n"
     ]
    },
    {
     "name": "stdout",
     "output_type": "stream",
     "text": [
      "20\n"
     ]
    }
   ],
   "source": [
    "n = int(input())\n",
    "array = [int(i) for i in input().split()]\n",
    "print(frogJump(n, array))"
   ]
  },
  {
   "cell_type": "markdown",
   "id": "af814640-7266-4da1-bf5b-04f378f53dd7",
   "metadata": {},
   "source": []
  }
 ],
 "metadata": {
  "kernelspec": {
   "display_name": "Python 3 (ipykernel)",
   "language": "python",
   "name": "python3"
  },
  "language_info": {
   "codemirror_mode": {
    "name": "ipython",
    "version": 3
   },
   "file_extension": ".py",
   "mimetype": "text/x-python",
   "name": "python",
   "nbconvert_exporter": "python",
   "pygments_lexer": "ipython3",
   "version": "3.8.1"
  }
 },
 "nbformat": 4,
 "nbformat_minor": 5
}
