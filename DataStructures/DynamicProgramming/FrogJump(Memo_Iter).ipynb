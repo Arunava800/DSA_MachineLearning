{
 "cells": [
  {
   "cell_type": "code",
   "execution_count": 15,
   "id": "f8158ccd-8163-4920-b4bc-4fc654bbd0d9",
   "metadata": {},
   "outputs": [],
   "source": [
    "def frogJump(N, heights):\n",
    "    dp = [-1] * (N+1)\n",
    "    dp[N] = 0\n",
    "    dp[N-1] = abs(heights[N-1]- heights[N-2])\n",
    "    for i in range(N-2, 0, -1):\n",
    "        dp[i] = min(dp[i+1]+abs(heights[i-1] - heights[i]), dp[i+2] + abs(heights[i-1] - heights[i+1]))\n",
    "    return dp[1]"
   ]
  },
  {
   "cell_type": "code",
   "execution_count": 16,
   "id": "7beeadeb-ca4b-40df-b0ef-dc1452f50244",
   "metadata": {},
   "outputs": [
    {
     "name": "stdin",
     "output_type": "stream",
     "text": [
      " 3\n",
      " 10 50 10\n"
     ]
    },
    {
     "name": "stdout",
     "output_type": "stream",
     "text": [
      "0\n"
     ]
    }
   ],
   "source": [
    "total_steps = int(input())\n",
    "height_list = list(map(int, input().split()))\n",
    "\n",
    "print(frogJump(total_steps, height_list))"
   ]
  },
  {
   "cell_type": "code",
   "execution_count": null,
   "id": "95a59adb-6cdc-45f0-9f20-806b5ffef662",
   "metadata": {},
   "outputs": [],
   "source": []
  }
 ],
 "metadata": {
  "kernelspec": {
   "display_name": "Python 3 (ipykernel)",
   "language": "python",
   "name": "python3"
  },
  "language_info": {
   "codemirror_mode": {
    "name": "ipython",
    "version": 3
   },
   "file_extension": ".py",
   "mimetype": "text/x-python",
   "name": "python",
   "nbconvert_exporter": "python",
   "pygments_lexer": "ipython3",
   "version": "3.8.1"
  }
 },
 "nbformat": 4,
 "nbformat_minor": 5
}
