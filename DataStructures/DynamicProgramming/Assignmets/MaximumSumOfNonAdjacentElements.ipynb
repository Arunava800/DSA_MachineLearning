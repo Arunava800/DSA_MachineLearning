{
 "cells": [
  {
   "cell_type": "code",
   "execution_count": 7,
   "id": "d08f143e-6397-4f8d-a12d-abd4c9b3c934",
   "metadata": {},
   "outputs": [],
   "source": [
    "def maximumNonAdjacentSum(N,nums, s_idx, e_idx):\n",
    "    small_output = 0\n",
    "    if len(nums) == 0:\n",
    "        return small_output\n",
    "    if s_idx + 1 == e_idx:\n",
    "        maximumNonAdjacentSum(N, nums, s_idx, e_idx+1)\n",
    "    else:\n",
    "        small_output = nums[s_idx] + nums[e_idx]\n",
    "        e_idx += 1\n",
    "        if e_idx ==  N:\n",
    "            nums = nums[1:]\n",
    "    return small_output"
   ]
  },
  {
   "cell_type": "code",
   "execution_count": 8,
   "id": "7cb0d53b-fe0e-4b10-bcd4-ff5eccfc6897",
   "metadata": {},
   "outputs": [
    {
     "name": "stdin",
     "output_type": "stream",
     "text": [
      "Enter the number of elements 3\n",
      " 1 2 4\n"
     ]
    },
    {
     "data": {
      "text/plain": [
       "0"
      ]
     },
     "execution_count": 8,
     "metadata": {},
     "output_type": "execute_result"
    }
   ],
   "source": [
    "n = int(input(\"Enter the number of elements\"))\n",
    "element_list = list(map(int, input().split()))\n",
    "maximumNonAdjacentSum(n, element_list, 0, 1)"
   ]
  },
  {
   "cell_type": "code",
   "execution_count": null,
   "id": "5f6f50ed-1dc6-4498-92c4-3b3da709c52c",
   "metadata": {},
   "outputs": [],
   "source": []
  }
 ],
 "metadata": {
  "kernelspec": {
   "display_name": "Python 3 (ipykernel)",
   "language": "python",
   "name": "python3"
  },
  "language_info": {
   "codemirror_mode": {
    "name": "ipython",
    "version": 3
   },
   "file_extension": ".py",
   "mimetype": "text/x-python",
   "name": "python",
   "nbconvert_exporter": "python",
   "pygments_lexer": "ipython3",
   "version": "3.8.1"
  }
 },
 "nbformat": 4,
 "nbformat_minor": 5
}
