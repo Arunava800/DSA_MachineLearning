{
 "cells": [
  {
   "cell_type": "markdown",
   "id": "51f5fcb4-6a1e-4cc8-8eea-5f162591f828",
   "metadata": {},
   "source": [
    "# Adjacency Matrix Representation #"
   ]
  },
  {
   "cell_type": "code",
   "execution_count": 12,
   "id": "26d909c5-036c-4ee9-b67d-b1c2ec705f33",
   "metadata": {},
   "outputs": [],
   "source": [
    "class Graph:\n",
    "    def __init__(self, n: int) -> None:\n",
    "        self.graph = list()\n",
    "        for i in range(n+1):\n",
    "            temp = [0 for _ in range(n+1)]\n",
    "            self.graph.append(temp)\n",
    "\n",
    "    def add_edge(self, u:int, v:int) -> None:\n",
    "        self.graph[u][v] = 1\n",
    "        self.graph[v][u] = 1\n",
    "        \n",
    "    def print_graph(self):\n",
    "        print(self.graph)"
   ]
  },
  {
   "cell_type": "code",
   "execution_count": 13,
   "id": "05e5f47c-0b0d-42a4-b2e7-7c8f462fba86",
   "metadata": {},
   "outputs": [
    {
     "name": "stdout",
     "output_type": "stream",
     "text": [
      "[[0, 0, 0, 0, 0], [0, 0, 1, 1, 0], [0, 1, 0, 1, 1], [0, 1, 1, 0, 0], [0, 0, 1, 0, 0]]\n"
     ]
    }
   ],
   "source": [
    "if __name__ == \"__main__\":\n",
    "    g = Graph(4)\n",
    "    g.add_edge(1,2)\n",
    "    g.add_edge(1,3)\n",
    "    g.add_edge(2,3)\n",
    "    g.add_edge(2,4)\n",
    "    g.print_graph()"
   ]
  },
  {
   "cell_type": "code",
   "execution_count": null,
   "id": "9eb1a3a4-d0dd-4616-ba25-23c6ffd25aeb",
   "metadata": {},
   "outputs": [],
   "source": []
  }
 ],
 "metadata": {
  "kernelspec": {
   "display_name": "Python 3 (ipykernel)",
   "language": "python",
   "name": "python3"
  },
  "language_info": {
   "codemirror_mode": {
    "name": "ipython",
    "version": 3
   },
   "file_extension": ".py",
   "mimetype": "text/x-python",
   "name": "python",
   "nbconvert_exporter": "python",
   "pygments_lexer": "ipython3",
   "version": "3.8.1"
  }
 },
 "nbformat": 4,
 "nbformat_minor": 5
}
