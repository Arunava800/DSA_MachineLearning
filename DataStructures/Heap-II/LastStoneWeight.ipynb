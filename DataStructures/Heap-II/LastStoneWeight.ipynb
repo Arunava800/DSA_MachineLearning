{
 "cells": [
  {
   "cell_type": "markdown",
   "id": "0c8ef6d3-fbd8-4a96-bead-e93285e6c5bb",
   "metadata": {},
   "source": [
    "**Problem Statement**\n",
    "We have a collection of `N` stones, each stone has as positive integer weight. On each turn, we choose the heaviest\n",
    "stone ans smash them together. Suppose the stones have weight `x` and `y` with `x<=y`. The result of the smash will be:\n",
    "1. if `x` == `y`, both stones are totally destroyed.\n",
    "2. if `x` != `y`, the stone of `x` is totally destroyed and the `y` has a new weight of `y-x`. In the end, there is atmost 1 stone left. Return the weight of this stone or 0 if there is no stone left.\n",
    "\n",
    "**_Sample Input:_**\n",
    "1\n",
    "\n",
    "10\n",
    "\n",
    "**_Sample Output_**\n",
    "10"
   ]
  },
  {
   "cell_type": "code",
   "execution_count": 2,
   "id": "e101ffa5-6688-45b0-a2a5-5e6253669f38",
   "metadata": {},
   "outputs": [],
   "source": [
    "from typing import List\n",
    "import heapq as pq"
   ]
  },
  {
   "cell_type": "code",
   "execution_count": 3,
   "id": "688d6604-c4a1-4199-b87f-ff7dc7dea008",
   "metadata": {},
   "outputs": [],
   "source": [
    "class Element:\n",
    "    def __init__(self, value) -> None:\n",
    "        self.value = value\n",
    "    def __lt__(self, o: object) -> bool:\n",
    "        return self.value > o.value\n",
    "    def __eq__(self, __o: object) -> bool:\n",
    "        return self.value == __o.value"
   ]
  },
  {
   "cell_type": "code",
   "execution_count": 96,
   "id": "584c2a36-7906-47f9-933a-a1a7c36c2e9d",
   "metadata": {},
   "outputs": [],
   "source": [
    "def weight_of_last_stones(stones: List[int], n: int) -> int:\n",
    "    heap = list()\n",
    "    for i in stones:\n",
    "            pq.heappush(heap, Element(i))\n",
    "    while len(heap) > 1:\n",
    "        first = pq.heappop(heap).value\n",
    "        second = pq.heappop(heap).value\n",
    "        if first != second:\n",
    "            pq.heappush(heap, Element(first - second))\n",
    "    return pq.heappop(heap).value if heap else 0\n",
    "          "
   ]
  },
  {
   "cell_type": "code",
   "execution_count": 97,
   "id": "a9ec5c76-57d6-4739-bdbc-1fac97533c83",
   "metadata": {},
   "outputs": [
    {
     "name": "stdin",
     "output_type": "stream",
     "text": [
      " 30\n",
      " 1 9 5\n"
     ]
    },
    {
     "name": "stdout",
     "output_type": "stream",
     "text": [
      "3\n"
     ]
    }
   ],
   "source": [
    "# Taking input\n",
    "terms = int(input())\n",
    "array = list(map(int, input().split()))\n",
    "print(weight_of_last_stones(array, terms))"
   ]
  },
  {
   "cell_type": "code",
   "execution_count": null,
   "id": "7c87ed87-06c6-4856-a754-82014fae1577",
   "metadata": {},
   "outputs": [],
   "source": [
    "\n"
   ]
  }
 ],
 "metadata": {
  "kernelspec": {
   "display_name": "Python 3 (ipykernel)",
   "language": "python",
   "name": "python3"
  },
  "language_info": {
   "codemirror_mode": {
    "name": "ipython",
    "version": 3
   },
   "file_extension": ".py",
   "mimetype": "text/x-python",
   "name": "python",
   "nbconvert_exporter": "python",
   "pygments_lexer": "ipython3",
   "version": "3.8.1"
  }
 },
 "nbformat": 4,
 "nbformat_minor": 5
}
