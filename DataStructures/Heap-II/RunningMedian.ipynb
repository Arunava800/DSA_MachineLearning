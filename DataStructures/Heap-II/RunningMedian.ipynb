{
 "cells": [
  {
   "cell_type": "markdown",
   "id": "6f3395d4-b5c5-44c1-8b05-53f4e67da248",
   "metadata": {},
   "source": [
    "**Problem Statement**\n",
    "You are given a stream of `N` integers. For every i-th integer added to the running list of integers, print the resulting median.\n",
    "Print only the integer part of the median.\n",
    "\n",
    "\n",
    "**_Sample Input_**\n",
    "6\n",
    "6 2 1 3 7 5\n",
    "\n",
    "\n",
    "**_Sample Output_**\n",
    "6 4 2 2 3 4"
   ]
  },
  {
   "cell_type": "code",
   "execution_count": 1,
   "id": "d3fb49b8-46d6-4a2f-a868-9fd3accdca54",
   "metadata": {},
   "outputs": [],
   "source": [
    "import heapq as pq\n",
    "from typing import List"
   ]
  },
  {
   "cell_type": "code",
   "execution_count": 2,
   "id": "f7bdb1b1-0df5-4421-a496-04edb421ce99",
   "metadata": {},
   "outputs": [],
   "source": [
    "class Element:\n",
    "    def __init__(self, value: int) -> None:\n",
    "        self.value = value\n",
    "    def __lt__(self, obj: object) -> bool:\n",
    "        return self.value > obj.value\n",
    "    def __eq__(self, __o: object) -> bool:\n",
    "        return self.value == __o.value"
   ]
  },
  {
   "cell_type": "code",
   "execution_count": 7,
   "id": "dd052d6d-d776-49ed-9b36-e882a27f02a8",
   "metadata": {},
   "outputs": [],
   "source": [
    "def balance(lh: List[Element], uh: List[int]) -> None:\n",
    "    len_left = len(lh)\n",
    "    len_right = len(uh)\n",
    "    if len_left == len_right or len_left == len_right + 1:\n",
    "        return\n",
    "    elif len_left > len_right:\n",
    "        tp:Element = pq.heappop(lh)\n",
    "        pq.heappush(uh, tp.value)\n",
    "    else:\n",
    "        tp: Element = pq.heappop(uh)\n",
    "        pq.heappush(lh, Element(tp))"
   ]
  },
  {
   "cell_type": "code",
   "execution_count": 15,
   "id": "f5786729-809d-44c6-85e1-1e542a37acf2",
   "metadata": {},
   "outputs": [],
   "source": [
    "def findMedian(arr: List[int], n: int):\n",
    "    lh = list()\n",
    "    uh = list()\n",
    "    ans = list()\n",
    "    for i in range(n):\n",
    "        if len(lh) == 0:\n",
    "            pq.heappush(lh, Element(arr[i]))\n",
    "        else:\n",
    "            tp: Element = lh[0]\n",
    "            if arr[i] < tp.value:\n",
    "                pq.heappush(lh, Element(arr[i]))\n",
    "            else:\n",
    "                pq.heappush(uh, arr[i])\n",
    "            balance(lh, uh)\n",
    "        if i % 2 ==0:\n",
    "            ans.append(lh[0].value)\n",
    "        else:\n",
    "            ans.append((lh[0].value + uh[0])//2)\n",
    "    return ans"
   ]
  },
  {
   "cell_type": "code",
   "execution_count": 18,
   "id": "1b97501e-74dc-4931-8ad0-0df300784bc5",
   "metadata": {},
   "outputs": [
    {
     "name": "stdin",
     "output_type": "stream",
     "text": [
      " 6\n"
     ]
    },
    {
     "name": "stdout",
     "output_type": "stream",
     "text": [
      "[6, 4, 2, 2, 3, 4]\n"
     ]
    }
   ],
   "source": [
    "terms = int(input())\n",
    "print(findMedian([6, 2, 1, 3, 7, 5], terms))"
   ]
  },
  {
   "cell_type": "code",
   "execution_count": null,
   "id": "2b446553-9bb9-4499-8ec3-b0734a8f7556",
   "metadata": {},
   "outputs": [],
   "source": []
  }
 ],
 "metadata": {
  "kernelspec": {
   "display_name": "Python 3 (ipykernel)",
   "language": "python",
   "name": "python3"
  },
  "language_info": {
   "codemirror_mode": {
    "name": "ipython",
    "version": 3
   },
   "file_extension": ".py",
   "mimetype": "text/x-python",
   "name": "python",
   "nbconvert_exporter": "python",
   "pygments_lexer": "ipython3",
   "version": "3.8.1"
  }
 },
 "nbformat": 4,
 "nbformat_minor": 5
}
