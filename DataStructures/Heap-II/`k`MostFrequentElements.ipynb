{
 "cells": [
  {
   "cell_type": "markdown",
   "id": "c000c6fb-9cbe-4a8a-a452-f4777b0592d7",
   "metadata": {},
   "source": [
    "**Problem Statement**\n",
    "\n",
    "You are given an integer array/list, and an integer`k`. Your task is to find most frequent elements in `ARR`.Return the elements in any order.\n",
    "\n",
    "For example: `ARR`=[1, 2, 2,3, 3] and `k`= 2. The answer will be {2,3} as 2 and 3 are the elements occuring most of the time.\n",
    "\n",
    "**_Sample Input:_**\n",
    "5 2 \n",
    "1 2 2 3  3\n",
    "\n",
    "**_Sample Output:_** 2 3"
   ]
  },
  {
   "cell_type": "code",
   "execution_count": 2,
   "id": "95247c9f-fdb8-4cb5-8dcb-0a931fd10251",
   "metadata": {},
   "outputs": [],
   "source": [
    "from typing import List\n",
    "from collections import defaultdict\n",
    "import heapq as pq"
   ]
  },
  {
   "cell_type": "code",
   "execution_count": 6,
   "id": "9a44c915-c734-41a4-8e9a-8e03f9222fb3",
   "metadata": {},
   "outputs": [],
   "source": [
    "def k_most_frequent_elements(arr: List[int], k: int) -> List[int]:\n",
    "    freq_map = defaultdict(int)\n",
    "    for num in arr:\n",
    "        freq_map[num] += 1\n",
    "    min_heap = list()\n",
    "    for num, freq in freq_map.items():\n",
    "        pq.heappush(min_heap, (freq, num))\n",
    "        if len(min_heap) > k:\n",
    "            pq.heappop(min_heap)\n",
    "    result = [num for freq, num in min_heap]\n",
    "    result.reverse()\n",
    "    return result\n",
    "    "
   ]
  },
  {
   "cell_type": "code",
   "execution_count": 7,
   "id": "d820cbe2-79ab-4960-835c-23732045e538",
   "metadata": {},
   "outputs": [
    {
     "name": "stdin",
     "output_type": "stream",
     "text": [
      " 2\n",
      " 5 2 1 2 2 3 3\n"
     ]
    },
    {
     "name": "stdout",
     "output_type": "stream",
     "text": [
      "[2, 3]\n"
     ]
    }
   ],
   "source": [
    "k_ = int(input())\n",
    "array = list(map(int, input().strip().split()))\n",
    "print(k_most_frequent_elements(array, k_))"
   ]
  },
  {
   "cell_type": "code",
   "execution_count": null,
   "id": "92a53f28-337b-4d97-9a5d-20b726886b14",
   "metadata": {},
   "outputs": [],
   "source": []
  }
 ],
 "metadata": {
  "kernelspec": {
   "display_name": "Python 3 (ipykernel)",
   "language": "python",
   "name": "python3"
  },
  "language_info": {
   "codemirror_mode": {
    "name": "ipython",
    "version": 3
   },
   "file_extension": ".py",
   "mimetype": "text/x-python",
   "name": "python",
   "nbconvert_exporter": "python",
   "pygments_lexer": "ipython3",
   "version": "3.8.1"
  }
 },
 "nbformat": 4,
 "nbformat_minor": 5
}
