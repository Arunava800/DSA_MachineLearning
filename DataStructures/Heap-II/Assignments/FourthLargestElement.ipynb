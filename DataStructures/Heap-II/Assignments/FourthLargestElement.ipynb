{
 "cells": [
  {
   "cell_type": "markdown",
   "id": "b5345b1b-58e8-417f-9a50-2db74b42fab5",
   "metadata": {},
   "source": [
    "**Problem Statement**\n",
    "\n",
    "You are given an array consisting of `N` integers. You have to find the fourth largest element present in the array.\n",
    "If there are no such numbers present in the arrray, then print the minimum value of the integer which is -2147483648.\n",
    "\n",
    "*_sample Input:_*\n",
    "5\n",
    "\n",
    "3 5 1 3 1\n",
    "\n",
    "*_sample Output:_*\n",
    "1"
   ]
  },
  {
   "cell_type": "code",
   "execution_count": 1,
   "id": "ded8634f-2b64-475f-9dec-81f97ba2aace",
   "metadata": {},
   "outputs": [],
   "source": [
    "from typing import List\n",
    "import heapq as pq"
   ]
  },
  {
   "cell_type": "code",
   "execution_count": 2,
   "id": "95ba830a-28f8-4ec0-b873-c9b390f084b2",
   "metadata": {},
   "outputs": [],
   "source": [
    "class Element:\n",
    "    def __init__(self, value: int) -> None:\n",
    "        self.value = value\n",
    "    def __lt__(self, o: object) -> bool:\n",
    "        return self.value > o.value\n",
    "    def __eq__(self, _o: object) -> bool:\n",
    "        return self.value == o.value"
   ]
  },
  {
   "cell_type": "code",
   "execution_count": 13,
   "id": "b76d64f3-58b0-47c8-a4a3-e73308cd78a1",
   "metadata": {},
   "outputs": [],
   "source": [
    "def get_fourth_largest_element(arr: List[int], n: int) -> int:\n",
    "    if len(arr) < 4:\n",
    "        return -2147483648\n",
    "    heap = list()\n",
    "    for i in arr:\n",
    "        pq.heappush(heap, Element(i))\n",
    "    i = 1\n",
    "    while i <= 4:\n",
    "        tp: Element = pq.heappop(heap).value\n",
    "        i += 1\n",
    "    return tp"
   ]
  },
  {
   "cell_type": "code",
   "execution_count": 17,
   "id": "e746d4e2-7d32-432e-bd1f-fc8e5acce473",
   "metadata": {},
   "outputs": [
    {
     "name": "stdin",
     "output_type": "stream",
     "text": [
      " 3\n",
      " 1 2 3\n"
     ]
    },
    {
     "name": "stdout",
     "output_type": "stream",
     "text": [
      "-2147483648\n"
     ]
    }
   ],
   "source": [
    "n = int(input())\n",
    "array = list(map(int, input().split()))\n",
    "print(get_fourth_largest_element(array, n))"
   ]
  },
  {
   "cell_type": "code",
   "execution_count": null,
   "id": "988d68fe-91e8-4ead-b384-02b25f96663a",
   "metadata": {},
   "outputs": [],
   "source": []
  }
 ],
 "metadata": {
  "kernelspec": {
   "display_name": "Python 3 (ipykernel)",
   "language": "python",
   "name": "python3"
  },
  "language_info": {
   "codemirror_mode": {
    "name": "ipython",
    "version": 3
   },
   "file_extension": ".py",
   "mimetype": "text/x-python",
   "name": "python",
   "nbconvert_exporter": "python",
   "pygments_lexer": "ipython3",
   "version": "3.8.1"
  }
 },
 "nbformat": 4,
 "nbformat_minor": 5
}
