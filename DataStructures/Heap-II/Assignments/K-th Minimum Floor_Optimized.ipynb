{
 "cells": [
  {
   "cell_type": "markdown",
   "id": "09020c7d-66a6-4243-b33b-d7bc3c2234f4",
   "metadata": {},
   "source": [
    "***Problem Statement:***\n",
    "Ninja is appointed as an architect in square city. As the name suggest, all the `N*N` buildings in the square city are constructed in a square grid with `N` rows and `N` columns. Each building has a fixed number of floors and is arranged in a row and column in non-decreasing order of the number of floors. For example, one of the square with N=3, is shown below:\n",
    "[1, 2, 3],\n",
    "\n",
    "[1,3,7],\n",
    "\n",
    "[2,9, 13]. Ninja wants to develop the square city. So, he selects the k-th building with minimum floors and plans to work on it. As he is busy deciding the design and infrastructure for that building, he asks you for help.  For example, for the given square city and `k` = 4. the 4th building having the minimum floors is at (2, 0) and having 11 floors.\n",
    "[[2.5. 12],\n",
    "[10, 12, 13],\n",
    "[11, 6, 19]]. Can you help ninja find the building with `k` with minimum floors.\n",
    "\n",
    "**_Sample Input:_** \n",
    "\n",
    "2\n",
    "\n",
    "3 4 \n",
    "\n",
    "[[1 2 8],\n",
    "\n",
    "[4 10 11],\n",
    "\n",
    "[6 11 12]]\n",
    "\n",
    "**_Sample Output:_**\n",
    "\n",
    "6\n",
    "\n",
    "**_Explanation_** For the first test case, if we write all the floors in increasing order then the `4-th` building from the begining will be `6` as shown below:\n",
    "\n",
    "` 1 2 4 6 8 10 11 11 12`"
   ]
  },
  {
   "cell_type": "code",
   "execution_count": 12,
   "id": "479fcad2-a02f-4e56-a85d-6eda969da702",
   "metadata": {},
   "outputs": [],
   "source": [
    "from typing import List"
   ]
  },
  {
   "cell_type": "code",
   "execution_count": 16,
   "id": "ae6b5ecf-da5a-4e53-9106-7327d37d5c26",
   "metadata": {},
   "outputs": [],
   "source": [
    "def lessThanEqualToMid(arr: List[int], target: int, n: int) -> int:\n",
    "    mid, low = 0, 0\n",
    "    high = n\n",
    "    while low < high:\n",
    "        mid = low + (high - low) //2\n",
    "        if target >= arr[mid]:\n",
    "            low = mid + 1\n",
    "        else:\n",
    "             high = mid\n",
    "    return low"
   ]
  },
  {
   "cell_type": "code",
   "execution_count": 19,
   "id": "95243e5b-36c0-4e4e-90ce-7763b9dbd329",
   "metadata": {},
   "outputs": [],
   "source": [
    "def kMinFloor(squarecity: List[List[int]], n: int, k: int) -> int:\n",
    "    low = squarecity[0][0]\n",
    "    high = squarecity[n-1][n-1]\n",
    "    mid = 0\n",
    "    answer = low\n",
    "    while low < high:\n",
    "        mid = low + (high - low) // 2\n",
    "        num = 0\n",
    "        for i in range(n):\n",
    "            pos = lessThanEqualToMid(squarecity[i], mid, n)\n",
    "            num += pos\n",
    "        if num < k:\n",
    "            low = mid + 1\n",
    "            answer = low\n",
    "        else:\n",
    "            high = mid\n",
    "    return answer"
   ]
  },
  {
   "cell_type": "code",
   "execution_count": 20,
   "id": "84bb7a3c-a952-412c-9517-b50e5b04a22a",
   "metadata": {},
   "outputs": [
    {
     "name": "stdin",
     "output_type": "stream",
     "text": [
      "Enter the number of elements in the list 3\n",
      "Enter the floor 4\n",
      " 1 2 8\n",
      " 4 10 11\n",
      " 6 11 12\n"
     ]
    },
    {
     "name": "stdout",
     "output_type": "stream",
     "text": [
      "6\n"
     ]
    }
   ],
   "source": [
    "n = int(input(\"Enter the number of elements in the list\"))\n",
    "k = int(input(\"Enter the floor\"))\n",
    "array = [[int(i) for i in input().split()] for i in range(n)]\n",
    "print(kMinFloor(array, n, k))"
   ]
  },
  {
   "cell_type": "code",
   "execution_count": null,
   "id": "f805426b-5939-4ab5-99ee-bfe3a6080079",
   "metadata": {},
   "outputs": [],
   "source": []
  }
 ],
 "metadata": {
  "kernelspec": {
   "display_name": "Python 3 (ipykernel)",
   "language": "python",
   "name": "python3"
  },
  "language_info": {
   "codemirror_mode": {
    "name": "ipython",
    "version": 3
   },
   "file_extension": ".py",
   "mimetype": "text/x-python",
   "name": "python",
   "nbconvert_exporter": "python",
   "pygments_lexer": "ipython3",
   "version": "3.8.1"
  }
 },
 "nbformat": 4,
 "nbformat_minor": 5
}
