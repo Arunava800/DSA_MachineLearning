{
 "cells": [
  {
   "cell_type": "markdown",
   "id": "9ccff648-4863-4732-aeef-46f0a3ce258b",
   "metadata": {},
   "source": [
    "***Problem Statement:***\n",
    "Ninja is appointed as an architect in square city. As the name suggest, all the `N*N` buildings in the square city are constructed in a square grid with `N` rows and `N` columns. Each building has a fixed number of floors and is arranged in a row and column in non-decreasing order of the number of floors. For example, one of the square with N=3, is shown below:\n",
    "[1, 2, 3],\n",
    "\n",
    "[1,3,7],\n",
    "\n",
    "[2,9, 13]. Ninja wants to develop the square city. So, he selects the k-th building with minimum floors and plans to work on it. As he is busy deciding the design and infrastructure for that building, he asks you for help.  For example, for the given square city and `k` = 4. the 4th building having the minimum floors is at (2, 0) and having 11 floors.\n",
    "[[2.5. 12],\n",
    "[10, 12, 13],\n",
    "[11, 6, 19]]. Can you help ninja find the building with `k` with minimum floors.\n",
    "\n",
    "**_Sample Input:_** \n",
    "\n",
    "2\n",
    "\n",
    "3 4 \n",
    "\n",
    "[[1 2 8],\n",
    "\n",
    "[4 10 11],\n",
    "\n",
    "[6 11 12]]\n",
    "\n",
    "**_Sample Output:_**\n",
    "\n",
    "6\n",
    "\n",
    "**_Explanation_** For the first test case, if we write all the floors in increasing order then the `4-th` building from the begining will be `6` as shown below:\n",
    "\n",
    "` 1 2 4 6 8 10 11 11 12`"
   ]
  },
  {
   "cell_type": "code",
   "execution_count": 7,
   "id": "cb9b51a5-c55f-42a9-bf89-808ec19fe9a2",
   "metadata": {},
   "outputs": [],
   "source": [
    "from typing import List\n",
    "import heapq as pq"
   ]
  },
  {
   "cell_type": "code",
   "execution_count": 11,
   "id": "10ebd712-7a40-4377-8e6d-760609563c10",
   "metadata": {},
   "outputs": [],
   "source": [
    "def k_minimum_floor(arr: List[List[int]], n: int, k: int) -> int:\n",
    "    min_heap = list()\n",
    "    for i in range(len(arr)):\n",
    "        for j in range(len(arr)):\n",
    "            pq.heappush(min_heap, arr[i][j])\n",
    "    i = 1\n",
    "    while i <= k:\n",
    "        tp = pq.heappop(min_heap)\n",
    "        i += 1\n",
    "    return tp"
   ]
  },
  {
   "cell_type": "code",
   "execution_count": 13,
   "id": "62a93175-7c30-492d-84b0-2933e67f878d",
   "metadata": {},
   "outputs": [
    {
     "name": "stdin",
     "output_type": "stream",
     "text": [
      "Enter the number of elements in the list 3\n",
      "Enter the floor 4\n",
      " 2 5 12\n",
      " 10 12 13\n",
      " 11 16 19\n"
     ]
    },
    {
     "name": "stdout",
     "output_type": "stream",
     "text": [
      "11\n"
     ]
    }
   ],
   "source": [
    "n = int(input(\"Enter the number of elements in the list\"))\n",
    "k = int(input(\"Enter the floor\"))\n",
    "array = [[int(i) for i in input().split()] for i in range(n)]\n",
    "print(k_minimum_floor(array, n, k))"
   ]
  },
  {
   "cell_type": "code",
   "execution_count": null,
   "id": "9cb50f79-30ce-4d5d-a1f7-f15d77453d7d",
   "metadata": {},
   "outputs": [],
   "source": []
  }
 ],
 "metadata": {
  "kernelspec": {
   "display_name": "Python 3 (ipykernel)",
   "language": "python",
   "name": "python3"
  },
  "language_info": {
   "codemirror_mode": {
    "name": "ipython",
    "version": 3
   },
   "file_extension": ".py",
   "mimetype": "text/x-python",
   "name": "python",
   "nbconvert_exporter": "python",
   "pygments_lexer": "ipython3",
   "version": "3.8.1"
  }
 },
 "nbformat": 4,
 "nbformat_minor": 5
}
