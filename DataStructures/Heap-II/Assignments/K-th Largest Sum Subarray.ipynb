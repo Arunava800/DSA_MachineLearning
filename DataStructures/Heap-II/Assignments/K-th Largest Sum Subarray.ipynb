{
 "cells": [
  {
   "cell_type": "markdown",
   "id": "86894e72-5233-47d1-8588-5ca4e12ffcb1",
   "metadata": {},
   "source": [
    "**Problem Statemen**\n",
    "\n",
    "Given an array of integers, find the kth largest sum subarray. For example, given the array [1, -2, 3, -4, 5] and k = 2, the 2nd largest sum subarray  would be [3, -4, 5], which has a sum 4.\n",
    "Please note that a subarray is the sequence of consecutive elements of the array.\n",
    "\n",
    "**_Sample Input:_** \n",
    "2 -> No. of test cases\n",
    "\n",
    "***1st Test Case***\n",
    "\n",
    "3 3 -> No.of.elements, third largest elements\n",
    "\n",
    "3 -2 5 -> No.of. elements\n",
    "\n",
    "***2nd Test Case***\n",
    "\n",
    "2 2\n",
    "\n",
    "4 1\n",
    "\n",
    "**_Sample Output:_**\n",
    "3\n",
    "4\n"
   ]
  },
  {
   "cell_type": "code",
   "execution_count": 2,
   "id": "dc64e2f4-ebe5-44a7-b8a9-466f82f83e62",
   "metadata": {},
   "outputs": [],
   "source": [
    "from typing import List\n",
    "import heapq as pq\n"
   ]
  },
  {
   "cell_type": "code",
   "execution_count": 3,
   "id": "93b7bd0f-572e-4347-ad79-29d8d4cc5a03",
   "metadata": {},
   "outputs": [],
   "source": [
    "class Element: \n",
    "    def __init__(self, value) -> None:\n",
    "        self.value = value\n",
    "        \n",
    "    def __lt__(self, obj: object) -> bool:\n",
    "        return self.value > obj.value\n",
    "        \n",
    "    def __eq__(self, o:object) -> bool:\n",
    "        return self.value == o.value"
   ]
  },
  {
   "cell_type": "code",
   "execution_count": 17,
   "id": "1bf957cb-c78b-45a5-8963-f9a86a9a125d",
   "metadata": {},
   "outputs": [],
   "source": [
    "def get_k_element(arr: List[int], k) -> int:\n",
    "    heap = list()\n",
    "    for i in arr:\n",
    "        pq.heappush(heap, Element(i))\n",
    "    i = 1\n",
    "    while i <= k:\n",
    "        tp:Element = pq.heappop(heap).value\n",
    "        i += 1\n",
    "    return tp"
   ]
  },
  {
   "cell_type": "code",
   "execution_count": 22,
   "id": "db001e05-5fe6-44e5-ad46-21cfeb327c59",
   "metadata": {},
   "outputs": [],
   "source": [
    "def get_kth_largest_element(arr: List[int], k: int) -> int:\n",
    "   \n",
    "    ans = list()\n",
    "    while len(arr) != 0:\n",
    "        i = 0\n",
    "        m = 0\n",
    "        while i < len(arr):\n",
    "            sum_value = 0\n",
    "            for nums in range(i+1):\n",
    "                sum_value += arr[nums]\n",
    "            ans.append(sum_value)\n",
    "            i += 1\n",
    "        m += 1\n",
    "        arr = arr[m:]\n",
    "    num = get_k_element(ans,k)\n",
    "    return num"
   ]
  },
  {
   "cell_type": "code",
   "execution_count": 23,
   "id": "9b5e93a2-d8b3-450a-b1c8-5a2fc7036c7b",
   "metadata": {},
   "outputs": [
    {
     "name": "stdin",
     "output_type": "stream",
     "text": [
      "Enter the value of k 3\n",
      " 3 -2 5\n"
     ]
    },
    {
     "name": "stdout",
     "output_type": "stream",
     "text": [
      "3\n"
     ]
    }
   ],
   "source": [
    "n = int(input(\"Enter the value of k\"))\n",
    "array = list(map(int, input().split()))\n",
    "print(get_kth_largest_element(array, n))"
   ]
  },
  {
   "cell_type": "code",
   "execution_count": null,
   "id": "0dccf6ba-5e60-4381-a616-4625cd2feab0",
   "metadata": {},
   "outputs": [],
   "source": []
  }
 ],
 "metadata": {
  "kernelspec": {
   "display_name": "Python 3 (ipykernel)",
   "language": "python",
   "name": "python3"
  },
  "language_info": {
   "codemirror_mode": {
    "name": "ipython",
    "version": 3
   },
   "file_extension": ".py",
   "mimetype": "text/x-python",
   "name": "python",
   "nbconvert_exporter": "python",
   "pygments_lexer": "ipython3",
   "version": "3.8.1"
  }
 },
 "nbformat": 4,
 "nbformat_minor": 5
}
