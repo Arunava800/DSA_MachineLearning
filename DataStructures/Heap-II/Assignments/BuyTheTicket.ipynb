{
 "cells": [
  {
   "cell_type": "markdown",
   "id": "966ad8aa-896b-49ca-876e-ed5e1ac7fdca",
   "metadata": {},
   "source": [
    "**Problem Statement:** \n",
    "\n",
    "You want to buy a ticket for a well-known concert which is happening in your city. But the number of ticket available is limited.\n",
    "Hence the sponsors of the concert decided to sell the tickets to customer based on some priority. A queue is maintained for buying the tickets and every person is attached with a priority( an integer, 1 being the lowest priority). The tickets are sold in the following manner:\n",
    "\n",
    "1. The first person (Pi) in the queue request for the ticket.\n",
    "2. If there is a person present in the queue who has higher priority than Pi, then ask Pi to move at the end of the queue without giving him the ticket.\n",
    "3. Otherwise, give him the ticket(and don't make him stand in the queue again).\n",
    "\n",
    "Giving the ticket to a person takes exactly 1 second and it takes no time for removing and adding a person to the queue. And you can assume that no new person joins the queue.\n",
    "Given a list of priorities of `N` persons standing in the queue and the index of your priority (indexing starts from 0). Find and return the time it will take until you get the ticket.\n",
    "\n",
    "**_sample input_**\n",
    "3\n",
    "3 9 4\n",
    "2\n",
    "\n",
    "**_Sample Output_**\n",
    "2\n",
    "\n",
    "Person with priority 3 comes out. But there is a person with higher priority than him. So he goes and then stands in the queue at the end. Queue's Status: {9, 4, 3}. Time: 0 sec\n",
    "Next, the person with priority 9 comes out. And there is no person with higher priority than him. So he will get the ticket. Queue's status:{4, 3}. Time: 1 sec.\n",
    "\n",
    "Next, the person with priority 4 comes out (which is you). And there is no person with higher priority than you. So you will get the tickets. Time: 2 sec."
   ]
  },
  {
   "cell_type": "code",
   "execution_count": 1,
   "id": "9877db4f-2cf4-4276-ad18-429700232349",
   "metadata": {},
   "outputs": [],
   "source": [
    "from sys import stdin\n",
    "import sys\n",
    "import heapq as heap"
   ]
  },
  {
   "cell_type": "code",
   "execution_count": 2,
   "id": "f587dff2-7056-4ace-a7a7-65b424063870",
   "metadata": {},
   "outputs": [],
   "source": [
    "class LinkedListNode:\n",
    "    def __init__(self, data):\n",
    "        self.data = data\n",
    "        self.next = None"
   ]
  },
  {
   "cell_type": "code",
   "execution_count": 5,
   "id": "d4c274b7-e7c9-4d13-8f9c-91197ebff7f4",
   "metadata": {},
   "outputs": [],
   "source": [
    "class Queue:\n",
    "    def __init__(self):\n",
    "        self.head = None\n",
    "        self.tail = None\n",
    "        self.size = 0\n",
    "        \n",
    "    def enqueue(self, data):\n",
    "        newNode = LinkedListNode(data)\n",
    "        if self.head is None:\n",
    "            self.head = self.tail = newNode\n",
    "        else:\n",
    "            self.tail.next = newNode\n",
    "            self.tail = newNode\n",
    "        self.size += 1\n",
    "        return\n",
    "\n",
    "    def dequeue(self):\n",
    "        if self.head is None:\n",
    "            return None\n",
    "        data = self.head.data\n",
    "        self.head = self.head.next\n",
    "        self.size -= 1\n",
    "        return data\n",
    "\n",
    "    def getSize(self):\n",
    "        return self.size\n",
    "\n",
    "    def isEmpty(self):\n",
    "        if self.head is None:\n",
    "            return True\n",
    "        return False\n",
    "\n",
    "    def peek(self):\n",
    "        if self.head is None:\n",
    "            return None\n",
    "        return self.head.data\n",
    "\n",
    "    def print_queue(self):\n",
    "        head = self.head\n",
    "        while True:\n",
    "           if head.data != self.tail.data:\n",
    "               print(head.data)\n",
    "           else:\n",
    "               print(tail.data)\n",
    "               break\n",
    "        "
   ]
  },
  {
   "cell_type": "code",
   "execution_count": null,
   "id": "a989a538-2484-4bba-bf1d-cc1eb4c74f90",
   "metadata": {},
   "outputs": [],
   "source": [
    "class Element:\n",
    "    def __init__(self, value: int) -> None:\n",
    "        self.value = value\n",
    "    def __lt__(self, o: object) -> bool:\n",
    "        return self.value > o.object\n",
    "    def __eq__(self, obj: object) -> bool: \n",
    "        return self.value == obj.value"
   ]
  },
  {
   "cell_type": "code",
   "execution_count": 10,
   "id": "b8960def-fada-43db-947b-01b3e9ff3fea",
   "metadata": {},
   "outputs": [],
   "source": [
    "def buyTicket(arr, n, k):\n",
    "    q = Queue()\n",
    "    if q\n"
   ]
  },
  {
   "cell_type": "code",
   "execution_count": 6,
   "id": "f86ac0eb-c762-4059-8be4-9d09b22012a4",
   "metadata": {},
   "outputs": [],
   "source": [
    "def takeInput():\n",
    "    n = int(input())\n",
    "    if n == 0:\n",
    "        return n, list(), int(stdin.readline().strip())\n",
    "    arr = list(map(int, input().split()))\n",
    "    k = int(input())\n",
    "    return n, arr, k"
   ]
  },
  {
   "cell_type": "code",
   "execution_count": 7,
   "id": "4e8aadcf-7b40-4855-ab06-121ca654b773",
   "metadata": {},
   "outputs": [
    {
     "name": "stdin",
     "output_type": "stream",
     "text": [
      " 3\n",
      " 3 9 4\n",
      " 3\n"
     ]
    },
    {
     "ename": "NameError",
     "evalue": "name 'head' is not defined",
     "output_type": "error",
     "traceback": [
      "\u001b[1;31m---------------------------------------------------------------------------\u001b[0m",
      "\u001b[1;31mNameError\u001b[0m                                 Traceback (most recent call last)",
      "Cell \u001b[1;32mIn[7], line 3\u001b[0m\n\u001b[0;32m      1\u001b[0m sys\u001b[38;5;241m.\u001b[39msetrecursionlimit(\u001b[38;5;241m10\u001b[39m\u001b[38;5;241m*\u001b[39m\u001b[38;5;241m*\u001b[39m\u001b[38;5;241m6\u001b[39m)\n\u001b[0;32m      2\u001b[0m n, arr, k \u001b[38;5;241m=\u001b[39m takeInput()\n\u001b[1;32m----> 3\u001b[0m \u001b[38;5;28mprint\u001b[39m(\u001b[43mbuyTicket\u001b[49m\u001b[43m(\u001b[49m\u001b[43marr\u001b[49m\u001b[43m,\u001b[49m\u001b[43m \u001b[49m\u001b[43mn\u001b[49m\u001b[43m,\u001b[49m\u001b[43m \u001b[49m\u001b[43mk\u001b[49m\u001b[43m)\u001b[49m)\n",
      "Cell \u001b[1;32mIn[5], line 4\u001b[0m, in \u001b[0;36mbuyTicket\u001b[1;34m(arr, n, k)\u001b[0m\n\u001b[0;32m      2\u001b[0m q \u001b[38;5;241m=\u001b[39m Queue()\n\u001b[0;32m      3\u001b[0m \u001b[38;5;28;01mfor\u001b[39;00m i \u001b[38;5;129;01min\u001b[39;00m arr:\n\u001b[1;32m----> 4\u001b[0m     \u001b[43mq\u001b[49m\u001b[38;5;241;43m.\u001b[39;49m\u001b[43menqueue\u001b[49m\u001b[43m(\u001b[49m\u001b[43mi\u001b[49m\u001b[43m)\u001b[49m\n\u001b[0;32m      5\u001b[0m q\u001b[38;5;241m.\u001b[39mprint_queue()\n",
      "Cell \u001b[1;32mIn[4], line 15\u001b[0m, in \u001b[0;36mQueue.enqueue\u001b[1;34m(self, data)\u001b[0m\n\u001b[0;32m     13\u001b[0m     \u001b[38;5;28mself\u001b[39m\u001b[38;5;241m.\u001b[39mtail \u001b[38;5;241m=\u001b[39m newNode\n\u001b[0;32m     14\u001b[0m \u001b[38;5;28mself\u001b[39m\u001b[38;5;241m.\u001b[39msize \u001b[38;5;241m+\u001b[39m\u001b[38;5;241m=\u001b[39m \u001b[38;5;241m1\u001b[39m\n\u001b[1;32m---> 15\u001b[0m \u001b[38;5;28;01mreturn\u001b[39;00m \u001b[43mhead\u001b[49m\n",
      "\u001b[1;31mNameError\u001b[0m: name 'head' is not defined"
     ]
    }
   ],
   "source": [
    "sys.setrecursionlimit(10**6)\n",
    "n, arr, k = takeInput()\n",
    "print(buyTicket(arr, n, k))"
   ]
  },
  {
   "cell_type": "code",
   "execution_count": null,
   "id": "35280da4-558d-4407-8aa6-c074248e22a9",
   "metadata": {},
   "outputs": [],
   "source": []
  },
  {
   "cell_type": "code",
   "execution_count": null,
   "id": "02da7f3d-a764-4b0b-bc73-e3989a25ed00",
   "metadata": {},
   "outputs": [],
   "source": []
  },
  {
   "cell_type": "code",
   "execution_count": null,
   "id": "561d8c70-cfa7-412d-82ae-b1c921355900",
   "metadata": {},
   "outputs": [],
   "source": []
  }
 ],
 "metadata": {
  "kernelspec": {
   "display_name": "Python 3 (ipykernel)",
   "language": "python",
   "name": "python3"
  },
  "language_info": {
   "codemirror_mode": {
    "name": "ipython",
    "version": 3
   },
   "file_extension": ".py",
   "mimetype": "text/x-python",
   "name": "python",
   "nbconvert_exporter": "python",
   "pygments_lexer": "ipython3",
   "version": "3.8.1"
  }
 },
 "nbformat": 4,
 "nbformat_minor": 5
}
