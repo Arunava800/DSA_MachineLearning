{
 "cells": [
  {
   "cell_type": "markdown",
   "id": "39fb3b23-be65-4ea0-8664-070eab30548b",
   "metadata": {},
   "source": [
    "**Problem Statement**\n",
    "\n",
    "Given an array of integers, check whether it represents max-heap or not. Return true if the given array represents max-heap, else return False.\n",
    "\n",
    "**_Sample Input:_**\n",
    "8\n",
    "42 20 18 6 14 11 9 4\n",
    "\n",
    "**_Sample Output:_**\n",
    "True"
   ]
  },
  {
   "cell_type": "code",
   "execution_count": 1,
   "id": "2dd5c74c-bd9d-4245-8cdd-cf97faef458c",
   "metadata": {},
   "outputs": [],
   "source": [
    "from typing import List"
   ]
  },
  {
   "cell_type": "code",
   "execution_count": 12,
   "id": "c1488c98-c395-4d92-8a07-f1cc6701f92b",
   "metadata": {},
   "outputs": [],
   "source": [
    "def check_max_heap(arr: List[int]) -> bool:\n",
    "    for i in range(len(arr)):\n",
    "        parent = i\n",
    "        left = (2*i) + 1\n",
    "        right = (2*i) + 2\n",
    "        if left < len(arr):\n",
    "            if right < len(arr):\n",
    "                if arr [parent] < arr[left] or arr[parent] < arr[right]:\n",
    "                    return False\n",
    "            else:\n",
    "                if arr[parent] < arr[left]:\n",
    "                    return False\n",
    "    return True"
   ]
  },
  {
   "cell_type": "code",
   "execution_count": 13,
   "id": "9d92a5f3-bb48-4e8d-b817-228e5598ab62",
   "metadata": {},
   "outputs": [
    {
     "name": "stdin",
     "output_type": "stream",
     "text": [
      " 8\n",
      " 10 9 8 7 6 5 4 3 2 7\n"
     ]
    },
    {
     "name": "stdout",
     "output_type": "stream",
     "text": [
      "false\n"
     ]
    }
   ],
   "source": [
    "n = int(input())\n",
    "lst = list(int(i) for i in input().strip().split())\n",
    "print('true') if check_max_heap(lst) else print ('false')"
   ]
  },
  {
   "cell_type": "code",
   "execution_count": null,
   "id": "2fbb3fbb-86e2-4b40-83ad-0596fcb84e6f",
   "metadata": {},
   "outputs": [],
   "source": []
  }
 ],
 "metadata": {
  "kernelspec": {
   "display_name": "Python 3 (ipykernel)",
   "language": "python",
   "name": "python3"
  },
  "language_info": {
   "codemirror_mode": {
    "name": "ipython",
    "version": 3
   },
   "file_extension": ".py",
   "mimetype": "text/x-python",
   "name": "python",
   "nbconvert_exporter": "python",
   "pygments_lexer": "ipython3",
   "version": "3.8.1"
  }
 },
 "nbformat": 4,
 "nbformat_minor": 5
}
