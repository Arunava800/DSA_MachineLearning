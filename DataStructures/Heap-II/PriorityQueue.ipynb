{
 "cells": [
  {
   "cell_type": "code",
   "execution_count": 1,
   "id": "d8f37a06-1fe0-4842-83e1-887e5440c83f",
   "metadata": {},
   "outputs": [],
   "source": [
    "import heapq as pq"
   ]
  },
  {
   "cell_type": "code",
   "execution_count": 7,
   "id": "011e92b8-2172-484e-8959-10d27535f970",
   "metadata": {},
   "outputs": [],
   "source": [
    "class PriorityQueue:\n",
    "    def __init__(self):\n",
    "        self.queue = list()\n",
    "        self.index = 0\n",
    "    def push(self, priority, item):\n",
    "        pq.heappush(self.queue,(priority, self.index, item))\n",
    "        self.index += 1\n",
    "    def pop(self):\n",
    "        return pq.heappop(self.queue)[-1]\n",
    "    def is_empty(self):\n",
    "        return len(self.queue) == 0\n",
    "    def __len__(self):\n",
    "        return len(self.queue)"
   ]
  },
  {
   "cell_type": "code",
   "execution_count": 9,
   "id": "b2daf6e0-8c8b-4e5c-8386-cfd65951e7ec",
   "metadata": {},
   "outputs": [
    {
     "name": "stdout",
     "output_type": "stream",
     "text": [
      "Task2\n",
      "Task3\n",
      "Task1\n"
     ]
    }
   ],
   "source": [
    "pqq = PriorityQueue()\n",
    "pqq.push(3, 'Task1')\n",
    "pqq.push(1, 'Task2')\n",
    "pqq.push(2, 'Task3')\n",
    "while not pqq.is_empty():\n",
    "    print(pqq.pop())"
   ]
  },
  {
   "cell_type": "code",
   "execution_count": null,
   "id": "f4a19891-a814-426c-8ed7-d2ab3f41b106",
   "metadata": {},
   "outputs": [],
   "source": []
  }
 ],
 "metadata": {
  "kernelspec": {
   "display_name": "Python 3 (ipykernel)",
   "language": "python",
   "name": "python3"
  },
  "language_info": {
   "codemirror_mode": {
    "name": "ipython",
    "version": 3
   },
   "file_extension": ".py",
   "mimetype": "text/x-python",
   "name": "python",
   "nbconvert_exporter": "python",
   "pygments_lexer": "ipython3",
   "version": "3.8.1"
  }
 },
 "nbformat": 4,
 "nbformat_minor": 5
}
