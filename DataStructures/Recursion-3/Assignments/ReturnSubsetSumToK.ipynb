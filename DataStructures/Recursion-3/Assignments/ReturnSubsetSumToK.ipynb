{
 "cells": [
  {
   "cell_type": "markdown",
   "id": "a0ce1b34-88f2-4fed-8260-e1a4c3bd215c",
   "metadata": {},
   "source": [
    "**Problem Statement** Given an array of size `n` and integer `k`, return all subsets of `A` which sums to `k`. Subsets are of length varying from 0 to `n`, that contains elements of the array. But the order of the elements should remain same as in the input array.\n",
    "\n",
    "**Note** The order of the subsets are not important.\n",
    "\n",
    "**Sample Input** \n",
    "9\n",
    "\n",
    "5 12 3 17 1 18 5 3 17\n",
    "\n",
    "6\n",
    "\n",
    "**Sample Output:**\n",
    "\n",
    "3 3\n",
    "\n",
    "5 1"
   ]
  },
  {
   "cell_type": "code",
   "execution_count": null,
   "id": "bf51a013-edf6-4e38-8739-10314b8a1595",
   "metadata": {},
   "outputs": [],
   "source": [
    "def subsetsSum(arr, k):\n",
    "    output = list()\n",
    "    "
   ]
  }
 ],
 "metadata": {
  "kernelspec": {
   "display_name": "Python 3 (ipykernel)",
   "language": "python",
   "name": "python3"
  },
  "language_info": {
   "codemirror_mode": {
    "name": "ipython",
    "version": 3
   },
   "file_extension": ".py",
   "mimetype": "text/x-python",
   "name": "python",
   "nbconvert_exporter": "python",
   "pygments_lexer": "ipython3",
   "version": "3.8.1"
  }
 },
 "nbformat": 4,
 "nbformat_minor": 5
}
