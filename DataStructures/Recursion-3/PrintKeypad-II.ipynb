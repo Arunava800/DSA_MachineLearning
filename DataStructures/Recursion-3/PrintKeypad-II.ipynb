{
 "cells": [
  {
   "cell_type": "markdown",
   "id": "4c945f98-f90c-4517-a348-b77761f967ac",
   "metadata": {},
   "source": [
    "**Problem Statement**  Given an integer `n`, using phone keypad, find out and print all the possible strings that can be made using digits of input `n`"
   ]
  },
  {
   "cell_type": "code",
   "execution_count": 1,
   "id": "07cb01ad-d166-4b19-852b-5a78f6628a9d",
   "metadata": {},
   "outputs": [
    {
     "name": "stdin",
     "output_type": "stream",
     "text": [
      " 234\n"
     ]
    },
    {
     "name": "stdout",
     "output_type": "stream",
     "text": [
      "adg\n",
      "bdg\n",
      "cdg\n",
      "aeg\n",
      "beg\n",
      "ceg\n",
      "afg\n",
      "bfg\n",
      "cfg\n",
      "adh\n",
      "bdh\n",
      "cdh\n",
      "aeh\n",
      "beh\n",
      "ceh\n",
      "afh\n",
      "bfh\n",
      "cfh\n",
      "adi\n",
      "bdi\n",
      "cdi\n",
      "aei\n",
      "bei\n",
      "cei\n",
      "afi\n",
      "bfi\n",
      "cfi\n"
     ]
    }
   ],
   "source": [
    "from math import *\n",
    "from collections import *\n",
    "from sys import *\n",
    "from os import *\n",
    "\n",
    "## Read input as specified in the question.\n",
    "## Print output as specified in the question.\n",
    "\n",
    "def getString(d):\n",
    "    if d == 2:\n",
    "        return \"abc\"\n",
    "    if d == 3:\n",
    "        return \"def\"\n",
    "    if d == 4:\n",
    "        return \"ghi\"\n",
    "    if d == 5:\n",
    "        return \"jkl\"\n",
    "    if d == 6:\n",
    "        return \"mno\"\n",
    "    if d == 7:\n",
    "        return \"pqrs\"\n",
    "    if d == 8:\n",
    "        return \"tuv\"\n",
    "    if d == 9:\n",
    "        return \"wxyz\"\n",
    "    return \"\"\n",
    "\n",
    "\n",
    "\n",
    "def printKeypad(n, outputSoFar):\n",
    "    if n == 0:\n",
    "        print(outputSoFar)\n",
    "        return\n",
    "    smallNumber = n //10\n",
    "    lastdigit = n % 10\n",
    "    optionsForLastDigit = getString(lastdigit)\n",
    "    for c in optionsForLastDigit:\n",
    "        newOutput = c + outputSoFar\n",
    "        printKeypad(smallNumber, newOutput)\n",
    "\n",
    "\n",
    "n = int(input())\n",
    "printKeypad(n,\"\")"
   ]
  },
  {
   "cell_type": "code",
   "execution_count": null,
   "id": "33fc2c11-0fa4-4062-90be-827cac28c6a1",
   "metadata": {},
   "outputs": [],
   "source": []
  }
 ],
 "metadata": {
  "kernelspec": {
   "display_name": "Python 3 (ipykernel)",
   "language": "python",
   "name": "python3"
  },
  "language_info": {
   "codemirror_mode": {
    "name": "ipython",
    "version": 3
   },
   "file_extension": ".py",
   "mimetype": "text/x-python",
   "name": "python",
   "nbconvert_exporter": "python",
   "pygments_lexer": "ipython3",
   "version": "3.8.1"
  }
 },
 "nbformat": 4,
 "nbformat_minor": 5
}
