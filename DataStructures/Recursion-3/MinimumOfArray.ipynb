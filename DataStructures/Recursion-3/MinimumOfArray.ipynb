{
 "cells": [
  {
   "cell_type": "code",
   "execution_count": 1,
   "id": "8ea50cfc-c8a3-49e8-995c-c8299113533b",
   "metadata": {},
   "outputs": [],
   "source": [
    "def minList(l):\n",
    "    if len(l) == 1:\n",
    "        return l[0]\n",
    "    min_small_array = minList(l[1:])\n",
    "    overall_min = min(min_small_array, l[0])\n",
    "    return overall_min"
   ]
  },
  {
   "cell_type": "code",
   "execution_count": 2,
   "id": "3fb001eb-10ce-40d2-982e-e66bbddc419c",
   "metadata": {},
   "outputs": [],
   "source": [
    "def printMin(l, minSoFar = 1000000):\n",
    "    if len(l) == 0:\n",
    "        print(minSoFar)\n",
    "        return\n",
    "    newMin = min(minSoFar, l[0])\n",
    "    printMin(l[1:], newMin)\n"
   ]
  },
  {
   "cell_type": "code",
   "execution_count": 3,
   "id": "5323ac13-63f0-45a5-939a-6f49cf8ede8b",
   "metadata": {},
   "outputs": [
    {
     "name": "stdout",
     "output_type": "stream",
     "text": [
      "-3\n"
     ]
    }
   ],
   "source": [
    "printMin([1,2,3,4,0,-1,-2,-3,5,6])"
   ]
  },
  {
   "cell_type": "code",
   "execution_count": null,
   "id": "7d2c3b25-f02f-4ad1-a0e5-b2a52b51dc66",
   "metadata": {},
   "outputs": [],
   "source": []
  }
 ],
 "metadata": {
  "kernelspec": {
   "display_name": "Python 3 (ipykernel)",
   "language": "python",
   "name": "python3"
  },
  "language_info": {
   "codemirror_mode": {
    "name": "ipython",
    "version": 3
   },
   "file_extension": ".py",
   "mimetype": "text/x-python",
   "name": "python",
   "nbconvert_exporter": "python",
   "pygments_lexer": "ipython3",
   "version": "3.8.1"
  }
 },
 "nbformat": 4,
 "nbformat_minor": 5
}
