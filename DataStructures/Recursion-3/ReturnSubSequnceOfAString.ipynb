{
 "cells": [
  {
   "cell_type": "markdown",
   "id": "50f6a7d9-03dc-4ad6-8df4-fd1f5ca63ab8",
   "metadata": {},
   "source": [
    "**Problem Statement:** Given a string, return all the subsequences of the given string. \n",
    "Subsequences contains all the strings of length varying from 0 to n. But the order of the character should remain the same as in the input string.\n",
    "\n",
    "Note: The order of the subsequences are not important.\n",
    "\n",
    "**_Sample Input:_** abc\n",
    "\n",
    "**_Sample Output:_**\n",
    "c\n",
    "\n",
    "b\n",
    "\n",
    "bc\n",
    "\n",
    "a\n",
    "\n",
    "ac\n",
    "\n",
    "ab\n",
    "\n",
    "abc"
   ]
  },
  {
   "cell_type": "code",
   "execution_count": 1,
   "id": "d96d3bd4-0f1b-4ae6-8c13-f853d8073c72",
   "metadata": {},
   "outputs": [],
   "source": [
    "from typing import List"
   ]
  },
  {
   "cell_type": "code",
   "execution_count": 2,
   "id": "96a54baf-16ad-45a5-b423-fd48ad642b0a",
   "metadata": {},
   "outputs": [],
   "source": [
    "def subsequence(string: str) -> List:\n",
    "    if len(string) == 0:\n",
    "        output = []\n",
    "        output.append(\"\")\n",
    "        return output\n",
    "    smaller_string = string[1:]\n",
    "    smaller_output = subsequence(smaller_string)\n",
    "    output = []\n",
    "    for sub in smaller_output:\n",
    "        output.append(sub)\n",
    "    for sub in smaller_output:\n",
    "        sub_with_zero_character = string[0]  + sub\n",
    "        output.append(sub_with_zero_character)\n",
    "    return output\n",
    "    "
   ]
  },
  {
   "cell_type": "code",
   "execution_count": 3,
   "id": "e0592374-9609-4c00-bd62-c5ee539979b1",
   "metadata": {},
   "outputs": [
    {
     "name": "stdin",
     "output_type": "stream",
     "text": [
      " abc\n"
     ]
    },
    {
     "data": {
      "text/plain": [
       "['', 'c', 'b', 'bc', 'a', 'ac', 'ab', 'abc']"
      ]
     },
     "execution_count": 3,
     "metadata": {},
     "output_type": "execute_result"
    }
   ],
   "source": [
    "string = input()\n",
    "subsequence(string)"
   ]
  },
  {
   "cell_type": "code",
   "execution_count": null,
   "id": "f034e427-c4cb-4fb4-93be-6c5c8d8484b1",
   "metadata": {},
   "outputs": [],
   "source": []
  }
 ],
 "metadata": {
  "kernelspec": {
   "display_name": "Python 3 (ipykernel)",
   "language": "python",
   "name": "python3"
  },
  "language_info": {
   "codemirror_mode": {
    "name": "ipython",
    "version": 3
   },
   "file_extension": ".py",
   "mimetype": "text/x-python",
   "name": "python",
   "nbconvert_exporter": "python",
   "pygments_lexer": "ipython3",
   "version": "3.8.1"
  }
 },
 "nbformat": 4,
 "nbformat_minor": 5
}
