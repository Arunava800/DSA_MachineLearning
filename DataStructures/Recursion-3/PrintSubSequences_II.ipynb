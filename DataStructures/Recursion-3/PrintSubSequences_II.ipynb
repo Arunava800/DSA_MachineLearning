{
 "cells": [
  {
   "cell_type": "markdown",
   "id": "9da2bcea-bae8-48df-86cf-3d4a7777b4c4",
   "metadata": {},
   "source": [
    "**Problem Statement** Given a string (let say length n), print subsequences of the given string. \n",
    "Subsequences contains all the strings of length varying from 0 to n. But the order of chracter should remain as the input string.\n",
    "Note: The order of the subsequence is not important. print every subsequence in the new line"
   ]
  },
  {
   "cell_type": "code",
   "execution_count": 1,
   "id": "162d7462-76f8-4467-b07c-ef2980dce4ac",
   "metadata": {},
   "outputs": [],
   "source": [
    "def printSub(s, output):\n",
    "    if len(s) == 0:\n",
    "        print(output)\n",
    "        return\n",
    "    printSub(s[1:], output)\n",
    "    newOutput = output + s [0]\n",
    "    printSub(s[1:], newOutput)"
   ]
  },
  {
   "cell_type": "code",
   "execution_count": null,
   "id": "0f2b37e5-0f59-4270-83fd-2cb8a21e4c09",
   "metadata": {},
   "outputs": [],
   "source": [
    "print(\"abc\",\"\")"
   ]
  }
 ],
 "metadata": {
  "kernelspec": {
   "display_name": "Python 3 (ipykernel)",
   "language": "python",
   "name": "python3"
  },
  "language_info": {
   "codemirror_mode": {
    "name": "ipython",
    "version": 3
   },
   "file_extension": ".py",
   "mimetype": "text/x-python",
   "name": "python",
   "nbconvert_exporter": "python",
   "pygments_lexer": "ipython3",
   "version": "3.8.1"
  }
 },
 "nbformat": 4,
 "nbformat_minor": 5
}
