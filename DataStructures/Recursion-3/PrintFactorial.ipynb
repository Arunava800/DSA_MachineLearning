{
 "cells": [
  {
   "cell_type": "code",
   "execution_count": 1,
   "id": "a032d40c-08f3-4680-ba33-d864acc3b615",
   "metadata": {},
   "outputs": [],
   "source": [
    "def printFactorial(n, ans):\n",
    "    if n == 0:\n",
    "        print(ans)\n",
    "        return\n",
    "    ans = ans * n\n",
    "    printFactorial(n-1, ans)"
   ]
  },
  {
   "cell_type": "code",
   "execution_count": 2,
   "id": "dbce3e6f-0fac-47f0-b521-2baf6ad23ef9",
   "metadata": {},
   "outputs": [
    {
     "name": "stdout",
     "output_type": "stream",
     "text": [
      "120\n"
     ]
    }
   ],
   "source": [
    "printFactorial(5, 1)"
   ]
  },
  {
   "cell_type": "code",
   "execution_count": null,
   "id": "b6cac97e-1b5f-4962-9ee5-eaf6e6f01dbb",
   "metadata": {},
   "outputs": [],
   "source": []
  }
 ],
 "metadata": {
  "kernelspec": {
   "display_name": "Python 3 (ipykernel)",
   "language": "python",
   "name": "python3"
  },
  "language_info": {
   "codemirror_mode": {
    "name": "ipython",
    "version": 3
   },
   "file_extension": ".py",
   "mimetype": "text/x-python",
   "name": "python",
   "nbconvert_exporter": "python",
   "pygments_lexer": "ipython3",
   "version": "3.8.1"
  }
 },
 "nbformat": 4,
 "nbformat_minor": 5
}
