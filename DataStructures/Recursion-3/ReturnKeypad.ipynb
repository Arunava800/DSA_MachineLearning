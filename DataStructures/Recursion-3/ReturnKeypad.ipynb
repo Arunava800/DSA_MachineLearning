{
 "cells": [
  {
   "cell_type": "markdown",
   "id": "61888016-b0e9-4f34-8a5e-2b7a19b44163",
   "metadata": {},
   "source": [
    "**Problem Statement**\n",
    "\n",
    "Given an integer `n`, using phone keypad find out and return all the possible strings that can be made using digits input `n`.\n",
    "Note: The order of the strings are not important.\n",
    "\n",
    "**_Sample Input:_**\n",
    "\n",
    "23\n",
    "\n",
    "**_Sample Output:_**\n",
    "\n",
    "ad, ae, af, bd, be, bf, cd, ce, cf"
   ]
  },
  {
   "cell_type": "code",
   "execution_count": 30,
   "id": "77f4cf13-2874-4ca9-a487-b40f7b502139",
   "metadata": {},
   "outputs": [],
   "source": [
    "def get_string(d):\n",
    "    if d == 2:\n",
    "        return \"abc\"\n",
    "    if d == 3:\n",
    "        return \"def\"\n",
    "    if d == 4:\n",
    "        return \"ghi\"\n",
    "    if d == 5:\n",
    "        return \"jkl\"\n",
    "    if d == 6:\n",
    "        return \"mno\"\n",
    "    if d == 7:\n",
    "        return \"pqrs\"\n",
    "    if d == 8:\n",
    "        return \"tuv\"\n",
    "    if d == 9:\n",
    "        return \"wxyz\"\n",
    "    return \" \""
   ]
  },
  {
   "cell_type": "code",
   "execution_count": 33,
   "id": "6f3b0cf1-49b3-4d4a-adfa-59d2aa0b5903",
   "metadata": {},
   "outputs": [],
   "source": [
    "def keypad(n):\n",
    "    if n == 0:\n",
    "        output = []\n",
    "        output.append(\"\")\n",
    "        return output\n",
    "    smaller_number = n // 10\n",
    "    last_digit = n % 10\n",
    "    smaller_output = keypad(smaller_number)\n",
    "    options_for_last_digit = get_string(last_digit)\n",
    "    output = []\n",
    "    for s in smaller_output:\n",
    "        for c in options_for_last_digit:\n",
    "            option = s + c\n",
    "            output.append(option)\n",
    "    return output\n",
    "    "
   ]
  },
  {
   "cell_type": "code",
   "execution_count": 34,
   "id": "95a82bcb-b54a-42f2-a199-86adcba0ffdc",
   "metadata": {},
   "outputs": [
    {
     "name": "stdin",
     "output_type": "stream",
     "text": [
      "Enter the keys:  237\n"
     ]
    },
    {
     "name": "stdout",
     "output_type": "stream",
     "text": [
      "adp\n",
      "adq\n",
      "adr\n",
      "ads\n",
      "aep\n",
      "aeq\n",
      "aer\n",
      "aes\n",
      "afp\n",
      "afq\n",
      "afr\n",
      "afs\n",
      "bdp\n",
      "bdq\n",
      "bdr\n",
      "bds\n",
      "bep\n",
      "beq\n",
      "ber\n",
      "bes\n",
      "bfp\n",
      "bfq\n",
      "bfr\n",
      "bfs\n",
      "cdp\n",
      "cdq\n",
      "cdr\n",
      "cds\n",
      "cep\n",
      "ceq\n",
      "cer\n",
      "ces\n",
      "cfp\n",
      "cfq\n",
      "cfr\n",
      "cfs\n"
     ]
    }
   ],
   "source": [
    "n = int(input(\"Enter the keys: \"))\n",
    "ans = keypad(n)\n",
    "for s in ans:\n",
    "    print(s)"
   ]
  },
  {
   "cell_type": "code",
   "execution_count": null,
   "id": "a037a012-809e-44d4-a9bc-a915dda6ea74",
   "metadata": {},
   "outputs": [],
   "source": []
  },
  {
   "cell_type": "code",
   "execution_count": null,
   "id": "073131db-1ab2-4d4c-b680-1c35e4c453b3",
   "metadata": {},
   "outputs": [],
   "source": []
  }
 ],
 "metadata": {
  "kernelspec": {
   "display_name": "Python 3 (ipykernel)",
   "language": "python",
   "name": "python3"
  },
  "language_info": {
   "codemirror_mode": {
    "name": "ipython",
    "version": 3
   },
   "file_extension": ".py",
   "mimetype": "text/x-python",
   "name": "python",
   "nbconvert_exporter": "python",
   "pygments_lexer": "ipython3",
   "version": "3.8.1"
  }
 },
 "nbformat": 4,
 "nbformat_minor": 5
}
