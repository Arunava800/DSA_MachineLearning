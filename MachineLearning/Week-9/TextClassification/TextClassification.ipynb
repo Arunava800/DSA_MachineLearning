{
 "cells": [
  {
   "cell_type": "code",
   "execution_count": 1,
   "id": "a7180d10-62bd-4647-8b50-b52391edf02d",
   "metadata": {},
   "outputs": [],
   "source": [
    "from sklearn.datasets import fetch_20newsgroups"
   ]
  },
  {
   "cell_type": "code",
   "execution_count": 2,
   "id": "585a7102-08d4-4e04-b90d-688ee891c2f7",
   "metadata": {},
   "outputs": [
    {
     "data": {
      "text/plain": [
       "['alt.atheism',\n",
       " 'comp.graphics',\n",
       " 'comp.os.ms-windows.misc',\n",
       " 'comp.sys.ibm.pc.hardware',\n",
       " 'comp.sys.mac.hardware',\n",
       " 'comp.windows.x',\n",
       " 'misc.forsale',\n",
       " 'rec.autos',\n",
       " 'rec.motorcycles',\n",
       " 'rec.sport.baseball',\n",
       " 'rec.sport.hockey',\n",
       " 'sci.crypt',\n",
       " 'sci.electronics',\n",
       " 'sci.med',\n",
       " 'sci.space',\n",
       " 'soc.religion.christian',\n",
       " 'talk.politics.guns',\n",
       " 'talk.politics.mideast',\n",
       " 'talk.politics.misc',\n",
       " 'talk.religion.misc']"
      ]
     },
     "execution_count": 2,
     "metadata": {},
     "output_type": "execute_result"
    }
   ],
   "source": [
    "news = fet"
   ]
  },
  {
   "cell_type": "code",
   "execution_count": 3,
   "id": "c9da0139-76c1-4a74-aabb-4a87841276be",
   "metadata": {},
   "outputs": [
    {
     "data": {
      "text/plain": [
       "\"NLTK's list of english stopwords.txt\""
      ]
     },
     "execution_count": 3,
     "metadata": {},
     "output_type": "execute_result"
    }
   ],
   "source": [
    "for index, word in enumerate(os.listdir(filepath)):\n",
    "    if 'stopwords' in word:\n",
    "        stop_file_name = os.listdir(filepath)[index]\n",
    "stop_file_name"
   ]
  },
  {
   "cell_type": "code",
   "execution_count": 4,
   "id": "8158c6c7-23d5-4718-b76f-f1a61da818cf",
   "metadata": {},
   "outputs": [
    {
     "data": {
      "text/plain": [
       "\"E:/CodingNinjas/MachineLearning/Week-9/TextClassification/NLTK's list of english stopwords.txt\""
      ]
     },
     "execution_count": 4,
     "metadata": {},
     "output_type": "execute_result"
    }
   ],
   "source": [
    "stop_file_name = replaced_file_path+'/'+stop_file_name\n",
    "stop_file_name"
   ]
  },
  {
   "cell_type": "code",
   "execution_count": 5,
   "id": "89448498-1d54-48da-b476-c70cf7992c34",
   "metadata": {},
   "outputs": [],
   "source": [
    "with open(stop_file_name,'r') as obj:\n",
    "    stop_data= obj.read().splitlines()"
   ]
  },
  {
   "cell_type": "code",
   "execution_count": 6,
   "id": "fa009486-e74c-4799-b764-8196ea8ac12f",
   "metadata": {},
   "outputs": [
    {
     "name": "stderr",
     "output_type": "stream",
     "text": [
      "[C 2024-11-04 23:11:57.838 ServerApp] No such file or directory: E:\\CodingNinjas\\MachineLearning\\Week-9\\TextClassification\\NotebookApp.iopub_data_rate_limit\n"
     ]
    }
   ],
   "source": []
  },
  {
   "cell_type": "code",
   "execution_count": 7,
   "id": "8f4638ca-82e7-49c1-ba6b-8eb854e1605a",
   "metadata": {},
   "outputs": [],
   "source": [
    "def make_dictionary(full_path):\n",
    "    make_dictionary = {}\n",
    "    for i in os.listdir(full_path):\n",
    "        file_name = full_path + '/' + i \n",
    "        file_data = open(file_name)\n",
    "        file_object = file_data.read().splitlines()\n",
    "        for words in file_object:\n",
    "            if words not in stop_data:\n",
    "                if words not in make_dictionary:\n",
    "                    make_dictionary[words] = 1\n",
    "                else:\n",
    "                    make_dictionary[words] += 1\n",
    "    return make_dictionary"
   ]
  },
  {
   "cell_type": "code",
   "execution_count": 8,
   "id": "cd0d0d65-317f-4fee-afcc-2e3b5b58ca03",
   "metadata": {},
   "outputs": [],
   "source": [
    "dictionary = {}\n",
    "count = 0\n",
    "for i in directory_list:\n",
    "    all_path = replaced_path + '/' + i\n",
    "    new_dict = make_dictionary(all_path)\n",
    "    dictionary[count] = new_dict\n",
    "    count += 1\n"
   ]
  },
  {
   "cell_type": "code",
   "execution_count": 142,
   "id": "fe4bacef-5cd1-4f34-b1ff-2b528bf72c2a",
   "metadata": {},
   "outputs": [
    {
     "name": "stderr",
     "output_type": "stream",
     "text": [
      "IOPub data rate exceeded.\n",
      "The Jupyter server will temporarily stop sending output\n",
      "to the client in order to avoid crashing it.\n",
      "To change this limit, set the config variable\n",
      "`--ServerApp.iopub_data_rate_limit`.\n",
      "\n",
      "Current values:\n",
      "ServerApp.iopub_data_rate_limit=1000000.0 (bytes/sec)\n",
      "ServerApp.rate_limit_window=3.0 (secs)\n",
      "\n"
     ]
    }
   ],
   "source": []
  },
  {
   "cell_type": "code",
   "execution_count": null,
   "id": "5dcd143b-b02b-487e-91ea-5baa409c6c0d",
   "metadata": {},
   "outputs": [],
   "source": []
  }
 ],
 "metadata": {
  "kernelspec": {
   "display_name": "Python 3 (ipykernel)",
   "language": "python",
   "name": "python3"
  },
  "language_info": {
   "codemirror_mode": {
    "name": "ipython",
    "version": 3
   },
   "file_extension": ".py",
   "mimetype": "text/x-python",
   "name": "python",
   "nbconvert_exporter": "python",
   "pygments_lexer": "ipython3",
   "version": "3.12.7"
  }
 },
 "nbformat": 4,
 "nbformat_minor": 5
}
