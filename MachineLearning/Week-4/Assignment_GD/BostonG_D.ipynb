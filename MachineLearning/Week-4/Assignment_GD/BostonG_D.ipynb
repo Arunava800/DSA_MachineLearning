{
 "cells": [
  {
   "cell_type": "code",
   "execution_count": 18,
   "id": "ab50b7d0-70cf-4a64-b318-8debf3e8c533",
   "metadata": {},
   "outputs": [],
   "source": [
    "import pandas as pd\n",
    "import matplotlib.pyplot as plt\n",
    "import numpy as np\n"
   ]
  },
  {
   "cell_type": "code",
   "execution_count": 19,
   "id": "6920521d-07f7-4e15-93c3-13ae5660ed2c",
   "metadata": {},
   "outputs": [],
   "source": [
    "data = pd.read_csv(\"training_boston_x_y_train.csv\")"
   ]
  },
  {
   "cell_type": "code",
   "execution_count": 20,
   "id": "e4955058-477f-4ddf-a5bf-4ee46fbb8c18",
   "metadata": {},
   "outputs": [],
   "source": [
    "data.columns= [\"CRIM\", \"ZN\", \"INDUS\", \"CHAS\", \"NOX\", \"RM\", \"AGE\", \"DIS\", \"RAD\", \"TAX\", \"PTRATIO\", \"B\", \"LSTAT\", \"Y\"]"
   ]
  },
  {
   "cell_type": "code",
   "execution_count": 21,
   "id": "fb1e6c0f-0f04-4e37-9024-0b1fb0df9ad9",
   "metadata": {},
   "outputs": [],
   "source": [
    "x, y = data.drop(\"Y\", axis = 1), data.Y"
   ]
  },
  {
   "cell_type": "code",
   "execution_count": 22,
   "id": "6000ff03-05c0-46e3-9ac0-eb3c523e51a5",
   "metadata": {},
   "outputs": [],
   "source": [
    "from sklearn.model_selection import train_test_split\n",
    "x_train, x_test, y_train, y_test = train_test_split(x,y,test_size= 0.33, random_state = 42)"
   ]
  },
  {
   "cell_type": "code",
   "execution_count": 23,
   "id": "166d0415-d324-42c3-81a8-340d7aa9509c",
   "metadata": {},
   "outputs": [
    {
     "data": {
      "text/plain": [
       "((253, 13), (126, 13), (253,), (126,))"
      ]
     },
     "execution_count": 23,
     "metadata": {},
     "output_type": "execute_result"
    }
   ],
   "source": [
    "x_train.shape, x_test.shape, y_train.shape, y_test.shape"
   ]
  },
  {
   "cell_type": "code",
   "execution_count": 24,
   "id": "166f961c-5e6d-4f12-8bc5-78aab5ba7c83",
   "metadata": {},
   "outputs": [],
   "source": [
    "test_data = pd.read_csv('test_boston_x_test.csv')"
   ]
  },
  {
   "cell_type": "code",
   "execution_count": 25,
   "id": "e3797422-180c-4ffd-9828-0d99a3c446a3",
   "metadata": {},
   "outputs": [],
   "source": [
    "test_data.columns = [\"CRIM\", \"ZN\", \"INDUS\", \"CHAS\", \"NOX\", \"RM\", \"AGE\", \"DIS\", \"RAD\", \"TAX\", \"PTRATIO\", \"B\", \"LSTAT\"]"
   ]
  },
  {
   "cell_type": "code",
   "execution_count": 26,
   "id": "2e6abc7c-6751-4552-89cf-ff9f158a64db",
   "metadata": {},
   "outputs": [
    {
     "data": {
      "text/html": [
       "<div>\n",
       "<style scoped>\n",
       "    .dataframe tbody tr th:only-of-type {\n",
       "        vertical-align: middle;\n",
       "    }\n",
       "\n",
       "    .dataframe tbody tr th {\n",
       "        vertical-align: top;\n",
       "    }\n",
       "\n",
       "    .dataframe thead th {\n",
       "        text-align: right;\n",
       "    }\n",
       "</style>\n",
       "<table border=\"1\" class=\"dataframe\">\n",
       "  <thead>\n",
       "    <tr style=\"text-align: right;\">\n",
       "      <th></th>\n",
       "      <th>CRIM</th>\n",
       "      <th>ZN</th>\n",
       "      <th>INDUS</th>\n",
       "      <th>CHAS</th>\n",
       "      <th>NOX</th>\n",
       "      <th>RM</th>\n",
       "      <th>AGE</th>\n",
       "      <th>DIS</th>\n",
       "      <th>RAD</th>\n",
       "      <th>TAX</th>\n",
       "      <th>PTRATIO</th>\n",
       "      <th>B</th>\n",
       "      <th>LSTAT</th>\n",
       "    </tr>\n",
       "  </thead>\n",
       "  <tbody>\n",
       "    <tr>\n",
       "      <th>0</th>\n",
       "      <td>-0.403392</td>\n",
       "      <td>-0.487722</td>\n",
       "      <td>0.406098</td>\n",
       "      <td>-0.272599</td>\n",
       "      <td>-1.016689</td>\n",
       "      <td>0.560412</td>\n",
       "      <td>-1.332629</td>\n",
       "      <td>1.029344</td>\n",
       "      <td>-0.637962</td>\n",
       "      <td>-0.708183</td>\n",
       "      <td>-1.135347</td>\n",
       "      <td>0.441052</td>\n",
       "      <td>-0.894738</td>\n",
       "    </tr>\n",
       "    <tr>\n",
       "      <th>1</th>\n",
       "      <td>-0.413178</td>\n",
       "      <td>-0.487722</td>\n",
       "      <td>0.115738</td>\n",
       "      <td>-0.272599</td>\n",
       "      <td>0.158124</td>\n",
       "      <td>-0.234548</td>\n",
       "      <td>0.288933</td>\n",
       "      <td>-0.716639</td>\n",
       "      <td>-0.982843</td>\n",
       "      <td>-0.803212</td>\n",
       "      <td>1.176466</td>\n",
       "      <td>0.441052</td>\n",
       "      <td>-0.500850</td>\n",
       "    </tr>\n",
       "  </tbody>\n",
       "</table>\n",
       "</div>"
      ],
      "text/plain": [
       "       CRIM        ZN     INDUS      CHAS       NOX        RM       AGE  \\\n",
       "0 -0.403392 -0.487722  0.406098 -0.272599 -1.016689  0.560412 -1.332629   \n",
       "1 -0.413178 -0.487722  0.115738 -0.272599  0.158124 -0.234548  0.288933   \n",
       "\n",
       "        DIS       RAD       TAX   PTRATIO         B     LSTAT  \n",
       "0  1.029344 -0.637962 -0.708183 -1.135347  0.441052 -0.894738  \n",
       "1 -0.716639 -0.982843 -0.803212  1.176466  0.441052 -0.500850  "
      ]
     },
     "execution_count": 26,
     "metadata": {},
     "output_type": "execute_result"
    }
   ],
   "source": [
    "test_data.head(2)"
   ]
  },
  {
   "cell_type": "markdown",
   "id": "545aa726-25b2-4366-b32f-894fcbc68fdf",
   "metadata": {},
   "source": [
    "## Fit Function"
   ]
  },
  {
   "cell_type": "code",
   "execution_count": 208,
   "id": "c9094839-7f5b-4a7b-979e-f8198970ca6c",
   "metadata": {},
   "outputs": [],
   "source": [
    "def fit(X,Y):\n",
    "    x_array, y_array = np.array(X), np.array(Y)\n",
    "    length = y_array.shape[0]\n",
    "    y_array = y_array.reshape(length, 1)\n",
    "\n",
    "    # Calculation of coefficient `M`\n",
    "    \n",
    "    # Transpose of matrix x\n",
    "    x_transpose = np.transpose(x_array)\n",
    "    \n",
    "    #Multiplication of X and X-transpose and taking its inverse\n",
    "    inverse = np.linalg.inv(np.dot(x_transpose,x_array))\n",
    "    coeff = np.dot(np.dot(inverse, x_transpose),y_array)\n",
    "    \n",
    "    c = np.mean(y_array) - coeff * np.mean(x_train)\n",
    "    return coeff, np.mean(c)"
   ]
  },
  {
   "cell_type": "code",
   "execution_count": 209,
   "id": "4cd8a606-45be-49eb-bf92-2db54d2579ce",
   "metadata": {},
   "outputs": [],
   "source": [
    "def predict(X, slope, intercept):\n",
    "    x_array = np.array(X)\n",
    "    slope_transpose = np.transpose(slope)\n",
    "    predictions = np.dot(x_array, slope)  \n",
    "    return predictions + intercept\n",
    "    "
   ]
  },
  {
   "cell_type": "code",
   "execution_count": 250,
   "id": "39d3eda7-89e5-4f13-91c5-a48b09c4b9b8",
   "metadata": {},
   "outputs": [],
   "source": [
    "def scored(y_test, y_predict):\n",
    "    predict_array = np.array(y_predict)\n",
    "    y_mean = np.mean(y_test)\n",
    "    y_array = np.array(y_test)\n",
    "    reshaped_y = predict_array.reshape(len(y_test),1)\n",
    "    u = ((y_array - reshaped_y) ** 2).sum()\n",
    "    v = ((y_array - y_mean)**2).sum()\n",
    "    print(u, v)\n",
    "    return 1-(u/v)"
   ]
  },
  {
   "cell_type": "code",
   "execution_count": 257,
   "id": "6fa88ec6-f663-4d15-a596-3e94cf445181",
   "metadata": {},
   "outputs": [
    {
     "name": "stdout",
     "output_type": "stream",
     "text": [
      "957197.3046863596 1884.311116500064\n",
      "-506.9826236254798\n"
     ]
    }
   ],
   "source": [
    "m, c = fit(x_train, y_train)\n",
    "y_preds = predict(x_test, m, c)\n",
    "score = scored(x_test, y_preds)\n",
    "print(score)"
   ]
  },
  {
   "cell_type": "code",
   "execution_count": 258,
   "id": "1c7b59af-1bec-4d52-a1ff-fe47b50f7596",
   "metadata": {},
   "outputs": [
    {
     "data": {
      "text/html": [
       "<style>#sk-container-id-2 {color: black;}#sk-container-id-2 pre{padding: 0;}#sk-container-id-2 div.sk-toggleable {background-color: white;}#sk-container-id-2 label.sk-toggleable__label {cursor: pointer;display: block;width: 100%;margin-bottom: 0;padding: 0.3em;box-sizing: border-box;text-align: center;}#sk-container-id-2 label.sk-toggleable__label-arrow:before {content: \"▸\";float: left;margin-right: 0.25em;color: #696969;}#sk-container-id-2 label.sk-toggleable__label-arrow:hover:before {color: black;}#sk-container-id-2 div.sk-estimator:hover label.sk-toggleable__label-arrow:before {color: black;}#sk-container-id-2 div.sk-toggleable__content {max-height: 0;max-width: 0;overflow: hidden;text-align: left;background-color: #f0f8ff;}#sk-container-id-2 div.sk-toggleable__content pre {margin: 0.2em;color: black;border-radius: 0.25em;background-color: #f0f8ff;}#sk-container-id-2 input.sk-toggleable__control:checked~div.sk-toggleable__content {max-height: 200px;max-width: 100%;overflow: auto;}#sk-container-id-2 input.sk-toggleable__control:checked~label.sk-toggleable__label-arrow:before {content: \"▾\";}#sk-container-id-2 div.sk-estimator input.sk-toggleable__control:checked~label.sk-toggleable__label {background-color: #d4ebff;}#sk-container-id-2 div.sk-label input.sk-toggleable__control:checked~label.sk-toggleable__label {background-color: #d4ebff;}#sk-container-id-2 input.sk-hidden--visually {border: 0;clip: rect(1px 1px 1px 1px);clip: rect(1px, 1px, 1px, 1px);height: 1px;margin: -1px;overflow: hidden;padding: 0;position: absolute;width: 1px;}#sk-container-id-2 div.sk-estimator {font-family: monospace;background-color: #f0f8ff;border: 1px dotted black;border-radius: 0.25em;box-sizing: border-box;margin-bottom: 0.5em;}#sk-container-id-2 div.sk-estimator:hover {background-color: #d4ebff;}#sk-container-id-2 div.sk-parallel-item::after {content: \"\";width: 100%;border-bottom: 1px solid gray;flex-grow: 1;}#sk-container-id-2 div.sk-label:hover label.sk-toggleable__label {background-color: #d4ebff;}#sk-container-id-2 div.sk-serial::before {content: \"\";position: absolute;border-left: 1px solid gray;box-sizing: border-box;top: 0;bottom: 0;left: 50%;z-index: 0;}#sk-container-id-2 div.sk-serial {display: flex;flex-direction: column;align-items: center;background-color: white;padding-right: 0.2em;padding-left: 0.2em;position: relative;}#sk-container-id-2 div.sk-item {position: relative;z-index: 1;}#sk-container-id-2 div.sk-parallel {display: flex;align-items: stretch;justify-content: center;background-color: white;position: relative;}#sk-container-id-2 div.sk-item::before, #sk-container-id-2 div.sk-parallel-item::before {content: \"\";position: absolute;border-left: 1px solid gray;box-sizing: border-box;top: 0;bottom: 0;left: 50%;z-index: -1;}#sk-container-id-2 div.sk-parallel-item {display: flex;flex-direction: column;z-index: 1;position: relative;background-color: white;}#sk-container-id-2 div.sk-parallel-item:first-child::after {align-self: flex-end;width: 50%;}#sk-container-id-2 div.sk-parallel-item:last-child::after {align-self: flex-start;width: 50%;}#sk-container-id-2 div.sk-parallel-item:only-child::after {width: 0;}#sk-container-id-2 div.sk-dashed-wrapped {border: 1px dashed gray;margin: 0 0.4em 0.5em 0.4em;box-sizing: border-box;padding-bottom: 0.4em;background-color: white;}#sk-container-id-2 div.sk-label label {font-family: monospace;font-weight: bold;display: inline-block;line-height: 1.2em;}#sk-container-id-2 div.sk-label-container {text-align: center;}#sk-container-id-2 div.sk-container {/* jupyter's `normalize.less` sets `[hidden] { display: none; }` but bootstrap.min.css set `[hidden] { display: none !important; }` so we also need the `!important` here to be able to override the default hidden behavior on the sphinx rendered scikit-learn.org. See: https://github.com/scikit-learn/scikit-learn/issues/21755 */display: inline-block !important;position: relative;}#sk-container-id-2 div.sk-text-repr-fallback {display: none;}</style><div id=\"sk-container-id-2\" class=\"sk-top-container\"><div class=\"sk-text-repr-fallback\"><pre>LinearRegression()</pre><b>In a Jupyter environment, please rerun this cell to show the HTML representation or trust the notebook. <br />On GitHub, the HTML representation is unable to render, please try loading this page with nbviewer.org.</b></div><div class=\"sk-container\" hidden><div class=\"sk-item\"><div class=\"sk-estimator sk-toggleable\"><input class=\"sk-toggleable__control sk-hidden--visually\" id=\"sk-estimator-id-2\" type=\"checkbox\" checked><label for=\"sk-estimator-id-2\" class=\"sk-toggleable__label sk-toggleable__label-arrow\">LinearRegression</label><div class=\"sk-toggleable__content\"><pre>LinearRegression()</pre></div></div></div></div></div>"
      ],
      "text/plain": [
       "LinearRegression()"
      ]
     },
     "execution_count": 258,
     "metadata": {},
     "output_type": "execute_result"
    }
   ],
   "source": [
    "from sklearn.linear_model import LinearRegression\n",
    "alg = LinearRegression()\n",
    "alg.fit(x_train, y_train)"
   ]
  },
  {
   "cell_type": "code",
   "execution_count": 259,
   "id": "e2e9316d-4a50-4cbd-a4ff-e5500f422582",
   "metadata": {},
   "outputs": [
    {
     "data": {
      "text/plain": [
       "0.5510855083718125"
      ]
     },
     "execution_count": 259,
     "metadata": {},
     "output_type": "execute_result"
    }
   ],
   "source": [
    "alg.score(x_test, y_test)"
   ]
  },
  {
   "cell_type": "code",
   "execution_count": 255,
   "id": "a73f7139-c38a-4195-909d-dbbbb4cf554d",
   "metadata": {},
   "outputs": [
    {
     "data": {
      "text/plain": [
       "0.8608636507510199"
      ]
     },
     "execution_count": 255,
     "metadata": {},
     "output_type": "execute_result"
    }
   ],
   "source": [
    "alg.score(x_test,y_preds)"
   ]
  },
  {
   "cell_type": "code",
   "execution_count": 256,
   "id": "ac6c455d-adc6-4ada-ab93-0289dff6d5b1",
   "metadata": {},
   "outputs": [
    {
     "data": {
      "text/plain": [
       "0.7962651686800617"
      ]
     },
     "execution_count": 256,
     "metadata": {},
     "output_type": "execute_result"
    }
   ],
   "source": [
    "alg.score(x_train, y_train)"
   ]
  },
  {
   "cell_type": "code",
   "execution_count": null,
   "id": "a0e7559a-10ab-4bc4-b2c8-58b4c8a9342c",
   "metadata": {},
   "outputs": [],
   "source": []
  }
 ],
 "metadata": {
  "kernelspec": {
   "display_name": "Python 3 (ipykernel)",
   "language": "python",
   "name": "python3"
  },
  "language_info": {
   "codemirror_mode": {
    "name": "ipython",
    "version": 3
   },
   "file_extension": ".py",
   "mimetype": "text/x-python",
   "name": "python",
   "nbconvert_exporter": "python",
   "pygments_lexer": "ipython3",
   "version": "3.8.1"
  }
 },
 "nbformat": 4,
 "nbformat_minor": 5
}
