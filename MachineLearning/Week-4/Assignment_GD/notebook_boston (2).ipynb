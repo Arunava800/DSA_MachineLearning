{
 "cells": [
  {
   "cell_type": "markdown",
   "id": "e11fafdd-7485-4dee-89bb-596661fa81eb",
   "metadata": {},
   "source": [
    "## Gradient Descent"
   ]
  },
  {
   "cell_type": "markdown",
   "id": "1b0e5829-1ee8-4f6b-8e3f-8b2f0163f28d",
   "metadata": {},
   "source": [
    "## load the train data"
   ]
  },
  {
   "cell_type": "code",
   "execution_count": 2,
   "id": "fd2eeb14-bdcb-4814-b0df-b9460ef4354e",
   "metadata": {},
   "outputs": [
    {
     "name": "stdout",
     "output_type": "stream",
     "text": [
      "(379, 13)\n"
     ]
    }
   ],
   "source": [
    "import numpy as np\n",
    "train_data=np.loadtxt(r\"C:\\Users\\srish\\Downloads\\0000000000002417_training_boston_x_y_train.csv\",delimiter=',')\n",
    "x_train=train_data[:, :-1]\n",
    "y_train = train_data[:, -1]\n",
    "print(x_train.shape)"
   ]
  },
  {
   "cell_type": "markdown",
   "id": "3051e65c-8083-47d2-afe4-278c0a7aa70c",
   "metadata": {},
   "source": [
    "## load the test data"
   ]
  },
  {
   "cell_type": "code",
   "execution_count": 3,
   "id": "0bc87f59-e7f3-4f0a-8802-40397a52f2c7",
   "metadata": {},
   "outputs": [],
   "source": [
    "test_data=np.loadtxt(r\"C:\\Users\\srish\\Downloads\\0000000000002417_test_boston_x_test.csv\",delimiter=',')"
   ]
  },
  {
   "cell_type": "markdown",
   "id": "a4222f5d-6b9d-4b48-8895-8767d363ef25",
   "metadata": {},
   "source": [
    "## feature scaling"
   ]
  },
  {
   "cell_type": "code",
   "execution_count": 4,
   "id": "6271279e-7070-4ea8-be0c-56004885b607",
   "metadata": {},
   "outputs": [],
   "source": [
    "from sklearn.preprocessing import StandardScaler\n",
    "scaler = StandardScaler()\n",
    "X_train_scaled = scaler.fit_transform(x_train)\n",
    "X_test_scaled = scaler.transform(test_data)\n"
   ]
  },
  {
   "cell_type": "markdown",
   "id": "8059864f-9b08-4c06-806c-c217ebd7ec49",
   "metadata": {},
   "source": [
    "## initialize parameters"
   ]
  },
  {
   "cell_type": "code",
   "execution_count": 5,
   "id": "f06b9ae0-f42c-4070-bdc6-b4260e053302",
   "metadata": {},
   "outputs": [],
   "source": [
    "def initialize_parameters(n):\n",
    "    W = np.zeros(n)\n",
    "    b = 0\n",
    "    return W, b"
   ]
  },
  {
   "cell_type": "markdown",
   "id": "b4f14560-a25e-4716-85bc-eab01122cdf9",
   "metadata": {},
   "source": [
    "## compute cost"
   ]
  },
  {
   "cell_type": "code",
   "execution_count": 6,
   "id": "92b09722-ad59-4c33-b60c-f30049450537",
   "metadata": {},
   "outputs": [],
   "source": [
    "def compute_cost(X, Y, W, b):\n",
    "    m = X.shape[0]\n",
    "    cost = np.sum((np.dot(X, W) + b - Y) ** 2) / (2 * m)\n",
    "    return cost"
   ]
  },
  {
   "cell_type": "markdown",
   "id": "6e1963f9-8643-405e-8631-e7fa184ddf02",
   "metadata": {},
   "source": [
    "## gradient function"
   ]
  },
  {
   "cell_type": "code",
   "execution_count": 7,
   "id": "3f6fe54a-8512-41dd-9dd1-373c9d9fc6b1",
   "metadata": {},
   "outputs": [],
   "source": [
    "def gradient_descent(X, Y, W, b, learning_rate, num_iterations):\n",
    "    m = X.shape[0]\n",
    "    cost_history = []\n",
    "\n",
    "    for i in range(num_iterations):\n",
    "        Y_pred = np.dot(X, W) + b\n",
    "        dW = (1/m) * np.dot(X.T, (Y_pred - Y))\n",
    "        db = (1/m) * np.sum(Y_pred - Y)\n",
    "        \n",
    "        W -= learning_rate * dW\n",
    "        b -= learning_rate * db\n",
    "        \n",
    "        cost = compute_cost(X, Y, W, b)\n",
    "        cost_history.append(cost)\n",
    "        \n",
    "        if i % 100 == 0:\n",
    "            print(f'Iteration {i}: Cost {cost}')\n",
    "    \n",
    "    return W, b, cost_history"
   ]
  },
  {
   "cell_type": "markdown",
   "id": "bb642c7f-e89b-47e6-bcc6-5e75d1dc59fd",
   "metadata": {},
   "source": [
    "## model training "
   ]
  },
  {
   "cell_type": "code",
   "execution_count": 45,
   "id": "fbeb3e25-eb60-49e6-994b-11aea313b58a",
   "metadata": {},
   "outputs": [
    {
     "name": "stdout",
     "output_type": "stream",
     "text": [
      "Iteration 0: Cost 298.8272044797119\n",
      "Iteration 100: Cost 238.58337488295624\n",
      "Iteration 200: Cost 194.96043348189167\n",
      "Iteration 300: Cost 160.99141591398828\n",
      "Iteration 400: Cost 133.73886123407397\n",
      "Iteration 500: Cost 111.62186496132942\n",
      "Iteration 600: Cost 93.59324486684422\n",
      "Iteration 700: Cost 78.87103528561157\n",
      "Iteration 800: Cost 66.83896816497757\n",
      "Iteration 900: Cost 57.00079570234554\n",
      "Iteration 1000: Cost 48.9536030020327\n",
      "Iteration 1100: Cost 42.36920505569396\n",
      "Iteration 1200: Cost 36.97993229692506\n",
      "Iteration 1300: Cost 32.567334889263925\n",
      "Iteration 1400: Cost 28.953066894375187\n",
      "Iteration 1500: Cost 25.99148552959303\n",
      "Iteration 1600: Cost 23.563628327192525\n",
      "Iteration 1700: Cost 21.572306345726577\n",
      "Iteration 1800: Cost 19.93810429630061\n",
      "Iteration 1900: Cost 18.596118695031155\n",
      "Iteration 2000: Cost 17.49329705405777\n",
      "Iteration 2100: Cost 16.586266787015134\n",
      "Iteration 2200: Cost 15.839563273046833\n",
      "Iteration 2300: Cost 15.224183372572815\n",
      "Iteration 2400: Cost 14.716404374731608\n",
      "Iteration 2500: Cost 14.296819482716055\n",
      "Iteration 2600: Cost 13.949549993155834\n",
      "Iteration 2700: Cost 13.661601690209878\n",
      "Iteration 2800: Cost 13.422338970511541\n",
      "Iteration 2900: Cost 13.223055097924236\n",
      "Iteration 3000: Cost 13.0566209651197\n",
      "Iteration 3100: Cost 12.917197981005463\n",
      "Iteration 3200: Cost 12.800003345999626\n",
      "Iteration 3300: Cost 12.701118132389237\n",
      "Iteration 3400: Cost 12.617330344989995\n",
      "Iteration 3500: Cost 12.546006571632004\n",
      "Iteration 3600: Cost 12.484987003496554\n",
      "Iteration 3700: Cost 12.43249956075208\n",
      "Iteration 3800: Cost 12.387089638962642\n",
      "Iteration 3900: Cost 12.347562628690913\n",
      "Iteration 4000: Cost 12.312936880926353\n",
      "Iteration 4100: Cost 12.282405215905483\n",
      "Iteration 4200: Cost 12.25530342005739\n",
      "Iteration 4300: Cost 12.231084459478387\n",
      "Iteration 4400: Cost 12.209297370161169\n",
      "Iteration 4500: Cost 12.189569974675681\n",
      "Iteration 4600: Cost 12.171594729878645\n",
      "Iteration 4700: Cost 12.155117136844328\n",
      "Iteration 4800: Cost 12.139926247731557\n",
      "Iteration 4900: Cost 12.12584688895055\n",
      "Iteration 5000: Cost 12.112733289216145\n",
      "Iteration 5100: Cost 12.100463857687746\n",
      "Iteration 5200: Cost 12.088936903701233\n",
      "Iteration 5300: Cost 12.078067127475087\n",
      "Iteration 5400: Cost 12.067782742157792\n",
      "Iteration 5500: Cost 12.058023112933128\n",
      "Iteration 5600: Cost 12.04873681963978\n",
      "Iteration 5700: Cost 12.039880066332127\n",
      "Iteration 5800: Cost 12.031415375095325\n",
      "Iteration 5900: Cost 12.02331051279203\n",
      "Iteration 6000: Cost 12.015537608718244\n",
      "Iteration 6100: Cost 12.00807242875759\n",
      "Iteration 6200: Cost 12.000893777853896\n",
      "Iteration 6300: Cost 11.993983007721756\n",
      "Iteration 6400: Cost 11.98732361088979\n",
      "Iteration 6500: Cost 11.980900885589257\n",
      "Iteration 6600: Cost 11.974701658799022\n",
      "Iteration 6700: Cost 11.968714057049189\n",
      "Iteration 6800: Cost 11.962927316461997\n",
      "Iteration 6900: Cost 11.957331625045072\n",
      "Iteration 7000: Cost 11.951917991510445\n",
      "Iteration 7100: Cost 11.946678135923621\n",
      "Iteration 7200: Cost 11.941604398331046\n",
      "Iteration 7300: Cost 11.936689662206225\n",
      "Iteration 7400: Cost 11.931927290121301\n",
      "Iteration 7500: Cost 11.92731106951535\n",
      "Iteration 7600: Cost 11.922835166811195\n",
      "Iteration 7700: Cost 11.918494088444467\n",
      "Iteration 7800: Cost 11.914282647624441\n",
      "Iteration 7900: Cost 11.910195935855766\n",
      "Iteration 8000: Cost 11.906229298422213\n",
      "Iteration 8100: Cost 11.902378313174646\n",
      "Iteration 8200: Cost 11.898638772081137\n",
      "Iteration 8300: Cost 11.895006665092124\n",
      "Iteration 8400: Cost 11.891478165951547\n",
      "Iteration 8500: Cost 11.88804961964891\n",
      "Iteration 8600: Cost 11.884717531259847\n",
      "Iteration 8700: Cost 11.881478555966057\n",
      "Iteration 8800: Cost 11.87832949008104\n",
      "Iteration 8900: Cost 11.87526726293728\n",
      "Iteration 9000: Cost 11.87228892951474\n",
      "Iteration 9100: Cost 11.869391663710319\n",
      "Iteration 9200: Cost 11.866572752164293\n",
      "Iteration 9300: Cost 11.863829588573342\n",
      "Iteration 9400: Cost 11.86115966843091\n",
      "Iteration 9500: Cost 11.858560584144842\n",
      "Iteration 9600: Cost 11.856030020490012\n",
      "Iteration 9700: Cost 11.853565750359854\n",
      "Iteration 9800: Cost 11.851165630786145\n",
      "Iteration 9900: Cost 11.848827599200643\n"
     ]
    }
   ],
   "source": [
    "n_features = X_train_scaled.shape[1]\n",
    "W, b = initialize_parameters(n_features)\n",
    "\n",
    "# Set hyperparameters\n",
    "learning_rate = 0.001\n",
    "num_iterations = 10000\n",
    "\n",
    "# Run gradient descent\n",
    "W, b, cost_history = gradient_descent(X_train_scaled, y_train, W, b, learning_rate, num_iterations)"
   ]
  },
  {
   "cell_type": "markdown",
   "id": "e924b00f-5de5-41fb-91f2-809fa0868aac",
   "metadata": {},
   "source": [
    "## prediction"
   ]
  },
  {
   "cell_type": "code",
   "execution_count": 43,
   "id": "6fad2247-f468-43ce-b2ff-e8e47be24d5d",
   "metadata": {},
   "outputs": [
    {
     "name": "stdout",
     "output_type": "stream",
     "text": [
      "[12.42563469 29.00370197 22.37586324 24.45347438 20.64679968  2.73890068\n",
      " 30.35699344 24.84929752 18.66924766 23.53947243 24.11308202 17.72267047\n",
      " 17.49445761 21.67612632 42.32785968 23.87245073 24.47450784 27.57001734\n",
      " 20.25695143 31.18228165 23.83064278 24.99990926 33.95158663 36.42336491\n",
      " 32.05994495 16.69334724 23.48163516 32.98386153 25.14992138 33.71210506\n",
      " 16.89819873 26.05586664 23.27834218 25.47225992 15.00813484 29.5994632\n",
      " 26.24835458 20.41312548 24.40798732  9.44990555  8.36503245 29.00274454\n",
      " 29.60467485 19.77255048 20.36095518  3.1353675  39.52084142 25.71787804\n",
      " 30.32731743 16.78773249 17.88054069 40.97489295 17.56568531 20.92938995\n",
      " 15.60891378 21.391346   18.45366591 23.15805401 13.68374184 17.22540509\n",
      " 15.03756912 29.15189681 25.20530962 25.49639361 17.19744897 17.42356427\n",
      " 34.69860784 17.00537975 27.07977108 22.53156239 29.29051228 27.10377132\n",
      " 17.73756061  5.73819461 36.8382083  25.09787934 30.1232945  27.21600933\n",
      " 16.2461476  32.65921002 19.26347292 22.69537921 22.32357135  8.52956563\n",
      " 17.32303648 29.18222283 27.19643428  5.8740532  21.79758579 20.10449628\n",
      " 22.17301013 20.55870052 20.89804526 13.17726532 19.70684373 25.99026059\n",
      " 40.25343755 19.65964119 33.68486229 27.18796359 28.73373793 22.10567998\n",
      " 25.89820508 31.32658506 17.15136022 26.37537633 21.47540856 36.77649575\n",
      " 22.04926134 16.70559241 27.6201031  -0.07302858 13.89236433 16.26957478\n",
      " 35.76867031 20.89899569 20.78792885 25.33857096 21.81794632 18.84662572\n",
      " 13.52535005 35.58803612 23.11371249 24.98438313 17.52168899 20.7788041\n",
      " 14.73447161]\n"
     ]
    }
   ],
   "source": [
    "def predict(X, W, b):\n",
    "    return np.dot(X, W) + b\n",
    "\n",
    "# Predict on the test data\n",
    "Y_test_pred = predict(X_test_scaled, W, b)\n",
    "print(Y_test_pred)"
   ]
  },
  {
   "cell_type": "markdown",
   "id": "c26d0b65-010b-46fb-a248-2d53c15443f0",
   "metadata": {},
   "source": [
    "## saving predicted file"
   ]
  },
  {
   "cell_type": "code",
   "execution_count": 47,
   "id": "e09cca62-0e08-4e9c-81ad-5cfec2ae62d9",
   "metadata": {},
   "outputs": [],
   "source": [
    "np.savetxt('predictionstest.csv', Y_test_pred, fmt='%.5f')"
   ]
  }
 ],
 "metadata": {
  "kernelspec": {
   "display_name": "Python 3 (ipykernel)",
   "language": "python",
   "name": "python3"
  },
  "language_info": {
   "codemirror_mode": {
    "name": "ipython",
    "version": 3
   },
   "file_extension": ".py",
   "mimetype": "text/x-python",
   "name": "python",
   "nbconvert_exporter": "python",
   "pygments_lexer": "ipython3",
   "version": "3.8.1"
  }
 },
 "nbformat": 4,
 "nbformat_minor": 5
}
