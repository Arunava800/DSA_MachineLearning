{
 "cells": [
  {
   "cell_type": "code",
   "execution_count": 6,
   "id": "d6637b36-c7b4-493b-b2bd-177fc0f560ca",
   "metadata": {},
   "outputs": [
    {
     "name": "stdout",
     "output_type": "stream",
     "text": [
      "(379, 13)\n"
     ]
    }
   ],
   "source": [
    "import numpy as np\n",
    "train_data = np.loadtxt('training_boston_x_y_train.csv', delimiter=',')\n",
    "x_train = train_data[:,:-1]\n",
    "y_train = train_data[:,-1]\n",
    "print(x_train.shape)"
   ]
  },
  {
   "cell_type": "code",
   "execution_count": 7,
   "id": "221b8e76-3f52-4278-ba8e-355ad5e1bcd2",
   "metadata": {},
   "outputs": [],
   "source": [
    "test_data = np.loadtxt('test_boston_x_test.csv', delimiter = ',')\n"
   ]
  },
  {
   "cell_type": "code",
   "execution_count": 8,
   "id": "c4a8adc6-c9bd-40ac-a95f-5f9558b31cb7",
   "metadata": {},
   "outputs": [],
   "source": [
    "from sklearn.preprocessing import StandardScaler\n",
    "scaler = StandardScaler()\n",
    "x_train_scaled = scaler.fit_transform(x_train)\n",
    "x_test_scaled = scaler.transform(test_data)"
   ]
  },
  {
   "cell_type": "code",
   "execution_count": 9,
   "id": "174e1a30-b29c-4998-93cc-bfa01bbcb3c7",
   "metadata": {},
   "outputs": [],
   "source": [
    "def initialize_parameters(n):\n",
    "    W = np.zeros(n)\n",
    "    b = 0\n",
    "    return W, b"
   ]
  },
  {
   "cell_type": "code",
   "execution_count": 10,
   "id": "93b1a524-606a-43ea-88a5-cd12a016c743",
   "metadata": {},
   "outputs": [],
   "source": [
    "def compute_cost(X,Y,W,b):\n",
    "    m = X.shape[0]\n",
    "    cost = np.sum((np.dot(X,W)+b-Y)**2)/(2*m)\n",
    "    return cost"
   ]
  },
  {
   "cell_type": "code",
   "execution_count": 11,
   "id": "89d3d6d6-5d8e-4b6d-a1fe-8064f4e81151",
   "metadata": {},
   "outputs": [],
   "source": [
    "def gradient_descent(X,Y,W,b, learning_rate, num_iterations):\n",
    "    m = X.shape[0]\n",
    "    cost_history = []\n",
    "    for i in range(num_iterations):\n",
    "        Y_pred = np.dot(X,W) + b\n",
    "        dW = (1/m) * np.dot(X.T, (Y_pred - Y))\n",
    "        db = (1/m) * np.sum(Y_pred - Y)\n",
    "        W -= learning_rate * dW\n",
    "        b -= learning_rate * db\n",
    "        cost = compute_cost(X,Y,W,b)\n",
    "        cost_history.append(cost)\n",
    "        if i % 100 == 0:\n",
    "            print(f'Iteration{i}: cost{cost}')\n",
    "    return W, b, cost_history"
   ]
  },
  {
   "cell_type": "code",
   "execution_count": 15,
   "id": "4ae82477-ee97-4b61-a94e-2a0a5348c143",
   "metadata": {},
   "outputs": [
    {
     "name": "stdout",
     "output_type": "stream",
     "text": [
      "Iteration0: cost298.8272044797119\n",
      "Iteration100: cost238.58337488295624\n",
      "Iteration200: cost194.96043348189167\n",
      "Iteration300: cost160.99141591398828\n",
      "Iteration400: cost133.73886123407397\n",
      "Iteration500: cost111.62186496132942\n",
      "Iteration600: cost93.59324486684422\n",
      "Iteration700: cost78.87103528561157\n",
      "Iteration800: cost66.83896816497757\n",
      "Iteration900: cost57.00079570234554\n",
      "Iteration1000: cost48.95360300203269\n",
      "Iteration1100: cost42.36920505569396\n",
      "Iteration1200: cost36.97993229692506\n",
      "Iteration1300: cost32.567334889263925\n",
      "Iteration1400: cost28.953066894375187\n",
      "Iteration1500: cost25.99148552959303\n",
      "Iteration1600: cost23.563628327192525\n",
      "Iteration1700: cost21.57230634572658\n",
      "Iteration1800: cost19.938104296300608\n",
      "Iteration1900: cost18.596118695031155\n",
      "Iteration2000: cost17.49329705405777\n",
      "Iteration2100: cost16.586266787015134\n",
      "Iteration2200: cost15.839563273046833\n",
      "Iteration2300: cost15.224183372572815\n",
      "Iteration2400: cost14.716404374731608\n",
      "Iteration2500: cost14.296819482716057\n",
      "Iteration2600: cost13.949549993155834\n",
      "Iteration2700: cost13.661601690209878\n",
      "Iteration2800: cost13.422338970511541\n",
      "Iteration2900: cost13.223055097924236\n",
      "Iteration3000: cost13.056620965119704\n",
      "Iteration3100: cost12.91719798100546\n",
      "Iteration3200: cost12.800003345999626\n",
      "Iteration3300: cost12.701118132389237\n",
      "Iteration3400: cost12.617330344989998\n",
      "Iteration3500: cost12.546006571632008\n",
      "Iteration3600: cost12.484987003496554\n",
      "Iteration3700: cost12.43249956075208\n",
      "Iteration3800: cost12.387089638962642\n",
      "Iteration3900: cost12.347562628690909\n",
      "Iteration4000: cost12.312936880926353\n",
      "Iteration4100: cost12.282405215905483\n",
      "Iteration4200: cost12.25530342005739\n",
      "Iteration4300: cost12.231084459478387\n",
      "Iteration4400: cost12.209297370161169\n",
      "Iteration4500: cost12.189569974675681\n",
      "Iteration4600: cost12.171594729878645\n",
      "Iteration4700: cost12.155117136844328\n",
      "Iteration4800: cost12.139926247731555\n",
      "Iteration4900: cost12.12584688895055\n",
      "Iteration5000: cost12.112733289216145\n",
      "Iteration5100: cost12.100463857687746\n",
      "Iteration5200: cost12.088936903701233\n",
      "Iteration5300: cost12.078067127475087\n",
      "Iteration5400: cost12.067782742157792\n",
      "Iteration5500: cost12.058023112933125\n",
      "Iteration5600: cost12.04873681963978\n",
      "Iteration5700: cost12.039880066332127\n",
      "Iteration5800: cost12.031415375095325\n",
      "Iteration5900: cost12.02331051279203\n",
      "Iteration6000: cost12.015537608718244\n",
      "Iteration6100: cost12.00807242875759\n",
      "Iteration6200: cost12.000893777853896\n",
      "Iteration6300: cost11.993983007721758\n",
      "Iteration6400: cost11.98732361088979\n",
      "Iteration6500: cost11.980900885589259\n",
      "Iteration6600: cost11.974701658799022\n",
      "Iteration6700: cost11.968714057049189\n",
      "Iteration6800: cost11.962927316461997\n",
      "Iteration6900: cost11.957331625045072\n",
      "Iteration7000: cost11.951917991510445\n",
      "Iteration7100: cost11.946678135923621\n",
      "Iteration7200: cost11.941604398331046\n",
      "Iteration7300: cost11.936689662206224\n",
      "Iteration7400: cost11.931927290121301\n",
      "Iteration7500: cost11.927311069515351\n",
      "Iteration7600: cost11.922835166811195\n",
      "Iteration7700: cost11.918494088444467\n",
      "Iteration7800: cost11.914282647624441\n",
      "Iteration7900: cost11.910195935855766\n",
      "Iteration8000: cost11.906229298422215\n",
      "Iteration8100: cost11.902378313174646\n",
      "Iteration8200: cost11.898638772081137\n",
      "Iteration8300: cost11.895006665092124\n",
      "Iteration8400: cost11.891478165951547\n",
      "Iteration8500: cost11.88804961964891\n",
      "Iteration8600: cost11.884717531259843\n",
      "Iteration8700: cost11.881478555966059\n",
      "Iteration8800: cost11.87832949008104\n",
      "Iteration8900: cost11.875267262937278\n",
      "Iteration9000: cost11.87228892951474\n",
      "Iteration9100: cost11.869391663710319\n",
      "Iteration9200: cost11.866572752164293\n",
      "Iteration9300: cost11.863829588573342\n",
      "Iteration9400: cost11.86115966843091\n",
      "Iteration9500: cost11.858560584144842\n",
      "Iteration9600: cost11.856030020490012\n",
      "Iteration9700: cost11.853565750359854\n",
      "Iteration9800: cost11.851165630786145\n",
      "Iteration9900: cost11.848827599200643\n"
     ]
    }
   ],
   "source": [
    "n_features = x_train_scaled.shape[1]\n",
    "W,b = initialize_parameters(n_features)\n",
    "learning_rate = 0.001\n",
    "num_iterations = 10000\n",
    "W,b, cost_history = gradient_descent(x_train_scaled, y_train, W, b, learning_rate, num_iterations)"
   ]
  },
  {
   "cell_type": "code",
   "execution_count": 17,
   "id": "f422566d-fa0e-43ec-80c1-b8ee350165c4",
   "metadata": {},
   "outputs": [
    {
     "name": "stdout",
     "output_type": "stream",
     "text": [
      "[11.84741569 28.8364699  22.42046101 24.27565042 21.06130978  2.83767701\n",
      " 29.44193752 24.46101044 18.83346116 23.42766519 24.37073049 17.94818484\n",
      " 18.58201824 21.90179083 42.71020596 24.15664504 24.49265304 27.68518662\n",
      " 20.48496557 31.40899834 24.1892983  24.68041759 33.74836192 35.91496983\n",
      " 32.25422079 16.04607202 23.06435667 33.0267862  24.57091943 33.45567013\n",
      " 17.20746404 26.27619673 23.52117617 25.44275056 15.03305466 29.37952211\n",
      " 26.12751504 20.68744528 24.12295219  9.54954663  7.62820775 28.67774131\n",
      " 29.5705285  20.13741905 20.35371504  2.76469103 39.58526517 25.7785529\n",
      " 29.94197404 16.98911614 17.7242405  39.95776618 17.75984582 21.16997442\n",
      " 15.89694594 21.30510981 18.49620522 23.12057358 13.91750524 17.26890906\n",
      " 15.22483275 29.15017358 25.23297982 25.62458584 16.96876692 16.94513962\n",
      " 34.57876888 17.0870299  26.60829349 22.41767873 29.43597316 26.84810933\n",
      " 18.30343939  5.45271852 36.10354251 25.15126184 29.45823868 26.83168257\n",
      " 16.124214   32.72675539 19.49309163 22.96711408 23.33197553  8.31933106\n",
      " 17.49306493 29.57919791 27.08429278  5.57838674 20.47311865 19.97426463\n",
      " 22.09622488 20.84139999 21.17625671 13.30628137 20.03533815 26.70524715\n",
      " 39.78899043 18.31303804 33.23324814 26.68741901 28.21481576 22.16493903\n",
      " 25.38408976 31.36854449 17.31752518 26.13436665 21.81141602 37.02873593\n",
      " 22.00840897 16.76206228 27.78756077 -0.64545796 14.14830584 15.81396399\n",
      " 35.79496441 21.20104083 21.23720604 25.2100159  22.18553047 19.28718688\n",
      " 13.75155193 34.88559207 23.18010625 24.55706952 18.65429085 20.96357492\n",
      " 15.20852205]\n"
     ]
    }
   ],
   "source": [
    "def predict(X,W,b):\n",
    "    return np.dot(X,W) + b\n",
    "y_test_pred = predict(x_test_scaled, W,b)\n",
    "print(y_test_pred)"
   ]
  },
  {
   "cell_type": "code",
   "execution_count": 19,
   "id": "47979be6-09c5-4600-b52b-4650fc3341a8",
   "metadata": {},
   "outputs": [],
   "source": [
    "np.savetxt('predictionstest.csv',y_test_pred, fmt = '%.5f')"
   ]
  },
  {
   "cell_type": "code",
   "execution_count": null,
   "id": "588c4e67-c808-46cf-9c90-335a5805275f",
   "metadata": {},
   "outputs": [],
   "source": []
  }
 ],
 "metadata": {
  "kernelspec": {
   "display_name": "Python 3 (ipykernel)",
   "language": "python",
   "name": "python3"
  },
  "language_info": {
   "codemirror_mode": {
    "name": "ipython",
    "version": 3
   },
   "file_extension": ".py",
   "mimetype": "text/x-python",
   "name": "python",
   "nbconvert_exporter": "python",
   "pygments_lexer": "ipython3",
   "version": "3.8.1"
  }
 },
 "nbformat": 4,
 "nbformat_minor": 5
}
