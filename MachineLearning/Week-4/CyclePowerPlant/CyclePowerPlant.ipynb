{
 "cells": [
  {
   "cell_type": "code",
   "execution_count": 1,
   "id": "8d3a6986-66bb-4be9-b1fd-22343e648bcd",
   "metadata": {},
   "outputs": [
    {
     "name": "stdout",
     "output_type": "stream",
     "text": [
      "(7176, 4)\n"
     ]
    }
   ],
   "source": [
    "import numpy as np\n",
    "train_data = np.loadtxt('training_dataset.csv', delimiter=',')\n",
    "x_train = train_data[:,:-1]\n",
    "y_train = train_data[:,-1]\n",
    "print(x_train.shape)"
   ]
  },
  {
   "cell_type": "code",
   "execution_count": 3,
   "id": "6eacd07d-50f1-4c31-8444-111f82761e5c",
   "metadata": {},
   "outputs": [],
   "source": [
    "test_data = np.loadtxt('testing_dataset.csv', delimiter = ',')"
   ]
  },
  {
   "cell_type": "code",
   "execution_count": 4,
   "id": "c7d4eda9-6cf2-479c-9401-5a120791ccd8",
   "metadata": {},
   "outputs": [],
   "source": [
    "from sklearn.preprocessing import StandardScaler\n",
    "scaler = StandardScaler()\n",
    "x_train_scaled = scaler.fit_transform(x_train)\n",
    "x_test_scaled = scaler.transform(test_data)"
   ]
  },
  {
   "cell_type": "code",
   "execution_count": 5,
   "id": "34b99913-d4be-4bd0-80f1-3194bed07882",
   "metadata": {},
   "outputs": [],
   "source": [
    "def initialize_parameters(n):\n",
    "    W = np.zeros(n)\n",
    "    b = 0\n",
    "    return W, b"
   ]
  },
  {
   "cell_type": "code",
   "execution_count": 6,
   "id": "e17076e7-1929-4eab-91fb-56b6e64443c4",
   "metadata": {},
   "outputs": [],
   "source": [
    "def compute_cost(X,Y,W,b):\n",
    "    m = X.shape[0]\n",
    "    cost = np.sum((np.dot(X,W)+b-Y)**2)/(2*m)\n",
    "    return cost"
   ]
  },
  {
   "cell_type": "code",
   "execution_count": 7,
   "id": "4c676daf-b8e0-4ba6-8b51-29058d5a3bf2",
   "metadata": {},
   "outputs": [],
   "source": [
    "def gradient_descent(X,Y,W,b, learning_rate, num_iterations):\n",
    "    m = X.shape[0]\n",
    "    cost_history = []\n",
    "    for i in range(num_iterations):\n",
    "        Y_pred = np.dot(X,W) + b\n",
    "        dW = (1/m) * np.dot(X.T, (Y_pred - Y))\n",
    "        db = (1/m) * np.sum(Y_pred - Y)\n",
    "        W -= learning_rate * dW\n",
    "        b -= learning_rate * db\n",
    "        cost = compute_cost(X,Y,W,b)\n",
    "        cost_history.append(cost)\n",
    "        if i % 100 == 0:\n",
    "            print(f'Iteration{i}: cost{cost}')\n",
    "    return W, b, cost_history"
   ]
  },
  {
   "cell_type": "code",
   "execution_count": 8,
   "id": "60e6bbe5-9e26-48c0-9b03-9d24f72b9bf0",
   "metadata": {},
   "outputs": [
    {
     "name": "stdout",
     "output_type": "stream",
     "text": [
      "Iteration0: cost103193.66187224616\n",
      "Iteration100: cost84457.59412341965\n",
      "Iteration200: cost69128.98325071638\n",
      "Iteration300: cost56586.12382904828\n",
      "Iteration400: cost46321.514743928055\n",
      "Iteration500: cost37920.58370161317\n",
      "Iteration600: cost31044.488610357723\n",
      "Iteration700: cost25416.171876474902\n",
      "Iteration800: cost20809.025842667288\n",
      "Iteration900: cost17037.664057830472\n",
      "Iteration1000: cost13950.397009291893\n",
      "Iteration1100: cost11423.091276957544\n",
      "Iteration1200: cost9354.153910559173\n",
      "Iteration1300: cost7660.433487540502\n",
      "Iteration1400: cost6273.868863896858\n",
      "Iteration1500: cost5138.748339875149\n",
      "Iteration1600: cost4209.467509713457\n",
      "Iteration1700: cost3448.694726507446\n",
      "Iteration1800: cost2825.869873499747\n",
      "Iteration1900: cost2315.9757590441272\n",
      "Iteration2000: cost1898.5325492944116\n",
      "Iteration2100: cost1556.7747014562565\n",
      "Iteration2200: cost1276.9772464111395\n",
      "Iteration2300: cost1047.904302671107\n",
      "Iteration2400: cost860.3576344646722\n",
      "Iteration2500: cost706.8070983619783\n",
      "Iteration2600: cost581.088120243647\n",
      "Iteration2700: cost478.15404194327357\n",
      "Iteration2800: cost393.8733840645814\n",
      "Iteration2900: cost324.8638776659953\n",
      "Iteration3000: cost268.35659570837015\n",
      "Iteration3100: cost222.084725026152\n",
      "Iteration3200: cost184.1925098736872\n",
      "Iteration3300: cost153.16070870061054\n",
      "Iteration3400: cost127.74556934760791\n",
      "Iteration3500: cost106.92887102131556\n",
      "Iteration3600: cost89.87702604791669\n",
      "Iteration3700: cost75.90759839575983\n",
      "Iteration3800: cost64.4618939300047\n",
      "Iteration3900: cost55.08252129195779\n",
      "Iteration4000: cost47.39502198580646\n",
      "Iteration4100: cost41.092831729589506\n",
      "Iteration4200: cost35.924968954167156\n",
      "Iteration4300: cost31.685955890733215\n",
      "Iteration4400: cost28.207567375568587\n",
      "Iteration4500: cost25.35207592377374\n",
      "Iteration4600: cost23.006721731362806\n",
      "Iteration4700: cost21.07918547212684\n",
      "Iteration4800: cost19.493882039093943\n",
      "Iteration4900: cost18.18892635830639\n",
      "Iteration5000: cost17.113649400163414\n",
      "Iteration5100: cost16.226564615012553\n",
      "Iteration5200: cost15.493703113130177\n",
      "Iteration5300: cost14.887250721423326\n",
      "Iteration5400: cost14.384432175264493\n",
      "Iteration5500: cost13.966597630877818\n",
      "Iteration5600: cost13.618474810504972\n",
      "Iteration5700: cost13.327556745604765\n",
      "Iteration5800: cost13.08360052987365\n",
      "Iteration5900: cost12.878216952694968\n",
      "Iteration6000: cost12.704534533875828\n",
      "Iteration6100: cost12.556924468820506\n",
      "Iteration6200: cost12.430775439668288\n",
      "Iteration6300: cost12.322309250686457\n",
      "Iteration6400: cost12.228429885762758\n",
      "Iteration6500: cost12.146599928099379\n",
      "Iteration6600: cost12.07473938105141\n",
      "Iteration6700: cost12.011142828626173\n",
      "Iteration6800: cost11.95441161062259\n",
      "Iteration6900: cost11.90339829028758\n",
      "Iteration7000: cost11.857161185946131\n",
      "Iteration7100: cost11.814927142141428\n",
      "Iteration7200: cost11.776061046618333\n",
      "Iteration7300: cost11.740040870307519\n",
      "Iteration7400: cost11.706437229175842\n",
      "Iteration7500: cost11.674896648318978\n",
      "Iteration7600: cost11.645127857270104\n",
      "Iteration7700: cost11.616890567151493\n",
      "Iteration7800: cost11.58998627988945\n",
      "Iteration7900: cost11.564250761253906\n",
      "Iteration8000: cost11.539547876233375\n",
      "Iteration8100: cost11.515764539909286\n",
      "Iteration8200: cost11.49280658173389\n",
      "Iteration8300: cost11.47059535774796\n",
      "Iteration8400: cost11.449064975262283\n",
      "Iteration8500: cost11.42816001908033\n",
      "Iteration8600: cost11.407833688441496\n",
      "Iteration8700: cost11.388046270320844\n",
      "Iteration8800: cost11.368763888196622\n",
      "Iteration8900: cost11.34995747642801\n",
      "Iteration9000: cost11.331601939418546\n",
      "Iteration9100: cost11.313675462135237\n",
      "Iteration9200: cost11.29615894460889\n",
      "Iteration9300: cost11.279035537998622\n",
      "Iteration9400: cost11.262290263862672\n",
      "Iteration9500: cost11.245909701601592\n",
      "Iteration9600: cost11.229881731761191\n",
      "Iteration9700: cost11.214195325111207\n",
      "Iteration9800: cost11.198840369240418\n",
      "Iteration9900: cost11.183807525903097\n"
     ]
    }
   ],
   "source": [
    "n_features = x_train_scaled.shape[1]\n",
    "W,b = initialize_parameters(n_features)\n",
    "learning_rate = 0.001\n",
    "num_iterations = 10000\n",
    "W,b, cost_history = gradient_descent(x_train_scaled, y_train, W, b, learning_rate, num_iterations)"
   ]
  },
  {
   "cell_type": "code",
   "execution_count": 9,
   "id": "e09a0de2-463a-4cee-ada6-fa3ed5beee41",
   "metadata": {},
   "outputs": [
    {
     "name": "stdout",
     "output_type": "stream",
     "text": [
      "[470.55216106 471.98400007 432.87249824 ... 439.76422969 453.58462396\n",
      " 448.37045698]\n"
     ]
    }
   ],
   "source": [
    "def predict(X,W,b):\n",
    "    return np.dot(X,W) + b\n",
    "y_test_pred = predict(x_test_scaled, W,b)\n",
    "print(y_test_pred)"
   ]
  },
  {
   "cell_type": "code",
   "execution_count": 10,
   "id": "c7e61093-3b44-41b0-b967-2e5cf8934883",
   "metadata": {},
   "outputs": [],
   "source": [
    "np.savetxt('predictionstest.csv',y_test_pred, fmt = '%.5f')"
   ]
  },
  {
   "cell_type": "code",
   "execution_count": null,
   "id": "1ec46c78-022f-4ca4-bcbc-630a5c881383",
   "metadata": {},
   "outputs": [],
   "source": []
  }
 ],
 "metadata": {
  "kernelspec": {
   "display_name": "Python 3 (ipykernel)",
   "language": "python",
   "name": "python3"
  },
  "language_info": {
   "codemirror_mode": {
    "name": "ipython",
    "version": 3
   },
   "file_extension": ".py",
   "mimetype": "text/x-python",
   "name": "python",
   "nbconvert_exporter": "python",
   "pygments_lexer": "ipython3",
   "version": "3.8.1"
  }
 },
 "nbformat": 4,
 "nbformat_minor": 5
}
