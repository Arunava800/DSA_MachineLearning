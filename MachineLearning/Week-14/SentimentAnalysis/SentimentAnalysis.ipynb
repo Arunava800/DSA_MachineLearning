{
 "cells": [
  {
   "cell_type": "markdown",
   "id": "1f3a7ea9-c341-4a77-8404-0b6f7fd97674",
   "metadata": {},
   "source": [
    "# Importing the required packages"
   ]
  },
  {
   "cell_type": "code",
   "execution_count": 1,
   "id": "0519a36d-e28f-48be-8f9a-b7c058871572",
   "metadata": {},
   "outputs": [],
   "source": [
    "%matplotlib inline\n",
    "import pandas as pd\n",
    "import numpy as np\n",
    "import matplotlib.pyplot as plt"
   ]
  },
  {
   "cell_type": "markdown",
   "id": "5b1972b3-0653-43de-8931-3b80a6655030",
   "metadata": {},
   "source": [
    "# Importing the dataset"
   ]
  },
  {
   "cell_type": "code",
   "execution_count": 2,
   "id": "df831e28-a617-439b-959a-49688590266a",
   "metadata": {},
   "outputs": [],
   "source": [
    "df = pd.read_csv('train.csv',index_col='tweet_id')"
   ]
  },
  {
   "cell_type": "code",
   "execution_count": 3,
   "id": "2db57d2c-6bf2-4e53-a3e0-49c63125e776",
   "metadata": {},
   "outputs": [
    {
     "data": {
      "text/html": [
       "<div>\n",
       "<style scoped>\n",
       "    .dataframe tbody tr th:only-of-type {\n",
       "        vertical-align: middle;\n",
       "    }\n",
       "\n",
       "    .dataframe tbody tr th {\n",
       "        vertical-align: top;\n",
       "    }\n",
       "\n",
       "    .dataframe thead th {\n",
       "        text-align: right;\n",
       "    }\n",
       "</style>\n",
       "<table border=\"1\" class=\"dataframe\">\n",
       "  <thead>\n",
       "    <tr style=\"text-align: right;\">\n",
       "      <th></th>\n",
       "      <th>airline_sentiment</th>\n",
       "      <th>airline</th>\n",
       "      <th>airline_sentiment_gold</th>\n",
       "      <th>name</th>\n",
       "      <th>negativereason_gold</th>\n",
       "      <th>retweet_count</th>\n",
       "      <th>text</th>\n",
       "      <th>tweet_coord</th>\n",
       "      <th>tweet_created</th>\n",
       "      <th>tweet_location</th>\n",
       "      <th>user_timezone</th>\n",
       "    </tr>\n",
       "    <tr>\n",
       "      <th>tweet_id</th>\n",
       "      <th></th>\n",
       "      <th></th>\n",
       "      <th></th>\n",
       "      <th></th>\n",
       "      <th></th>\n",
       "      <th></th>\n",
       "      <th></th>\n",
       "      <th></th>\n",
       "      <th></th>\n",
       "      <th></th>\n",
       "      <th></th>\n",
       "    </tr>\n",
       "  </thead>\n",
       "  <tbody>\n",
       "    <tr>\n",
       "      <th>567900433542488064</th>\n",
       "      <td>negative</td>\n",
       "      <td>Southwest</td>\n",
       "      <td>NaN</td>\n",
       "      <td>ColeyGirouard</td>\n",
       "      <td>NaN</td>\n",
       "      <td>0</td>\n",
       "      <td>@SouthwestAir I am scheduled for the morning, ...</td>\n",
       "      <td>NaN</td>\n",
       "      <td>2015-02-17 20:16:29 -0800</td>\n",
       "      <td>Washington D.C.</td>\n",
       "      <td>Atlantic Time (Canada)</td>\n",
       "    </tr>\n",
       "    <tr>\n",
       "      <th>569989168903819264</th>\n",
       "      <td>positive</td>\n",
       "      <td>Southwest</td>\n",
       "      <td>NaN</td>\n",
       "      <td>WalterFaddoul</td>\n",
       "      <td>NaN</td>\n",
       "      <td>0</td>\n",
       "      <td>@SouthwestAir seeing your workers time in and ...</td>\n",
       "      <td>NaN</td>\n",
       "      <td>2015-02-23 14:36:22 -0800</td>\n",
       "      <td>Indianapolis, Indiana; USA</td>\n",
       "      <td>Central Time (US &amp; Canada)</td>\n",
       "    </tr>\n",
       "    <tr>\n",
       "      <th>568089179520954368</th>\n",
       "      <td>positive</td>\n",
       "      <td>United</td>\n",
       "      <td>NaN</td>\n",
       "      <td>LocalKyle</td>\n",
       "      <td>NaN</td>\n",
       "      <td>0</td>\n",
       "      <td>@united Flew ORD to Miami and back and  had gr...</td>\n",
       "      <td>NaN</td>\n",
       "      <td>2015-02-18 08:46:29 -0800</td>\n",
       "      <td>Illinois</td>\n",
       "      <td>Central Time (US &amp; Canada)</td>\n",
       "    </tr>\n",
       "  </tbody>\n",
       "</table>\n",
       "</div>"
      ],
      "text/plain": [
       "                   airline_sentiment    airline airline_sentiment_gold  \\\n",
       "tweet_id                                                                 \n",
       "567900433542488064          negative  Southwest                    NaN   \n",
       "569989168903819264          positive  Southwest                    NaN   \n",
       "568089179520954368          positive     United                    NaN   \n",
       "\n",
       "                             name negativereason_gold  retweet_count  \\\n",
       "tweet_id                                                               \n",
       "567900433542488064  ColeyGirouard                 NaN              0   \n",
       "569989168903819264  WalterFaddoul                 NaN              0   \n",
       "568089179520954368      LocalKyle                 NaN              0   \n",
       "\n",
       "                                                                 text  \\\n",
       "tweet_id                                                                \n",
       "567900433542488064  @SouthwestAir I am scheduled for the morning, ...   \n",
       "569989168903819264  @SouthwestAir seeing your workers time in and ...   \n",
       "568089179520954368  @united Flew ORD to Miami and back and  had gr...   \n",
       "\n",
       "                   tweet_coord              tweet_created  \\\n",
       "tweet_id                                                    \n",
       "567900433542488064         NaN  2015-02-17 20:16:29 -0800   \n",
       "569989168903819264         NaN  2015-02-23 14:36:22 -0800   \n",
       "568089179520954368         NaN  2015-02-18 08:46:29 -0800   \n",
       "\n",
       "                                tweet_location               user_timezone  \n",
       "tweet_id                                                                    \n",
       "567900433542488064             Washington D.C.      Atlantic Time (Canada)  \n",
       "569989168903819264  Indianapolis, Indiana; USA  Central Time (US & Canada)  \n",
       "568089179520954368                    Illinois  Central Time (US & Canada)  "
      ]
     },
     "execution_count": 3,
     "metadata": {},
     "output_type": "execute_result"
    }
   ],
   "source": [
    "df.head(3)"
   ]
  },
  {
   "cell_type": "markdown",
   "id": "92b5e3be-176b-443f-8344-6677fd4b8834",
   "metadata": {},
   "source": [
    "# Data description"
   ]
  },
  {
   "cell_type": "code",
   "execution_count": 4,
   "id": "dc2a4f25-cadc-4b3a-8772-2260b95b88b2",
   "metadata": {},
   "outputs": [
    {
     "data": {
      "text/plain": [
       "airline_sentiment             0\n",
       "airline                       0\n",
       "airline_sentiment_gold    10949\n",
       "name                          0\n",
       "negativereason_gold       10956\n",
       "retweet_count                 0\n",
       "text                          0\n",
       "tweet_coord               10204\n",
       "tweet_created                 0\n",
       "tweet_location             3550\n",
       "user_timezone              3577\n",
       "dtype: int64"
      ]
     },
     "execution_count": 4,
     "metadata": {},
     "output_type": "execute_result"
    }
   ],
   "source": [
    "df.isnull().sum()"
   ]
  },
  {
   "cell_type": "code",
   "execution_count": 5,
   "id": "00b2a803-5743-4385-8845-2ff07e931a29",
   "metadata": {},
   "outputs": [],
   "source": [
    "df.drop(labels=['airline_sentiment_gold','negativereason_gold','tweet_coord','user_timezone'],axis=1, inplace=True)"
   ]
  },
  {
   "cell_type": "code",
   "execution_count": 6,
   "id": "9d5bdb9d-7137-41ae-8d57-a4e70293ba11",
   "metadata": {},
   "outputs": [
    {
     "data": {
      "text/plain": [
       "airline_sentiment       0\n",
       "airline                 0\n",
       "name                    0\n",
       "retweet_count           0\n",
       "text                    0\n",
       "tweet_created           0\n",
       "tweet_location       3550\n",
       "dtype: int64"
      ]
     },
     "execution_count": 6,
     "metadata": {},
     "output_type": "execute_result"
    }
   ],
   "source": [
    "df.isnull().sum()"
   ]
  },
  {
   "cell_type": "code",
   "execution_count": 7,
   "id": "86e7b3ad-408b-4e5d-99e0-a9bcc86451d6",
   "metadata": {},
   "outputs": [
    {
     "data": {
      "text/html": [
       "<div>\n",
       "<style scoped>\n",
       "    .dataframe tbody tr th:only-of-type {\n",
       "        vertical-align: middle;\n",
       "    }\n",
       "\n",
       "    .dataframe tbody tr th {\n",
       "        vertical-align: top;\n",
       "    }\n",
       "\n",
       "    .dataframe thead th {\n",
       "        text-align: right;\n",
       "    }\n",
       "</style>\n",
       "<table border=\"1\" class=\"dataframe\">\n",
       "  <thead>\n",
       "    <tr style=\"text-align: right;\">\n",
       "      <th></th>\n",
       "      <th>retweet_count</th>\n",
       "    </tr>\n",
       "  </thead>\n",
       "  <tbody>\n",
       "    <tr>\n",
       "      <th>count</th>\n",
       "      <td>10980.000000</td>\n",
       "    </tr>\n",
       "    <tr>\n",
       "      <th>mean</th>\n",
       "      <td>0.080965</td>\n",
       "    </tr>\n",
       "    <tr>\n",
       "      <th>std</th>\n",
       "      <td>0.740303</td>\n",
       "    </tr>\n",
       "    <tr>\n",
       "      <th>min</th>\n",
       "      <td>0.000000</td>\n",
       "    </tr>\n",
       "    <tr>\n",
       "      <th>25%</th>\n",
       "      <td>0.000000</td>\n",
       "    </tr>\n",
       "    <tr>\n",
       "      <th>50%</th>\n",
       "      <td>0.000000</td>\n",
       "    </tr>\n",
       "    <tr>\n",
       "      <th>75%</th>\n",
       "      <td>0.000000</td>\n",
       "    </tr>\n",
       "    <tr>\n",
       "      <th>max</th>\n",
       "      <td>44.000000</td>\n",
       "    </tr>\n",
       "  </tbody>\n",
       "</table>\n",
       "</div>"
      ],
      "text/plain": [
       "       retweet_count\n",
       "count   10980.000000\n",
       "mean        0.080965\n",
       "std         0.740303\n",
       "min         0.000000\n",
       "25%         0.000000\n",
       "50%         0.000000\n",
       "75%         0.000000\n",
       "max        44.000000"
      ]
     },
     "execution_count": 7,
     "metadata": {},
     "output_type": "execute_result"
    }
   ],
   "source": [
    "df.describe()"
   ]
  },
  {
   "cell_type": "code",
   "execution_count": 8,
   "id": "fa39d319-c32c-4144-a667-a12bd3727d0e",
   "metadata": {},
   "outputs": [],
   "source": [
    "df.drop(['tweet_location', 'tweet_created'],axis=1, inplace=True)"
   ]
  },
  {
   "cell_type": "code",
   "execution_count": 9,
   "id": "3a909bd3-699d-484a-a552-014288960d18",
   "metadata": {},
   "outputs": [
    {
     "data": {
      "text/html": [
       "<div>\n",
       "<style scoped>\n",
       "    .dataframe tbody tr th:only-of-type {\n",
       "        vertical-align: middle;\n",
       "    }\n",
       "\n",
       "    .dataframe tbody tr th {\n",
       "        vertical-align: top;\n",
       "    }\n",
       "\n",
       "    .dataframe thead th {\n",
       "        text-align: right;\n",
       "    }\n",
       "</style>\n",
       "<table border=\"1\" class=\"dataframe\">\n",
       "  <thead>\n",
       "    <tr style=\"text-align: right;\">\n",
       "      <th></th>\n",
       "      <th>airline_sentiment</th>\n",
       "      <th>airline</th>\n",
       "      <th>name</th>\n",
       "      <th>retweet_count</th>\n",
       "      <th>text</th>\n",
       "    </tr>\n",
       "    <tr>\n",
       "      <th>tweet_id</th>\n",
       "      <th></th>\n",
       "      <th></th>\n",
       "      <th></th>\n",
       "      <th></th>\n",
       "      <th></th>\n",
       "    </tr>\n",
       "  </thead>\n",
       "  <tbody>\n",
       "    <tr>\n",
       "      <th>567900433542488064</th>\n",
       "      <td>negative</td>\n",
       "      <td>Southwest</td>\n",
       "      <td>ColeyGirouard</td>\n",
       "      <td>0</td>\n",
       "      <td>@SouthwestAir I am scheduled for the morning, ...</td>\n",
       "    </tr>\n",
       "    <tr>\n",
       "      <th>569989168903819264</th>\n",
       "      <td>positive</td>\n",
       "      <td>Southwest</td>\n",
       "      <td>WalterFaddoul</td>\n",
       "      <td>0</td>\n",
       "      <td>@SouthwestAir seeing your workers time in and ...</td>\n",
       "    </tr>\n",
       "    <tr>\n",
       "      <th>568089179520954368</th>\n",
       "      <td>positive</td>\n",
       "      <td>United</td>\n",
       "      <td>LocalKyle</td>\n",
       "      <td>0</td>\n",
       "      <td>@united Flew ORD to Miami and back and  had gr...</td>\n",
       "    </tr>\n",
       "    <tr>\n",
       "      <th>568928195581513728</th>\n",
       "      <td>negative</td>\n",
       "      <td>Southwest</td>\n",
       "      <td>amccarthy19</td>\n",
       "      <td>0</td>\n",
       "      <td>@SouthwestAir @dultch97 that's horse radish 😤🐴</td>\n",
       "    </tr>\n",
       "    <tr>\n",
       "      <th>568594180014014464</th>\n",
       "      <td>negative</td>\n",
       "      <td>United</td>\n",
       "      <td>J_Okayy</td>\n",
       "      <td>0</td>\n",
       "      <td>@united so our flight into ORD was delayed bec...</td>\n",
       "    </tr>\n",
       "  </tbody>\n",
       "</table>\n",
       "</div>"
      ],
      "text/plain": [
       "                   airline_sentiment    airline           name  retweet_count  \\\n",
       "tweet_id                                                                        \n",
       "567900433542488064          negative  Southwest  ColeyGirouard              0   \n",
       "569989168903819264          positive  Southwest  WalterFaddoul              0   \n",
       "568089179520954368          positive     United      LocalKyle              0   \n",
       "568928195581513728          negative  Southwest    amccarthy19              0   \n",
       "568594180014014464          negative     United        J_Okayy              0   \n",
       "\n",
       "                                                                 text  \n",
       "tweet_id                                                               \n",
       "567900433542488064  @SouthwestAir I am scheduled for the morning, ...  \n",
       "569989168903819264  @SouthwestAir seeing your workers time in and ...  \n",
       "568089179520954368  @united Flew ORD to Miami and back and  had gr...  \n",
       "568928195581513728     @SouthwestAir @dultch97 that's horse radish 😤🐴  \n",
       "568594180014014464  @united so our flight into ORD was delayed bec...  "
      ]
     },
     "execution_count": 9,
     "metadata": {},
     "output_type": "execute_result"
    }
   ],
   "source": [
    "df.head(5)"
   ]
  },
  {
   "cell_type": "code",
   "execution_count": 10,
   "id": "eddc4cc5-3a13-49f9-9519-d8f3887f1d84",
   "metadata": {},
   "outputs": [
    {
     "data": {
      "text/plain": [
       "airline\n",
       "United            2928\n",
       "US Airways        2152\n",
       "American          2078\n",
       "Southwest         1817\n",
       "Delta             1639\n",
       "Virgin America     366\n",
       "Name: count, dtype: int64"
      ]
     },
     "execution_count": 10,
     "metadata": {},
     "output_type": "execute_result"
    }
   ],
   "source": [
    "df['airline'].value_counts()"
   ]
  },
  {
   "cell_type": "code",
   "execution_count": 11,
   "id": "242727a7-6bc8-4242-b84d-145a93720d09",
   "metadata": {},
   "outputs": [
    {
     "data": {
      "text/plain": [
       "airline_sentiment\n",
       "negative    6851\n",
       "neutral     2327\n",
       "positive    1802\n",
       "Name: count, dtype: int64"
      ]
     },
     "execution_count": 11,
     "metadata": {},
     "output_type": "execute_result"
    }
   ],
   "source": [
    "df['airline_sentiment'].value_counts()"
   ]
  },
  {
   "cell_type": "markdown",
   "id": "f974d140-f804-4b29-87dd-850197482d91",
   "metadata": {},
   "source": [
    "# Data Visualization"
   ]
  },
  {
   "cell_type": "code",
   "execution_count": 12,
   "id": "7d5587d0-ea11-4a53-b321-01854e453201",
   "metadata": {},
   "outputs": [
    {
     "data": {
      "text/html": [
       "<div>\n",
       "<style scoped>\n",
       "    .dataframe tbody tr th:only-of-type {\n",
       "        vertical-align: middle;\n",
       "    }\n",
       "\n",
       "    .dataframe tbody tr th {\n",
       "        vertical-align: top;\n",
       "    }\n",
       "\n",
       "    .dataframe thead th {\n",
       "        text-align: right;\n",
       "    }\n",
       "</style>\n",
       "<table border=\"1\" class=\"dataframe\">\n",
       "  <thead>\n",
       "    <tr style=\"text-align: right;\">\n",
       "      <th>airline_sentiment</th>\n",
       "      <th>negative</th>\n",
       "      <th>neutral</th>\n",
       "      <th>positive</th>\n",
       "    </tr>\n",
       "    <tr>\n",
       "      <th>airline</th>\n",
       "      <th></th>\n",
       "      <th></th>\n",
       "      <th></th>\n",
       "    </tr>\n",
       "  </thead>\n",
       "  <tbody>\n",
       "    <tr>\n",
       "      <th>American</th>\n",
       "      <td>1468</td>\n",
       "      <td>359</td>\n",
       "      <td>251</td>\n",
       "    </tr>\n",
       "    <tr>\n",
       "      <th>Delta</th>\n",
       "      <td>691</td>\n",
       "      <td>535</td>\n",
       "      <td>413</td>\n",
       "    </tr>\n",
       "    <tr>\n",
       "      <th>Southwest</th>\n",
       "      <td>870</td>\n",
       "      <td>512</td>\n",
       "      <td>435</td>\n",
       "    </tr>\n",
       "    <tr>\n",
       "      <th>US Airways</th>\n",
       "      <td>1678</td>\n",
       "      <td>277</td>\n",
       "      <td>197</td>\n",
       "    </tr>\n",
       "    <tr>\n",
       "      <th>United</th>\n",
       "      <td>2011</td>\n",
       "      <td>517</td>\n",
       "      <td>400</td>\n",
       "    </tr>\n",
       "    <tr>\n",
       "      <th>Virgin America</th>\n",
       "      <td>133</td>\n",
       "      <td>127</td>\n",
       "      <td>106</td>\n",
       "    </tr>\n",
       "  </tbody>\n",
       "</table>\n",
       "</div>"
      ],
      "text/plain": [
       "airline_sentiment  negative  neutral  positive\n",
       "airline                                       \n",
       "American               1468      359       251\n",
       "Delta                   691      535       413\n",
       "Southwest               870      512       435\n",
       "US Airways             1678      277       197\n",
       "United                 2011      517       400\n",
       "Virgin America          133      127       106"
      ]
     },
     "execution_count": 12,
     "metadata": {},
     "output_type": "execute_result"
    }
   ],
   "source": [
    "corel = pd.crosstab(df['airline'],df['airline_sentiment'])\n",
    "corel"
   ]
  },
  {
   "cell_type": "code",
   "execution_count": 13,
   "id": "f666ed8a-b083-4fe0-a4b9-550bd4383fe3",
   "metadata": {},
   "outputs": [
    {
     "data": {
      "text/plain": [
       "array(['American', 'Delta', 'Southwest', 'US Airways', 'United',\n",
       "       'Virgin America'], dtype=object)"
      ]
     },
     "execution_count": 13,
     "metadata": {},
     "output_type": "execute_result"
    }
   ],
   "source": [
    "airline_names = np.array(df.airline)\n",
    "airline_uniques = np.unique(airline_names)\n",
    "airline_uniques"
   ]
  },
  {
   "cell_type": "code",
   "execution_count": 14,
   "id": "13eb8a96-3042-4bbe-a515-7afc2fd34374",
   "metadata": {},
   "outputs": [
    {
     "data": {
      "text/plain": [
       "array(['negative', 'positive', 'positive', ..., 'negative', 'negative',\n",
       "       'negative'], dtype=object)"
      ]
     },
     "execution_count": 14,
     "metadata": {},
     "output_type": "execute_result"
    }
   ],
   "source": [
    "comment_type = np.array(df.airline_sentiment)\n",
    "comment_type"
   ]
  },
  {
   "cell_type": "code",
   "execution_count": 15,
   "id": "d62e8322-46f0-48f6-ad75-bfe05679ebd6",
   "metadata": {},
   "outputs": [],
   "source": [
    "comment_type, frequency = np.unique(comment_type,return_counts=True)"
   ]
  },
  {
   "cell_type": "code",
   "execution_count": 16,
   "id": "a9debffa-ad1c-4f9b-8311-85ed5339a08b",
   "metadata": {},
   "outputs": [
    {
     "data": {
      "image/png": "[encoded data removed]",
      "text/plain": [
       "<Figure size 640x480 with 1 Axes>"
      ]
     },
     "metadata": {},
     "output_type": "display_data"
    }
   ],
   "source": [
    "colours = ['red', 'lightgreen', 'green']\n",
    "plt.bar(comment_type, frequency, color = colours,width = 0.3, align='center')\n",
    "plt.grid(linestyle='--', linewidth=0.5)\n",
    "plt.title('Comment Type Vs. Frequency', weight='bold')\n",
    "plt.xlabel('Comment Category',weight = 'bold')\n",
    "plt.ylabel('Frequency', weight = 'bold')\n",
    "plt.show()"
   ]
  },
  {
   "cell_type": "code",
   "execution_count": 17,
   "id": "8795ce18-f4a3-4611-8bcd-45beef5b1a6f",
   "metadata": {},
   "outputs": [],
   "source": [
    "def add_reviews(x):\n",
    "    reviews = dict()\n",
    "    for key,value in x.items():\n",
    "        reviews[key] = value\n",
    "    return reviews"
   ]
  },
  {
   "cell_type": "code",
   "execution_count": 18,
   "id": "7bbb6ac4-57cf-4c88-9365-b9a1f544f178",
   "metadata": {},
   "outputs": [
    {
     "data": {
      "text/plain": [
       "{'American': {'negative': 1468, 'neutral': 359, 'positive': 251},\n",
       " 'Delta': {'negative': 691, 'neutral': 535, 'positive': 413},\n",
       " 'Southwest': {'negative': 870, 'neutral': 512, 'positive': 435},\n",
       " 'US Airways': {'negative': 1678, 'neutral': 277, 'positive': 197},\n",
       " 'United': {'negative': 2011, 'neutral': 517, 'positive': 400},\n",
       " 'Virgin America': {'negative': 133, 'neutral': 127, 'positive': 106}}"
      ]
     },
     "execution_count": 18,
     "metadata": {},
     "output_type": "execute_result"
    }
   ],
   "source": [
    "# converting the given dataset values into dictionary\n",
    "airline_dictionary = {}\n",
    "length = 0\n",
    "for i in airline_uniques:\n",
    "    airline_dictionary[i] = add_reviews(corel.iloc[length])\n",
    "    length += 1\n",
    "airline_dictionary"
   ]
  },
  {
   "cell_type": "code",
   "execution_count": 20,
   "id": "16ba4ba6-a0ef-4f3d-a432-cce7a71707e5",
   "metadata": {},
   "outputs": [
    {
     "data": {
      "image/png": "[encoded data removed]",
      "text/plain": [
       "<Figure size 1000x1000 with 6 Axes>"
      ]
     },
     "metadata": {},
     "output_type": "display_data"
    }
   ],
   "source": [
    "fig, ((ax0,ax1), (ax2,ax3), (ax4,ax5)) = plt.subplots(nrows=3,ncols=2, figsize=(10,10))\n",
    "plt.subplots_adjust(hspace=0.5)\n",
    "pos = 0\n",
    "colours = ['red','lightgreen','green']\n",
    "graph_pos = [ax0, ax1, ax2, ax3, ax4, ax5]\n",
    "for i in airline_dictionary.keys():\n",
    "    categories, values = list(airline_dictionary[i].keys()), list(airline_dictionary[i].values())\n",
    "    bar_1 = graph_pos[pos].bar(categories, values, color=colours)\n",
    "    graph_pos[pos].set(title=i, xlabel='comment_categories', ylabel='Frequency')\n",
    "    graph_pos[pos].title.set_fontweight('bold')\n",
    "    fig.suptitle(\"Comments Vs. Frequency\", fontsize= 16, fontweight='bold')\n",
    "    pos += 1\n",
    "plt.show()\n"
   ]
  },
  {
   "cell_type": "code",
   "execution_count": 21,
   "id": "40faf958-50c1-4d1a-abc4-2e5f8c84d355",
   "metadata": {},
   "outputs": [
    {
     "data": {
      "text/html": [
       "<div>\n",
       "<style scoped>\n",
       "    .dataframe tbody tr th:only-of-type {\n",
       "        vertical-align: middle;\n",
       "    }\n",
       "\n",
       "    .dataframe tbody tr th {\n",
       "        vertical-align: top;\n",
       "    }\n",
       "\n",
       "    .dataframe thead th {\n",
       "        text-align: right;\n",
       "    }\n",
       "</style>\n",
       "<table border=\"1\" class=\"dataframe\">\n",
       "  <thead>\n",
       "    <tr style=\"text-align: right;\">\n",
       "      <th></th>\n",
       "      <th>airline_sentiment</th>\n",
       "      <th>airline</th>\n",
       "      <th>name</th>\n",
       "      <th>retweet_count</th>\n",
       "      <th>text</th>\n",
       "    </tr>\n",
       "    <tr>\n",
       "      <th>tweet_id</th>\n",
       "      <th></th>\n",
       "      <th></th>\n",
       "      <th></th>\n",
       "      <th></th>\n",
       "      <th></th>\n",
       "    </tr>\n",
       "  </thead>\n",
       "  <tbody>\n",
       "    <tr>\n",
       "      <th>567900433542488064</th>\n",
       "      <td>negative</td>\n",
       "      <td>Southwest</td>\n",
       "      <td>ColeyGirouard</td>\n",
       "      <td>0</td>\n",
       "      <td>@SouthwestAir I am scheduled for the morning, ...</td>\n",
       "    </tr>\n",
       "    <tr>\n",
       "      <th>569989168903819264</th>\n",
       "      <td>positive</td>\n",
       "      <td>Southwest</td>\n",
       "      <td>WalterFaddoul</td>\n",
       "      <td>0</td>\n",
       "      <td>@SouthwestAir seeing your workers time in and ...</td>\n",
       "    </tr>\n",
       "    <tr>\n",
       "      <th>568089179520954368</th>\n",
       "      <td>positive</td>\n",
       "      <td>United</td>\n",
       "      <td>LocalKyle</td>\n",
       "      <td>0</td>\n",
       "      <td>@united Flew ORD to Miami and back and  had gr...</td>\n",
       "    </tr>\n",
       "    <tr>\n",
       "      <th>568928195581513728</th>\n",
       "      <td>negative</td>\n",
       "      <td>Southwest</td>\n",
       "      <td>amccarthy19</td>\n",
       "      <td>0</td>\n",
       "      <td>@SouthwestAir @dultch97 that's horse radish 😤🐴</td>\n",
       "    </tr>\n",
       "    <tr>\n",
       "      <th>568594180014014464</th>\n",
       "      <td>negative</td>\n",
       "      <td>United</td>\n",
       "      <td>J_Okayy</td>\n",
       "      <td>0</td>\n",
       "      <td>@united so our flight into ORD was delayed bec...</td>\n",
       "    </tr>\n",
       "    <tr>\n",
       "      <th>...</th>\n",
       "      <td>...</td>\n",
       "      <td>...</td>\n",
       "      <td>...</td>\n",
       "      <td>...</td>\n",
       "      <td>...</td>\n",
       "    </tr>\n",
       "    <tr>\n",
       "      <th>569934458364813313</th>\n",
       "      <td>neutral</td>\n",
       "      <td>American</td>\n",
       "      <td>Cottopanama85</td>\n",
       "      <td>0</td>\n",
       "      <td>@AmericanAir followback</td>\n",
       "    </tr>\n",
       "    <tr>\n",
       "      <th>568564006329434113</th>\n",
       "      <td>positive</td>\n",
       "      <td>United</td>\n",
       "      <td>PaulBEsteves</td>\n",
       "      <td>0</td>\n",
       "      <td>@united thanks for the help. Wish the phone re...</td>\n",
       "    </tr>\n",
       "    <tr>\n",
       "      <th>569643648910028801</th>\n",
       "      <td>negative</td>\n",
       "      <td>US Airways</td>\n",
       "      <td>runfixsteve</td>\n",
       "      <td>0</td>\n",
       "      <td>@usairways the. Worst. Ever. #dca #customerser...</td>\n",
       "    </tr>\n",
       "    <tr>\n",
       "      <th>568864981917110272</th>\n",
       "      <td>negative</td>\n",
       "      <td>US Airways</td>\n",
       "      <td>CLChicosky</td>\n",
       "      <td>0</td>\n",
       "      <td>@nrhodes85: look! Another apology. DO NOT FLY ...</td>\n",
       "    </tr>\n",
       "    <tr>\n",
       "      <th>568929299350179840</th>\n",
       "      <td>negative</td>\n",
       "      <td>United</td>\n",
       "      <td>JW_Blocker</td>\n",
       "      <td>1</td>\n",
       "      <td>@united you are by far the worst airline. 4 pl...</td>\n",
       "    </tr>\n",
       "  </tbody>\n",
       "</table>\n",
       "<p>10980 rows × 5 columns</p>\n",
       "</div>"
      ],
      "text/plain": [
       "                   airline_sentiment     airline           name  \\\n",
       "tweet_id                                                          \n",
       "567900433542488064          negative   Southwest  ColeyGirouard   \n",
       "569989168903819264          positive   Southwest  WalterFaddoul   \n",
       "568089179520954368          positive      United      LocalKyle   \n",
       "568928195581513728          negative   Southwest    amccarthy19   \n",
       "568594180014014464          negative      United        J_Okayy   \n",
       "...                              ...         ...            ...   \n",
       "569934458364813313           neutral    American  Cottopanama85   \n",
       "568564006329434113          positive      United   PaulBEsteves   \n",
       "569643648910028801          negative  US Airways    runfixsteve   \n",
       "568864981917110272          negative  US Airways     CLChicosky   \n",
       "568929299350179840          negative      United     JW_Blocker   \n",
       "\n",
       "                    retweet_count  \\\n",
       "tweet_id                            \n",
       "567900433542488064              0   \n",
       "569989168903819264              0   \n",
       "568089179520954368              0   \n",
       "568928195581513728              0   \n",
       "568594180014014464              0   \n",
       "...                           ...   \n",
       "569934458364813313              0   \n",
       "568564006329434113              0   \n",
       "569643648910028801              0   \n",
       "568864981917110272              0   \n",
       "568929299350179840              1   \n",
       "\n",
       "                                                                 text  \n",
       "tweet_id                                                               \n",
       "567900433542488064  @SouthwestAir I am scheduled for the morning, ...  \n",
       "569989168903819264  @SouthwestAir seeing your workers time in and ...  \n",
       "568089179520954368  @united Flew ORD to Miami and back and  had gr...  \n",
       "568928195581513728     @SouthwestAir @dultch97 that's horse radish 😤🐴  \n",
       "568594180014014464  @united so our flight into ORD was delayed bec...  \n",
       "...                                                               ...  \n",
       "569934458364813313                            @AmericanAir followback  \n",
       "568564006329434113  @united thanks for the help. Wish the phone re...  \n",
       "569643648910028801  @usairways the. Worst. Ever. #dca #customerser...  \n",
       "568864981917110272  @nrhodes85: look! Another apology. DO NOT FLY ...  \n",
       "568929299350179840  @united you are by far the worst airline. 4 pl...  \n",
       "\n",
       "[10980 rows x 5 columns]"
      ]
     },
     "execution_count": 21,
     "metadata": {},
     "output_type": "execute_result"
    }
   ],
   "source": [
    "df"
   ]
  },
  {
   "cell_type": "code",
   "execution_count": 43,
   "id": "b68944cf-afa2-4ace-89ba-3a9d59bfcdc9",
   "metadata": {},
   "outputs": [
    {
     "data": {
      "text/html": [
       "<div>\n",
       "<style scoped>\n",
       "    .dataframe tbody tr th:only-of-type {\n",
       "        vertical-align: middle;\n",
       "    }\n",
       "\n",
       "    .dataframe tbody tr th {\n",
       "        vertical-align: top;\n",
       "    }\n",
       "\n",
       "    .dataframe thead th {\n",
       "        text-align: right;\n",
       "    }\n",
       "</style>\n",
       "<table border=\"1\" class=\"dataframe\">\n",
       "  <thead>\n",
       "    <tr style=\"text-align: right;\">\n",
       "      <th></th>\n",
       "      <th>00</th>\n",
       "      <th>000</th>\n",
       "      <th>000114</th>\n",
       "      <th>000ft</th>\n",
       "      <th>0011</th>\n",
       "      <th>0016</th>\n",
       "      <th>00a</th>\n",
       "      <th>00am</th>\n",
       "      <th>00p</th>\n",
       "      <th>00pm</th>\n",
       "      <th>...</th>\n",
       "      <th>zqutus7epw</th>\n",
       "      <th>zrh</th>\n",
       "      <th>zrh_airport</th>\n",
       "      <th>zsdgzydnde</th>\n",
       "      <th>ztrdwv0n4l</th>\n",
       "      <th>zukes</th>\n",
       "      <th>zurich</th>\n",
       "      <th>zv2pt6trk9</th>\n",
       "      <th>zv6cfpohl5</th>\n",
       "      <th>zzps5ywve2</th>\n",
       "    </tr>\n",
       "  </thead>\n",
       "  <tbody>\n",
       "    <tr>\n",
       "      <th>0</th>\n",
       "      <td>0</td>\n",
       "      <td>0</td>\n",
       "      <td>0</td>\n",
       "      <td>0</td>\n",
       "      <td>0</td>\n",
       "      <td>0</td>\n",
       "      <td>0</td>\n",
       "      <td>0</td>\n",
       "      <td>0</td>\n",
       "      <td>0</td>\n",
       "      <td>...</td>\n",
       "      <td>0</td>\n",
       "      <td>0</td>\n",
       "      <td>0</td>\n",
       "      <td>0</td>\n",
       "      <td>0</td>\n",
       "      <td>0</td>\n",
       "      <td>0</td>\n",
       "      <td>0</td>\n",
       "      <td>0</td>\n",
       "      <td>0</td>\n",
       "    </tr>\n",
       "    <tr>\n",
       "      <th>1</th>\n",
       "      <td>0</td>\n",
       "      <td>0</td>\n",
       "      <td>0</td>\n",
       "      <td>0</td>\n",
       "      <td>0</td>\n",
       "      <td>0</td>\n",
       "      <td>0</td>\n",
       "      <td>0</td>\n",
       "      <td>0</td>\n",
       "      <td>0</td>\n",
       "      <td>...</td>\n",
       "      <td>0</td>\n",
       "      <td>0</td>\n",
       "      <td>0</td>\n",
       "      <td>0</td>\n",
       "      <td>0</td>\n",
       "      <td>0</td>\n",
       "      <td>0</td>\n",
       "      <td>0</td>\n",
       "      <td>0</td>\n",
       "      <td>0</td>\n",
       "    </tr>\n",
       "    <tr>\n",
       "      <th>2</th>\n",
       "      <td>0</td>\n",
       "      <td>0</td>\n",
       "      <td>0</td>\n",
       "      <td>0</td>\n",
       "      <td>0</td>\n",
       "      <td>0</td>\n",
       "      <td>0</td>\n",
       "      <td>0</td>\n",
       "      <td>0</td>\n",
       "      <td>0</td>\n",
       "      <td>...</td>\n",
       "      <td>0</td>\n",
       "      <td>0</td>\n",
       "      <td>0</td>\n",
       "      <td>0</td>\n",
       "      <td>0</td>\n",
       "      <td>0</td>\n",
       "      <td>0</td>\n",
       "      <td>0</td>\n",
       "      <td>0</td>\n",
       "      <td>0</td>\n",
       "    </tr>\n",
       "  </tbody>\n",
       "</table>\n",
       "<p>3 rows × 12479 columns</p>\n",
       "</div>"
      ],
      "text/plain": [
       "   00  000  000114  000ft  0011  0016  00a  00am  00p  00pm  ...  zqutus7epw  \\\n",
       "0   0    0       0      0     0     0    0     0    0     0  ...           0   \n",
       "1   0    0       0      0     0     0    0     0    0     0  ...           0   \n",
       "2   0    0       0      0     0     0    0     0    0     0  ...           0   \n",
       "\n",
       "   zrh  zrh_airport  zsdgzydnde  ztrdwv0n4l  zukes  zurich  zv2pt6trk9  \\\n",
       "0    0            0           0           0      0       0           0   \n",
       "1    0            0           0           0      0       0           0   \n",
       "2    0            0           0           0      0       0           0   \n",
       "\n",
       "   zv6cfpohl5  zzps5ywve2  \n",
       "0           0           0  \n",
       "1           0           0  \n",
       "2           0           0  \n",
       "\n",
       "[3 rows x 12479 columns]"
      ]
     },
     "execution_count": 43,
     "metadata": {},
     "output_type": "execute_result"
    }
   ],
   "source": [
    "from sklearn.feature_extraction.text import CountVectorizer\n",
    "cv = CountVectorizer(stop_words='english')\n",
    "words = cv.fit_transform(df.text)\n",
    "matrix = words.toarray()\n",
    "feat_dict = sorted(cv.vocabulary_.keys())\n",
    "dataset = pd.DataFrame(data = matrix, columns=feat_dict)\n",
    "dataset.head(3)"
   ]
  },
  {
   "cell_type": "code",
   "execution_count": 48,
   "id": "b342bfec-0d40-4ccd-910e-d838d7a79153",
   "metadata": {},
   "outputs": [],
   "source": [
    "sum_words = words.sum(axis=0)"
   ]
  },
  {
   "cell_type": "code",
   "execution_count": 55,
   "id": "63d8a40c-1967-4f8b-8366-29f75fd70631",
   "metadata": {},
   "outputs": [
    {
     "data": {
      "text/plain": [
       "<Axes: xlabel='word'>"
      ]
     },
     "execution_count": 55,
     "metadata": {},
     "output_type": "execute_result"
    },
    {
     "name": "stderr",
     "output_type": "stream",
     "text": [
      "E:\\CodingNinjas\\MachineLearning\\Week-14\\SentimentAnalysis\\env\\Lib\\site-packages\\IPython\\core\\events.py:82: UserWarning: Glyph 9 (\t) missing from font(s) DejaVu Sans.\n",
      "  func(*args, **kwargs)\n"
     ]
    }
   ],
   "source": [
    "words_freq = [(words, sum_words[0,i]) for word,i in cv.vocabulary_.items()]\n",
    "words_freq = sorted(words_freq, key = lambda x: x[1], reverse= True)\n",
    "freq = pd.DataFrame(words_freq, columns = ['word', 'freq'])\n",
    "freq.head(30).plot(x='word', y='freq',kind = 'bar', color='blue')\n"
   ]
  },
  {
   "cell_type": "code",
   "execution_count": null,
   "id": "88e592d5-5b4a-4849-a848-457627d671b3",
   "metadata": {},
   "outputs": [],
   "source": []
  }
 ],
 "metadata": {
  "kernelspec": {
   "display_name": "Python 3 (ipykernel)",
   "language": "python",
   "name": "python3"
  },
  "language_info": {
   "codemirror_mode": {
    "name": "ipython",
    "version": 3
   },
   "file_extension": ".py",
   "mimetype": "text/x-python",
   "name": "python",
   "nbconvert_exporter": "python",
   "pygments_lexer": "ipython3",
   "version": "3.12.7"
  }
 },
 "nbformat": 4,
 "nbformat_minor": 5
}
