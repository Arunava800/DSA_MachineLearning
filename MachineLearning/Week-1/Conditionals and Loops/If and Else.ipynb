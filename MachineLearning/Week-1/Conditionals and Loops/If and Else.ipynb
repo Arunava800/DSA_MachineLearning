{
 "cells": [
  {
   "cell_type": "markdown",
   "id": "6129dbec-af59-495b-8c75-956b931f194a",
   "metadata": {},
   "source": [
    "# IF AND ELSE"
   ]
  },
  {
   "cell_type": "code",
   "execution_count": 4,
   "id": "51c20b6c-f4a1-46da-af40-4eb5388d9a0e",
   "metadata": {},
   "outputs": [
    {
     "name": "stdout",
     "output_type": "stream",
     "text": [
      "I am inside else\n"
     ]
    }
   ],
   "source": [
    "a = False \n",
    "if a:\n",
    "    print(\"I am inside if\")\n",
    "    print(\"I am inside if statement\")\n",
    "else:\n",
    "    print(\"I am inside else\")"
   ]
  },
  {
   "cell_type": "markdown",
   "id": "a5e0976d-06e2-4d3b-a0ba-5e7889553973",
   "metadata": {},
   "source": [
    "# CHECK EVEN OR ODD"
   ]
  },
  {
   "cell_type": "code",
   "execution_count": 7,
   "id": "a49c4f1f-a427-43ea-b32f-9e2802535b33",
   "metadata": {},
   "outputs": [
    {
     "name": "stdin",
     "output_type": "stream",
     "text": [
      " 5\n"
     ]
    },
    {
     "name": "stdout",
     "output_type": "stream",
     "text": [
      "Odd\n"
     ]
    }
   ],
   "source": [
    "n = int(input())\n",
    "r = n % 2\n",
    "if r==0:\n",
    "    print(\"Even\")\n",
    "else:\n",
    "    print(\"Odd\")"
   ]
  },
  {
   "cell_type": "code",
   "execution_count": 8,
   "id": "19fdec39-108b-414c-bebb-17eb099d068f",
   "metadata": {},
   "outputs": [
    {
     "name": "stdout",
     "output_type": "stream",
     "text": [
      "B\n"
     ]
    }
   ],
   "source": [
    "if True or True:\n",
    "    if False and True or False:\n",
    "        print('A')\n",
    "    elif False and False or True and True:\n",
    "       print('B')\n",
    "    else:\n",
    "      print('C')\n",
    "else:\n",
    "     print('D')"
   ]
  },
  {
   "cell_type": "code",
   "execution_count": null,
   "id": "fbbecc6e-fd11-461f-9d7b-7eca1a2dbe0d",
   "metadata": {},
   "outputs": [],
   "source": []
  }
 ],
 "metadata": {
  "kernelspec": {
   "display_name": "Python 3 (ipykernel)",
   "language": "python",
   "name": "python3"
  },
  "language_info": {
   "codemirror_mode": {
    "name": "ipython",
    "version": 3
   },
   "file_extension": ".py",
   "mimetype": "text/x-python",
   "name": "python",
   "nbconvert_exporter": "python",
   "pygments_lexer": "ipython3",
   "version": "3.8.1"
  }
 },
 "nbformat": 4,
 "nbformat_minor": 5
}
