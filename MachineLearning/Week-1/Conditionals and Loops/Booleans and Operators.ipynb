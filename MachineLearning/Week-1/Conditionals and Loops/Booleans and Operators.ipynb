{
 "cells": [
  {
   "cell_type": "markdown",
   "id": "f10be500-cd73-4e70-93d0-0d15513eb1e2",
   "metadata": {},
   "source": [
    "# Booleans"
   ]
  },
  {
   "cell_type": "code",
   "execution_count": 1,
   "id": "776b9fa3-2239-4faa-9cbf-7f0f822ecba2",
   "metadata": {},
   "outputs": [
    {
     "data": {
      "text/plain": [
       "(bool, bool)"
      ]
     },
     "execution_count": 1,
     "metadata": {},
     "output_type": "execute_result"
    }
   ],
   "source": [
    "a = True\n",
    "b = False\n",
    "type(a), type(b)"
   ]
  },
  {
   "cell_type": "markdown",
   "id": "ebdb7669-3bd4-4558-8d89-5d455bbf4a83",
   "metadata": {},
   "source": [
    "# Relational Operators"
   ]
  },
  {
   "cell_type": "code",
   "execution_count": 2,
   "id": "fd978e0a-2ae2-499b-bb06-ccc493762f56",
   "metadata": {},
   "outputs": [
    {
     "name": "stdout",
     "output_type": "stream",
     "text": [
      "True\n",
      "False\n",
      "True\n",
      "False\n",
      "False\n",
      "True\n"
     ]
    }
   ],
   "source": [
    "a = 20\n",
    "b = 10\n",
    "print(a>b)\n",
    "print(a<b)\n",
    "print(a>=b)\n",
    "print(a<=b)\n",
    "print(a==b)\n",
    "print(a!=b)\n"
   ]
  },
  {
   "cell_type": "markdown",
   "id": "cad05305-e4c4-4325-a0e5-9a5920e32da6",
   "metadata": {},
   "source": [
    "# Logical Operators"
   ]
  },
  {
   "cell_type": "code",
   "execution_count": 3,
   "id": "c3f2e0f0-e38b-46d2-a8f0-d0dab06e4deb",
   "metadata": {},
   "outputs": [
    {
     "data": {
      "text/plain": [
       "False"
      ]
     },
     "execution_count": 3,
     "metadata": {},
     "output_type": "execute_result"
    }
   ],
   "source": [
    "c1= a> 10\n",
    "c2 = b > 10\n",
    "c1 and c2"
   ]
  },
  {
   "cell_type": "code",
   "execution_count": 4,
   "id": "b4e6a4e0-74b2-4554-874d-b960c893082a",
   "metadata": {},
   "outputs": [
    {
     "data": {
      "text/plain": [
       "True"
      ]
     },
     "execution_count": 4,
     "metadata": {},
     "output_type": "execute_result"
    }
   ],
   "source": [
    "c1 or c2"
   ]
  },
  {
   "cell_type": "code",
   "execution_count": 5,
   "id": "74786004-c03c-47ef-9ec5-af8a266b432e",
   "metadata": {},
   "outputs": [
    {
     "data": {
      "text/plain": [
       "False"
      ]
     },
     "execution_count": 5,
     "metadata": {},
     "output_type": "execute_result"
    }
   ],
   "source": [
    "not(c1)"
   ]
  },
  {
   "cell_type": "code",
   "execution_count": null,
   "id": "eebb996a-dd1e-4932-b2d8-6a99720845e0",
   "metadata": {},
   "outputs": [],
   "source": []
  }
 ],
 "metadata": {
  "kernelspec": {
   "display_name": "Python 3 (ipykernel)",
   "language": "python",
   "name": "python3"
  },
  "language_info": {
   "codemirror_mode": {
    "name": "ipython",
    "version": 3
   },
   "file_extension": ".py",
   "mimetype": "text/x-python",
   "name": "python",
   "nbconvert_exporter": "python",
   "pygments_lexer": "ipython3",
   "version": "3.8.1"
  }
 },
 "nbformat": 4,
 "nbformat_minor": 5
}
