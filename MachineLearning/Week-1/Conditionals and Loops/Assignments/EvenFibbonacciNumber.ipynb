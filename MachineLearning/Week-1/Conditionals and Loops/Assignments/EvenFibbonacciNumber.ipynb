{
 "cells": [
  {
   "cell_type": "markdown",
   "id": "7093d27a-b865-42d4-8c0f-f566fb2e94f4",
   "metadata": {},
   "source": [
    "## Problem Statement: \n",
    "\n",
    "Given a number N find the sum of all the even valued terms in fibonacci sequences less than or equal to N. Try generating only even fibbonacci numbers instead of iterating over all fibonacci numbers\n",
    "\n",
    "*_Sample Input:_* 8\n",
    "\n",
    "*_Sample Output:_* 10"
   ]
  },
  {
   "cell_type": "markdown",
   "id": "631dbf8f-180c-4fd5-a82e-100f62d878c7",
   "metadata": {},
   "source": [
    "#### Generating only the even fibonacci series\n",
    "\n",
    "**` EFn = 4EFn-1 + EFn-2\n",
    "with seed values\n",
    "     EF0 = 0 and EF1 = 2.`**"
   ]
  },
  {
   "cell_type": "code",
   "execution_count": 40,
   "id": "76ac7856-738f-4273-800a-772e96f88f6a",
   "metadata": {},
   "outputs": [
    {
     "name": "stdin",
     "output_type": "stream",
     "text": [
      " 400\n"
     ]
    },
    {
     "name": "stdout",
     "output_type": "stream",
     "text": [
      "188\n"
     ]
    }
   ],
   "source": [
    "number = int(input())\n",
    "first_num = 0\n",
    "second_num = 2\n",
    "fib_num = 0\n",
    "result = 0\n",
    "\n",
    "# generate the even number sequence\n",
    "for i in range(number+1):\n",
    "    fib_num = (4 * second_num)+ first_num\n",
    "    first_num = second_num\n",
    "    second_num = fib_num\n",
    "    if fib_num <= number:\n",
    "        result += fib_num\n",
    "print(result+2)"
   ]
  },
  {
   "cell_type": "code",
   "execution_count": 6,
   "id": "86f0bcb8-e80f-4638-ae17-ce3e5dd2863a",
   "metadata": {},
   "outputs": [
    {
     "name": "stdin",
     "output_type": "stream",
     "text": [
      " 10\n"
     ]
    },
    {
     "name": "stdout",
     "output_type": "stream",
     "text": [
      "0 1 1\n",
      "2\n",
      "3\n",
      "5\n",
      "8\n",
      "13\n",
      "21\n",
      "34\n",
      "55\n",
      "89\n",
      "144\n"
     ]
    }
   ],
   "source": []
  },
  {
   "cell_type": "code",
   "execution_count": null,
   "id": "633c8c1b-79ba-42fe-8582-50e0b15e1c1c",
   "metadata": {},
   "outputs": [],
   "source": []
  }
 ],
 "metadata": {
  "kernelspec": {
   "display_name": "Python 3 (ipykernel)",
   "language": "python",
   "name": "python3"
  },
  "language_info": {
   "codemirror_mode": {
    "name": "ipython",
    "version": 3
   },
   "file_extension": ".py",
   "mimetype": "text/x-python",
   "name": "python",
   "nbconvert_exporter": "python",
   "pygments_lexer": "ipython3",
   "version": "3.8.1"
  }
 },
 "nbformat": 4,
 "nbformat_minor": 5
}
