{
 "cells": [
  {
   "cell_type": "markdown",
   "id": "94315911-d925-4fcc-9a67-71b6f7a47994",
   "metadata": {},
   "source": [
    "## Print the following pattern\n",
    "\n",
    "1\n",
    "\n",
    "2  3\n",
    "\n",
    "4  5  6\n",
    "\n",
    "7  8  9  10\n",
    "\n",
    "11 12 13 14 15"
   ]
  },
  {
   "cell_type": "code",
   "execution_count": 1,
   "id": "33ec07c9-aec4-4e7b-bf9c-a8fb6319ccb6",
   "metadata": {},
   "outputs": [
    {
     "name": "stdin",
     "output_type": "stream",
     "text": [
      " 5\n"
     ]
    },
    {
     "name": "stdout",
     "output_type": "stream",
     "text": [
      "1 \n",
      "2 3 \n",
      "4 5 6 \n",
      "7 8 9 10 \n",
      "11 12 13 14 15 \n"
     ]
    }
   ],
   "source": [
    "rows = 1\n",
    "count = 1\n",
    "n = int(input())\n",
    "while rows <= n:\n",
    "    cols = 1\n",
    "    while cols <= rows:\n",
    "        print(count, end=\" \")\n",
    "        cols += 1\n",
    "        count += 1\n",
    "    print()\n",
    "    rows += 1"
   ]
  },
  {
   "cell_type": "markdown",
   "id": "f1854ed4-8e61-4b04-8785-ebadf921007a",
   "metadata": {},
   "source": [
    "## Print the following patterns:\n",
    "\n",
    "1\n",
    "\n",
    "3   2\n",
    "\n",
    "4   5  6\n",
    "\n",
    "10  9  8  7\n",
    "\n",
    "11 12  13 14"
   ]
  },
  {
   "cell_type": "code",
   "execution_count": 9,
   "id": "8b22cb7c-4579-4a76-aadb-f1f2262fb143",
   "metadata": {},
   "outputs": [
    {
     "name": "stdin",
     "output_type": "stream",
     "text": [
      " 7\n"
     ]
    },
    {
     "name": "stdout",
     "output_type": "stream",
     "text": [
      "1 \n",
      "3 2 \n",
      "4 5 6 \n",
      "10 9 8 7 \n",
      "11 12 13 14 15 \n",
      "21 20 19 18 17 16 \n",
      "22 23 24 25 26 27 28 \n"
     ]
    }
   ],
   "source": [
    "n = int(input())\n",
    "rows = 1\n",
    "count = 1\n",
    "while rows <= n:\n",
    "    cols = 1\n",
    "    flag = True\n",
    "    while cols <= rows:\n",
    "        if rows % 2 != 0:\n",
    "            if flag:\n",
    "                num = count + rows - 1\n",
    "                print(num, end=\" \")\n",
    "                flag = False\n",
    "                cols += 1\n",
    "            else:\n",
    "                num += 1\n",
    "                print(num, end=\" \")\n",
    "                count = num\n",
    "                cols += 1\n",
    "        else:\n",
    "            if flag:\n",
    "                num = count + rows\n",
    "                print(num, end=\" \")\n",
    "                flag = False\n",
    "                cols += 1\n",
    "            else:\n",
    "                num -= 1\n",
    "                print(num, end=\" \")\n",
    "                count = num \n",
    "                cols += 1\n",
    "    print()\n",
    "    rows += 1"
   ]
  },
  {
   "cell_type": "code",
   "execution_count": 2,
   "id": "7b9e127f-724d-4558-8f06-67c4d3590f0c",
   "metadata": {},
   "outputs": [
    {
     "name": "stdin",
     "output_type": "stream",
     "text": [
      " 5\n"
     ]
    },
    {
     "name": "stdout",
     "output_type": "stream",
     "text": [
      "1 \n",
      "3 2 \n",
      "4 5 6 \n",
      "10 9 8 7 \n",
      "11 12 13 14 15 \n"
     ]
    }
   ],
   "source": [
    "n = int(input())\n",
    "line = 1\n",
    "i = 0\n",
    "step = 1\n",
    "while line <= n:\n",
    "    if line % 2 == 0:\n",
    "        step = -1\n",
    "        i += line - 1\n",
    "    else:\n",
    "        step = 1\n",
    "        i += line\n",
    "    for loop in range(0, line):\n",
    "        print(i, end=\" \")\n",
    "        i += step\n",
    "    print()\n",
    "    line += 1\n",
    "        "
   ]
  },
  {
   "cell_type": "code",
   "execution_count": null,
   "id": "eb6098d7-f22c-4765-962b-bd2e749b1021",
   "metadata": {},
   "outputs": [],
   "source": []
  }
 ],
 "metadata": {
  "kernelspec": {
   "display_name": "Python 3 (ipykernel)",
   "language": "python",
   "name": "python3"
  },
  "language_info": {
   "codemirror_mode": {
    "name": "ipython",
    "version": 3
   },
   "file_extension": ".py",
   "mimetype": "text/x-python",
   "name": "python",
   "nbconvert_exporter": "python",
   "pygments_lexer": "ipython3",
   "version": "3.8.1"
  }
 },
 "nbformat": 4,
 "nbformat_minor": 5
}
