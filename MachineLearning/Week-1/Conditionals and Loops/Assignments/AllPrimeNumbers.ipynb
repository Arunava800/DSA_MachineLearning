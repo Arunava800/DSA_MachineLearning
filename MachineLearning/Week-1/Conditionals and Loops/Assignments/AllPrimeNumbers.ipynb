{
 "cells": [
  {
   "cell_type": "markdown",
   "id": "555399f6-80fa-4a8f-a3ee-bfcb2dd6847d",
   "metadata": {},
   "source": [
    "## Problem Staement:\n",
    "\n",
    "Given an integer N, print all the prime numbers that lie in the range 2 to N(both inclusive). Print the numbers in different lines\n",
    "\n",
    "*_Sample Input 1:_* 9\n",
    "\n",
    "*_Sample Output:_*\n",
    "\n",
    "2\n",
    "3\n",
    "5\n",
    "7"
   ]
  },
  {
   "cell_type": "code",
   "execution_count": 2,
   "id": "d26b02a4-2c85-469d-9a15-00934473ac0c",
   "metadata": {},
   "outputs": [
    {
     "name": "stdin",
     "output_type": "stream",
     "text": [
      " 9\n"
     ]
    },
    {
     "name": "stdout",
     "output_type": "stream",
     "text": [
      "2\n",
      "3\n",
      "5\n",
      "7\n"
     ]
    }
   ],
   "source": [
    "n = int(input())\n",
    "for i in range(2, n+1):\n",
    "    flag = True\n",
    "    for j in range(2,i-1):\n",
    "        if i % j == 0:\n",
    "            flag = False\n",
    "            break\n",
    "    if flag:\n",
    "        print(i)\n",
    "    "
   ]
  },
  {
   "cell_type": "code",
   "execution_count": null,
   "id": "3550322b-9578-4e61-85ae-b6494479e7e0",
   "metadata": {},
   "outputs": [],
   "source": []
  }
 ],
 "metadata": {
  "kernelspec": {
   "display_name": "Python 3 (ipykernel)",
   "language": "python",
   "name": "python3"
  },
  "language_info": {
   "codemirror_mode": {
    "name": "ipython",
    "version": 3
   },
   "file_extension": ".py",
   "mimetype": "text/x-python",
   "name": "python",
   "nbconvert_exporter": "python",
   "pygments_lexer": "ipython3",
   "version": "3.8.1"
  }
 },
 "nbformat": 4,
 "nbformat_minor": 5
}
