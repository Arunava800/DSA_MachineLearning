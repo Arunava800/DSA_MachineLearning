{
 "cells": [
  {
   "cell_type": "markdown",
   "id": "4c6f4892-970c-44d4-9801-81c984b03b3f",
   "metadata": {},
   "source": [
    "## Problem Statement:\n",
    "\n",
    "Find and return the number of trailing 0s in n Factorial with calculating n Factorial\n",
    "\n",
    "*_Sample Input:_* 50\n",
    "\n",
    "*_Sample Output:_* 12\n",
    "\n",
    "\n",
    "# *_Solution:_*  Count the number of 5's in the prime factor of n!"
   ]
  },
  {
   "cell_type": "code",
   "execution_count": 16,
   "id": "d873aa95-eae2-4eea-9cac-cab71935ebed",
   "metadata": {},
   "outputs": [
    {
     "name": "stdin",
     "output_type": "stream",
     "text": [
      " 10\n"
     ]
    },
    {
     "name": "stdout",
     "output_type": "stream",
     "text": [
      "2\n"
     ]
    }
   ],
   "source": [
    "n = int(input())\n",
    "count = 0\n",
    "while n > 5:\n",
    "    n = n // 5\n",
    "    count += n\n",
    "print(count)"
   ]
  },
  {
   "cell_type": "code",
   "execution_count": null,
   "id": "2f506ee5-7449-4824-90cb-9ba7bb26cf28",
   "metadata": {},
   "outputs": [],
   "source": []
  }
 ],
 "metadata": {
  "kernelspec": {
   "display_name": "Python 3 (ipykernel)",
   "language": "python",
   "name": "python3"
  },
  "language_info": {
   "codemirror_mode": {
    "name": "ipython",
    "version": 3
   },
   "file_extension": ".py",
   "mimetype": "text/x-python",
   "name": "python",
   "nbconvert_exporter": "python",
   "pygments_lexer": "ipython3",
   "version": "3.8.1"
  }
 },
 "nbformat": 4,
 "nbformat_minor": 5
}
