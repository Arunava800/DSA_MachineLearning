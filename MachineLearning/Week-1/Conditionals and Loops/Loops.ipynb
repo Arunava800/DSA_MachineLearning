{
 "cells": [
  {
   "cell_type": "markdown",
   "id": "fe53405e-b74a-4be4-a984-24bd301d7978",
   "metadata": {},
   "source": [
    "# Loops\n",
    "\n",
    "* It excutes a certain number of steps for certain number of times"
   ]
  },
  {
   "cell_type": "markdown",
   "id": "71a7742a-f11b-4410-8483-97d51e10db68",
   "metadata": {},
   "source": [
    "# Print all the natural numbers `n` times."
   ]
  },
  {
   "cell_type": "code",
   "execution_count": 1,
   "id": "08026f78-f260-440e-8b92-e4272b069d4d",
   "metadata": {},
   "outputs": [
    {
     "name": "stdin",
     "output_type": "stream",
     "text": [
      " 5\n"
     ]
    },
    {
     "name": "stdout",
     "output_type": "stream",
     "text": [
      "1\n",
      "2\n",
      "3\n",
      "4\n",
      "5\n"
     ]
    }
   ],
   "source": [
    "count = 1\n",
    "n = int(input())\n",
    "while count <= n:\n",
    "    print(count)\n",
    "    count += 1"
   ]
  },
  {
   "cell_type": "markdown",
   "id": "8a59950d-3243-4e43-8929-7909bb7526c2",
   "metadata": {},
   "source": [
    "# Fast Iterartions"
   ]
  },
  {
   "cell_type": "code",
   "execution_count": 2,
   "id": "aaaafb7e-5f4b-4749-a3e8-5dd38dc5333a",
   "metadata": {},
   "outputs": [
    {
     "name": "stdout",
     "output_type": "stream",
     "text": [
      "a 97\n",
      "b 98\n",
      "c 99\n",
      "d 100\n"
     ]
    }
   ],
   "source": [
    "s = \"abcd\"\n",
    "for c in s:\n",
    "    print(c, ord(c))"
   ]
  },
  {
   "cell_type": "code",
   "execution_count": 3,
   "id": "3983528e-1253-4fe1-891f-556e96fd911b",
   "metadata": {},
   "outputs": [
    {
     "name": "stdin",
     "output_type": "stream",
     "text": [
      " 10\n"
     ]
    },
    {
     "name": "stdout",
     "output_type": "stream",
     "text": [
      "1\n",
      "2\n",
      "3\n",
      "4\n",
      "5\n",
      "6\n",
      "7\n",
      "8\n",
      "9\n",
      "10\n"
     ]
    }
   ],
   "source": [
    "n = int(input())\n",
    "for i in range(1,n+1,1):\n",
    "    print(i)"
   ]
  },
  {
   "cell_type": "markdown",
   "id": "c3f7dc3b-1699-4119-b754-98aa3f3496a6",
   "metadata": {},
   "source": [
    "# Reverse a number using for loop\n"
   ]
  },
  {
   "cell_type": "code",
   "execution_count": 4,
   "id": "9b3a7d4c-bdb5-48c1-8bc7-d3db850e6853",
   "metadata": {},
   "outputs": [
    {
     "name": "stdin",
     "output_type": "stream",
     "text": [
      " 5\n"
     ]
    },
    {
     "name": "stdout",
     "output_type": "stream",
     "text": [
      "5\n",
      "4\n",
      "3\n",
      "2\n",
      "1\n"
     ]
    }
   ],
   "source": [
    "n = int(input())\n",
    "for i in range(n, 0, -1):\n",
    "    print(i)"
   ]
  },
  {
   "cell_type": "markdown",
   "id": "82b1e9ee-5ff1-4e39-89dc-07f2245b2d62",
   "metadata": {},
   "source": [
    "# Output Based Question: 01"
   ]
  },
  {
   "cell_type": "code",
   "execution_count": 5,
   "id": "e6a85098-4546-4ab6-8435-171a3ae8b47c",
   "metadata": {},
   "outputs": [
    {
     "name": "stdout",
     "output_type": "stream",
     "text": [
      "3 4 5 "
     ]
    }
   ],
   "source": [
    "a = 3\n",
    "for i in range(a):\n",
    "    print(a, end=\" \")\n",
    "    a += 1"
   ]
  },
  {
   "cell_type": "markdown",
   "id": "4a551557-9f6b-4020-9497-ab16801c34f9",
   "metadata": {},
   "source": [
    "# Output Based Question: 02"
   ]
  },
  {
   "cell_type": "code",
   "execution_count": 6,
   "id": "b280555e-d25b-4216-8124-b1359a20fceb",
   "metadata": {},
   "outputs": [
    {
     "name": "stdout",
     "output_type": "stream",
     "text": [
      "abcd"
     ]
    }
   ],
   "source": [
    "x = \"abcd\"\n",
    "for i in x:\n",
    "    print(i, end=\"\")\n",
    "    x.upper()\n"
   ]
  },
  {
   "cell_type": "markdown",
   "id": "749c429d-6ef8-46c7-92d0-4f317be2bd83",
   "metadata": {},
   "source": [
    "# Output Based Question: 03"
   ]
  },
  {
   "cell_type": "code",
   "execution_count": 7,
   "id": "a5ab7127-d2ea-4f55-ad3f-2d6e9cd413a5",
   "metadata": {},
   "outputs": [
    {
     "name": "stdout",
     "output_type": "stream",
     "text": [
      "abcd\n",
      "a\n",
      "a\n",
      "a\n"
     ]
    }
   ],
   "source": [
    "x = \"abcd\"\n",
    "for i in range(len(x)):\n",
    "    print(x)\n",
    "    x = 'a'"
   ]
  },
  {
   "cell_type": "markdown",
   "id": "8c34beff-b45b-4b63-9f3f-2ecc5f2e8fbe",
   "metadata": {},
   "source": [
    "# Problem Statement: 01 \n",
    "* Print the following pattern for `n` number of rows\n",
    "  \n",
    "*  **Note** Each line consists of equal number of characters + spaces. Suppose you are printing  xth line for N = n. You need to print 1..x followed by `(n-x)` spaces, again followed by x...1\n",
    "\n",
    "\n",
    "* 1                      1\n",
    "\n",
    "  1 2                  2 1\n",
    "\n",
    "  1 2 3              3 2 1\n",
    "\n",
    "  1 2 3 4          4 3 2 1\n",
    "\n",
    "  1 2 3 4    5     4 3 2 1"
   ]
  },
  {
   "cell_type": "code",
   "execution_count": 14,
   "id": "92e9272f-197a-4be3-8883-8d7787a8de11",
   "metadata": {},
   "outputs": [
    {
     "name": "stdin",
     "output_type": "stream",
     "text": [
      " 5\n"
     ]
    },
    {
     "name": "stdout",
     "output_type": "stream",
     "text": [
      "1        1\n",
      "12      21\n",
      "123    321\n",
      "1234  4321\n",
      "1234554321\n"
     ]
    }
   ],
   "source": [
    "n = int(input())\n",
    "row = 1\n",
    "while row <= n:\n",
    "    for i in range(1, row+1):\n",
    "        print(i, end=\"\")\n",
    "    spaces = (n-row) * 2\n",
    "    for _ in range(spaces):\n",
    "        print(\"\", end=\" \")\n",
    "    for i in range(row, 0, -1):\n",
    "        print(i,end=\"\")\n",
    "    print()\n",
    "    row += 1"
   ]
  },
  {
   "cell_type": "markdown",
   "id": "a03c0a27-c856-4447-8532-9a6c4d6a5b35",
   "metadata": {},
   "source": [
    "**Problem 2:**\n",
    "\n",
    "Aadil has been provided with a sentence in the form of a string as a function parameter. The task is to implement a function so as to change the sentence such that each word in the sentence is reversed. A word is a combination of characters without any spaces.\n",
    "\n",
    "**Input Sentence:** Hello I am Aadil\n",
    "\n",
    "**Ouptut Sentence:** elloH I ma lidaA"
   ]
  },
  {
   "cell_type": "code",
   "execution_count": 12,
   "id": "03fe98b8-8e4c-499e-81e7-8833b0a329ec",
   "metadata": {},
   "outputs": [],
   "source": [
    "def reverseEachWord(string):\n",
    "    ptrA, ptrB = 0, 0\n",
    "    reverse = \"\"\n",
    "    length = len(string)\n",
    "    string = list(string)\n",
    "    for i in range(len(string)):\n",
    "        if string[i] == \" \" or i ==length - 1:\n",
    "            if i == length - 1:\n",
    "                ptrB = i\n",
    "            else:\n",
    "                ptrB = i - 1\n",
    "            while ptrA < ptrB:\n",
    "                string[ptrA], string[ptrB] = string[ptrB], string[ptrA]\n",
    "                ptrA += 1\n",
    "                ptrB -= 1\n",
    "            ptrA = i + 1\n",
    "            ptrB = ptrA\n",
    "    for i in string:\n",
    "        reverse += i\n",
    "    return reverse"
   ]
  },
  {
   "cell_type": "code",
   "execution_count": 13,
   "id": "8e98a4c7-64a4-4b4e-ba3c-b2478420a543",
   "metadata": {},
   "outputs": [
    {
     "name": "stdin",
     "output_type": "stream",
     "text": [
      " Hello Aadil\n"
     ]
    },
    {
     "name": "stdout",
     "output_type": "stream",
     "text": [
      "olleH lidaA\n"
     ]
    }
   ],
   "source": [
    "string = input()\n",
    "ans = reverseEachWord(string)\n",
    "print(ans)"
   ]
  },
  {
   "cell_type": "code",
   "execution_count": null,
   "id": "d7fef8de-071a-49cf-979f-8a6eda9d4ded",
   "metadata": {},
   "outputs": [],
   "source": []
  },
  {
   "cell_type": "code",
   "execution_count": null,
   "id": "6325751c-a378-4141-b40c-0ffb6bef2e21",
   "metadata": {},
   "outputs": [],
   "source": []
  }
 ],
 "metadata": {
  "kernelspec": {
   "display_name": "Python 3 (ipykernel)",
   "language": "python",
   "name": "python3"
  },
  "language_info": {
   "codemirror_mode": {
    "name": "ipython",
    "version": 3
   },
   "file_extension": ".py",
   "mimetype": "text/x-python",
   "name": "python",
   "nbconvert_exporter": "python",
   "pygments_lexer": "ipython3",
   "version": "3.8.1"
  }
 },
 "nbformat": 4,
 "nbformat_minor": 5
}
