{
 "cells": [
  {
   "cell_type": "markdown",
   "id": "7c4d9f49-d311-4738-8d25-44073c18c093",
   "metadata": {},
   "source": [
    "## Find the Combination for the given input\n",
    "\n",
    "### `nCr = n!/(r!*(n-r)!)`"
   ]
  },
  {
   "cell_type": "code",
   "execution_count": 8,
   "id": "08ce5082-967b-45f2-b7e8-288fe8174b69",
   "metadata": {},
   "outputs": [],
   "source": [
    "def fact(n):\n",
    "    n_fact = 1\n",
    "    for i in range(1, n+1):\n",
    "        n_fact = n_fact * i\n",
    "    return n_fact"
   ]
  },
  {
   "cell_type": "code",
   "execution_count": 9,
   "id": "a9bacd09-be8d-49cc-a8d8-fb5702457070",
   "metadata": {},
   "outputs": [
    {
     "name": "stdin",
     "output_type": "stream",
     "text": [
      " 5\n",
      " 2\n"
     ]
    },
    {
     "name": "stdout",
     "output_type": "stream",
     "text": [
      "10\n"
     ]
    }
   ],
   "source": [
    "n = int(input())\n",
    "r = int(input())\n",
    "n_r = n - r\n",
    "ans = fact(n)//(fact(r)*fact(n_r))\n",
    "print(ans)"
   ]
  },
  {
   "cell_type": "markdown",
   "id": "2f6e3203-d9c9-4fed-ae33-77c433bcf4eb",
   "metadata": {},
   "source": [
    "## Variable length input and output"
   ]
  },
  {
   "cell_type": "code",
   "execution_count": 12,
   "id": "930480cc-3eed-4612-8dda-40ac82b7010a",
   "metadata": {},
   "outputs": [],
   "source": [
    "def sum(a,b, *more):\n",
    "    print(a)\n",
    "    print(b)\n",
    "    print(more)"
   ]
  },
  {
   "cell_type": "code",
   "execution_count": 13,
   "id": "bc129406-d58a-45e2-b14f-e99f6198f1bf",
   "metadata": {},
   "outputs": [
    {
     "name": "stdout",
     "output_type": "stream",
     "text": [
      "1\n",
      "2\n",
      "(3,)\n"
     ]
    }
   ],
   "source": [
    "sum(1,2,3)"
   ]
  },
  {
   "cell_type": "code",
   "execution_count": 14,
   "id": "92f6cdeb-cf6a-4d5c-9c2f-5010cd5e43c9",
   "metadata": {},
   "outputs": [],
   "source": [
    "def diff(a,b):\n",
    "    return a+b, a-b"
   ]
  },
  {
   "cell_type": "code",
   "execution_count": 15,
   "id": "b8beabe8-8081-4720-aaf2-f8e6a0c82f0e",
   "metadata": {},
   "outputs": [
    {
     "name": "stdout",
     "output_type": "stream",
     "text": [
      "(9, -1)\n"
     ]
    }
   ],
   "source": [
    "c = diff(4,5)\n",
    "print(c)"
   ]
  },
  {
   "cell_type": "code",
   "execution_count": 16,
   "id": "267dc668-49e7-482e-b612-c2b866695edd",
   "metadata": {},
   "outputs": [
    {
     "name": "stdout",
     "output_type": "stream",
     "text": [
      "10\n",
      "-2\n"
     ]
    }
   ],
   "source": [
    "c,d = diff(4,6)\n",
    "print(c)\n",
    "print(d)"
   ]
  },
  {
   "cell_type": "code",
   "execution_count": 21,
   "id": "e8847e68-2648-4c1f-aad5-1305c3729c8c",
   "metadata": {},
   "outputs": [],
   "source": [
    "def mul(a,b, *args, **kwargs):\n",
    "    print(a)\n",
    "    print(b)\n",
    "    print(kwargs)\n",
    "    print(args)"
   ]
  },
  {
   "cell_type": "code",
   "execution_count": 23,
   "id": "04005dfb-466b-45ae-8ee1-6598bef6023c",
   "metadata": {},
   "outputs": [
    {
     "name": "stdout",
     "output_type": "stream",
     "text": [
      "1\n",
      "2\n",
      "{'c': 3, 'd': 4, 'e': 5}\n",
      "(6, 7, 8, 9, 10)\n"
     ]
    }
   ],
   "source": [
    "mul(1,2, 6, 7, 8, 9, 10, c=3, d=4, e=5)"
   ]
  },
  {
   "cell_type": "code",
   "execution_count": null,
   "id": "2177c331-3b9e-47a6-8474-21a2459da848",
   "metadata": {},
   "outputs": [],
   "source": []
  }
 ],
 "metadata": {
  "kernelspec": {
   "display_name": "Python 3 (ipykernel)",
   "language": "python",
   "name": "python3"
  },
  "language_info": {
   "codemirror_mode": {
    "name": "ipython",
    "version": 3
   },
   "file_extension": ".py",
   "mimetype": "text/x-python",
   "name": "python",
   "nbconvert_exporter": "python",
   "pygments_lexer": "ipython3",
   "version": "3.8.1"
  }
 },
 "nbformat": 4,
 "nbformat_minor": 5
}
