{
 "cells": [
  {
   "cell_type": "markdown",
   "id": "ae73a4d1-8f9e-45b5-8e05-24737ff32297",
   "metadata": {},
   "source": [
    "## Print Hello World"
   ]
  },
  {
   "cell_type": "code",
   "execution_count": 1,
   "id": "10257813-0c43-4a42-97d0-29aa213cf7f0",
   "metadata": {},
   "outputs": [
    {
     "name": "stdout",
     "output_type": "stream",
     "text": [
      "Hello World\n",
      "Hello World\n"
     ]
    }
   ],
   "source": [
    "print(\"Hello World\")\n",
    "print(\"Hello World\")"
   ]
  },
  {
   "cell_type": "markdown",
   "id": "4dc35357-abbd-4b26-9904-ac3b77b4645a",
   "metadata": {},
   "source": [
    "## Variables"
   ]
  },
  {
   "cell_type": "code",
   "execution_count": 5,
   "id": "84b536db-471c-4f83-8acf-9e3bf1b48380",
   "metadata": {},
   "outputs": [
    {
     "name": "stdout",
     "output_type": "stream",
     "text": [
      "40\n"
     ]
    }
   ],
   "source": [
    "a = 10\n",
    "b = 30\n",
    "sum = a+b\n",
    "print(sum)"
   ]
  },
  {
   "cell_type": "code",
   "execution_count": 3,
   "id": "68c0701a-ae02-4eca-aa54-e84db7e5ce38",
   "metadata": {},
   "outputs": [
    {
     "name": "stdout",
     "output_type": "stream",
     "text": [
      "40\n"
     ]
    }
   ],
   "source": [
    "print(a+b)"
   ]
  },
  {
   "cell_type": "markdown",
   "id": "d1a336c3-3a44-4081-ab63-8f2385811230",
   "metadata": {},
   "source": [
    "## Strings\n",
    "\n",
    "A sequence of characters or the sequence of unicodes."
   ]
  },
  {
   "cell_type": "code",
   "execution_count": 6,
   "id": "c4d838ae-2a76-47ed-a278-d9140eb1aee1",
   "metadata": {},
   "outputs": [
    {
     "name": "stdout",
     "output_type": "stream",
     "text": [
      "parikh\n"
     ]
    }
   ],
   "source": [
    "s = 'parikh'\n",
    "print(s)"
   ]
  },
  {
   "cell_type": "code",
   "execution_count": 7,
   "id": "f51b9794-0214-45fa-a1e5-96d9e2dd43a7",
   "metadata": {},
   "outputs": [
    {
     "name": "stdout",
     "output_type": "stream",
     "text": [
      "\n",
      "My name is\n",
      "Parikh\n",
      "\n"
     ]
    }
   ],
   "source": [
    "s = \"\"\"\n",
    "My name is\n",
    "Parikh\n",
    "\"\"\"\n",
    "print(s)"
   ]
  },
  {
   "cell_type": "code",
   "execution_count": 11,
   "id": "770eb9c6-799a-45d7-b272-1bbdffa7c182",
   "metadata": {},
   "outputs": [
    {
     "data": {
      "text/plain": [
       "('n', '\\n')"
      ]
     },
     "execution_count": 11,
     "metadata": {},
     "output_type": "execute_result"
    }
   ],
   "source": [
    "s[4], s[-1]"
   ]
  },
  {
   "cell_type": "code",
   "execution_count": 12,
   "id": "c323fcf8-5673-45c7-9434-61ada32eab76",
   "metadata": {},
   "outputs": [
    {
     "data": {
      "text/plain": [
       "'\\nMy name is\\nParikh\\n'"
      ]
     },
     "execution_count": 12,
     "metadata": {},
     "output_type": "execute_result"
    }
   ],
   "source": [
    "s"
   ]
  },
  {
   "cell_type": "markdown",
   "id": "7feff5a3-5a43-4178-9e33-871a6dd256ba",
   "metadata": {},
   "source": [
    "## How STRINGS are Stored??"
   ]
  },
  {
   "cell_type": "code",
   "execution_count": 19,
   "id": "e64c4155-9541-4fe4-948d-a888f513664b",
   "metadata": {},
   "outputs": [],
   "source": [
    "a = \"Rohan\""
   ]
  },
  {
   "cell_type": "code",
   "execution_count": 20,
   "id": "115aa7e0-c6e1-4df9-ad7d-8a7e6a8d2930",
   "metadata": {},
   "outputs": [
    {
     "data": {
      "text/plain": [
       "2357876667824"
      ]
     },
     "execution_count": 20,
     "metadata": {},
     "output_type": "execute_result"
    }
   ],
   "source": [
    "id(a)"
   ]
  },
  {
   "cell_type": "code",
   "execution_count": 21,
   "id": "55466e27-ab1b-4fb2-9d06-1a4fa1d12e7b",
   "metadata": {},
   "outputs": [],
   "source": [
    "a = \"parikh\""
   ]
  },
  {
   "cell_type": "code",
   "execution_count": 22,
   "id": "580a9f37-04b1-472e-853b-b36af094f940",
   "metadata": {},
   "outputs": [
    {
     "data": {
      "text/plain": [
       "2357876669168"
      ]
     },
     "execution_count": 22,
     "metadata": {},
     "output_type": "execute_result"
    }
   ],
   "source": [
    "id(a)"
   ]
  },
  {
   "cell_type": "markdown",
   "id": "4e7eb410-1d41-43f7-8c78-5a3bbabe2746",
   "metadata": {},
   "source": [
    "## Strings are immutable"
   ]
  },
  {
   "cell_type": "code",
   "execution_count": 23,
   "id": "9d216ede-c42d-40db-be30-2db64688bf5e",
   "metadata": {},
   "outputs": [
    {
     "name": "stdout",
     "output_type": "stream",
     "text": [
      "p\n"
     ]
    }
   ],
   "source": [
    "print(a[0])"
   ]
  },
  {
   "cell_type": "code",
   "execution_count": 24,
   "id": "aeb6eb51-7d58-4136-8dc4-e5c15b477234",
   "metadata": {},
   "outputs": [
    {
     "ename": "TypeError",
     "evalue": "'str' object does not support item assignment",
     "output_type": "error",
     "traceback": [
      "\u001b[1;31m---------------------------------------------------------------------------\u001b[0m",
      "\u001b[1;31mTypeError\u001b[0m                                 Traceback (most recent call last)",
      "Cell \u001b[1;32mIn[24], line 1\u001b[0m\n\u001b[1;32m----> 1\u001b[0m \u001b[43ma\u001b[49m\u001b[43m[\u001b[49m\u001b[38;5;241;43m0\u001b[39;49m\u001b[43m]\u001b[49m \u001b[38;5;241m=\u001b[39m \u001b[38;5;124m'\u001b[39m\u001b[38;5;124mS\u001b[39m\u001b[38;5;124m'\u001b[39m\n",
      "\u001b[1;31mTypeError\u001b[0m: 'str' object does not support item assignment"
     ]
    }
   ],
   "source": [
    "a[0] = 'S'"
   ]
  },
  {
   "cell_type": "markdown",
   "id": "9deedbf6-267c-40e1-9a3c-a526619ff338",
   "metadata": {},
   "source": [
    "## Operations on Strings\n",
    "\n",
    "* Split\n",
    "* Replace\n",
    "* Find\n",
    "* Lower\n",
    "* Upper\n",
    "* Startswith\n",
    "* EndsWith"
   ]
  },
  {
   "cell_type": "code",
   "execution_count": 30,
   "id": "26616625-8e53-4e28-9c89-d9f8cdc51381",
   "metadata": {},
   "outputs": [
    {
     "data": {
      "text/plain": [
       "['My', 'name', 'is,Parikh']"
      ]
     },
     "execution_count": 30,
     "metadata": {},
     "output_type": "execute_result"
    }
   ],
   "source": [
    "string = \"My,name,is,Parikh\"\n",
    "li = string.split(',',2)\n",
    "li"
   ]
  },
  {
   "cell_type": "code",
   "execution_count": 35,
   "id": "e242ad2f-2b7c-4005-a6d2-257ec43649d2",
   "metadata": {},
   "outputs": [
    {
     "name": "stdout",
     "output_type": "stream",
     "text": [
      "My name is parikh parikh parikh parikh parikh parikh parikh parikh\n",
      "My name is Rohan Rohan parikh parikh parikh parikh parikh parikh\n",
      "My name is rohan rohan rohan rohan rohan rohan rohan rohan\n"
     ]
    }
   ],
   "source": [
    "string = \"My name is parikh parikh parikh parikh parikh parikh parikh parikh\"\n",
    "new_String= string.replace(\"parikh\",\"Rohan\",2)\n",
    "new_replace_all = string.replace(\"parikh\",\"rohan\")\n",
    "print(string)\n",
    "print(new_String)\n",
    "print(new_replace_all)"
   ]
  },
  {
   "cell_type": "code",
   "execution_count": 44,
   "id": "9f44e7eb-f2c9-4ced-905a-ebf4f41d279d",
   "metadata": {},
   "outputs": [
    {
     "name": "stdout",
     "output_type": "stream",
     "text": [
      "13\n",
      "-1\n",
      "11\n",
      "-1\n",
      "18\n"
     ]
    }
   ],
   "source": [
    "#finds the index of the substring\n",
    "string = \"My name is parikh\"\n",
    "index = string.find('r')\n",
    "index_not_present = string.find('z')\n",
    "print(index)\n",
    "print(index_not_present)\n",
    "#index of the  letter whoever comes first\n",
    "string = \"My name is parikh parikh parikh\"\n",
    "index_of_first_substring= string.find(\"par\")\n",
    "print(index_of_first_substring)\n",
    "# from 0 to n-1\n",
    "index_of_range = string.find(\"par\", 16, 20)\n",
    "print(index_of_range)\n",
    "index_of_range = string.find(\"par\", 16, 21)\n",
    "print(index_of_range)"
   ]
  },
  {
   "cell_type": "code",
   "execution_count": 51,
   "id": "41973da1-522a-4fa2-9a60-d257a3249ea6",
   "metadata": {},
   "outputs": [
    {
     "name": "stdout",
     "output_type": "stream",
     "text": [
      "My name is Parikh\n",
      "my name is parikh\n",
      "MY NAME IS PARIKH\n"
     ]
    }
   ],
   "source": [
    "string = \"My name is Parikh\"\n",
    "string.lower()\n",
    "changed_string = string.lower()\n",
    "print(string)\n",
    "print(changed_string)\n",
    "upper_string = changed_string.upper()\n",
    "print(upper_string)"
   ]
  },
  {
   "cell_type": "code",
   "execution_count": 52,
   "id": "c6d78e39-2d6e-45db-8b79-e00f0587a19d",
   "metadata": {},
   "outputs": [
    {
     "name": "stdout",
     "output_type": "stream",
     "text": [
      "False\n",
      "True\n",
      "True\n"
     ]
    }
   ],
   "source": [
    "# Checks whether the string starts with the given character or not.\n",
    "string = \"My name is Parikh\"\n",
    "print(string.startswith('Pa'))\n",
    "print(string.startswith('Pa',11, 25))\n",
    "print(string.endswith('kh'))"
   ]
  },
  {
   "cell_type": "markdown",
   "id": "defb9cd3-71d1-46cf-afc1-a8d4fc75cac1",
   "metadata": {},
   "source": [
    "## String Slicing"
   ]
  },
  {
   "cell_type": "code",
   "execution_count": 53,
   "id": "4e4c485d-9b1b-4a4e-89a6-9964b7439834",
   "metadata": {},
   "outputs": [],
   "source": [
    "s = \"Parikh\""
   ]
  },
  {
   "cell_type": "code",
   "execution_count": 67,
   "id": "b362df93-fe89-4ae5-a05e-820b65bbc8ff",
   "metadata": {},
   "outputs": [
    {
     "name": "stdout",
     "output_type": "stream",
     "text": [
      "Parikh\n",
      "ari\n",
      "ai\n",
      "\n",
      "h\n",
      "ar\n",
      "arikh\n",
      "Parik\n",
      "\n",
      "aih\n",
      "kir\n",
      "hkiraP\n",
      "hki\n"
     ]
    }
   ],
   "source": [
    "print(s[:])\n",
    "print(s[1:4])\n",
    "print(s[1:4:2])\n",
    "print(s[6:4])\n",
    "print(s[-1])\n",
    "print(s[-5:-3])\n",
    "print(s[1:])\n",
    "print(s[:-1])\n",
    "print(s[-5:-3:-2])\n",
    "print(s[-5::2])\n",
    "print(s[4:1:-1])\n",
    "print(s[5::-1])\n",
    "print(s[:2:-1])"
   ]
  },
  {
   "cell_type": "code",
   "execution_count": 69,
   "id": "e9fc1344-4cf2-49c0-b01b-3b2d6d542c26",
   "metadata": {},
   "outputs": [
    {
     "name": "stdout",
     "output_type": "stream",
     "text": [
      "gh\n"
     ]
    }
   ],
   "source": [
    "s = \"abcdefghi\"\n",
    "print(s[-3:-1])"
   ]
  },
  {
   "cell_type": "markdown",
   "id": "95e04c35-f2a4-4a1b-a99f-40fcf053643d",
   "metadata": {},
   "source": [
    "# Tuples\n",
    "\n",
    "* Tuples are immutable ordered lists"
   ]
  },
  {
   "cell_type": "code",
   "execution_count": 74,
   "id": "63ea6a63-91cb-41a8-bf40-bdc2cbb014a3",
   "metadata": {},
   "outputs": [
    {
     "name": "stdout",
     "output_type": "stream",
     "text": [
      "(1, 2)\n",
      "<class 'tuple'>\n"
     ]
    }
   ],
   "source": [
    "a = (1,2)\n",
    "print(a)\n",
    "print(type(a))"
   ]
  },
  {
   "cell_type": "code",
   "execution_count": 75,
   "id": "3ed454de-9635-400d-82c3-ea410edbf0b1",
   "metadata": {},
   "outputs": [
    {
     "name": "stdout",
     "output_type": "stream",
     "text": [
      "(5, 6)\n",
      "<class 'tuple'>\n",
      "5\n",
      "6\n"
     ]
    }
   ],
   "source": [
    "b = 5, 6\n",
    "print(b)\n",
    "print(type(b))\n",
    "print(b[0])\n",
    "print(b[1])"
   ]
  },
  {
   "cell_type": "code",
   "execution_count": 76,
   "id": "769ea9d6-9b8c-4d11-91fa-c7cae1fdc9fd",
   "metadata": {},
   "outputs": [
    {
     "name": "stdout",
     "output_type": "stream",
     "text": [
      "6\n"
     ]
    }
   ],
   "source": [
    "print(b[-1])"
   ]
  },
  {
   "cell_type": "markdown",
   "id": "2d6d48d4-cf49-49c7-89d6-3d4ce7a947c3",
   "metadata": {},
   "source": [
    "## Tuple functions"
   ]
  },
  {
   "cell_type": "code",
   "execution_count": 77,
   "id": "937bedaa-f870-4ec1-b4dc-9771dab781fd",
   "metadata": {},
   "outputs": [],
   "source": [
    "a = (1,2,3)\n",
    "b = 4, 5"
   ]
  },
  {
   "cell_type": "code",
   "execution_count": 78,
   "id": "0e083990-c636-40a0-9425-bbeef93c3365",
   "metadata": {},
   "outputs": [
    {
     "name": "stdout",
     "output_type": "stream",
     "text": [
      "1\n",
      "2\n",
      "3\n"
     ]
    }
   ],
   "source": [
    "for i in a:\n",
    "    print(i)"
   ]
  },
  {
   "cell_type": "code",
   "execution_count": 79,
   "id": "667fa564-d691-49b8-b71d-fc6874059cab",
   "metadata": {},
   "outputs": [
    {
     "data": {
      "text/plain": [
       "True"
      ]
     },
     "execution_count": 79,
     "metadata": {},
     "output_type": "execute_result"
    }
   ],
   "source": [
    "1 in a"
   ]
  },
  {
   "cell_type": "code",
   "execution_count": 80,
   "id": "fed5d2fa-69ed-4598-991b-9d809db98ab5",
   "metadata": {},
   "outputs": [
    {
     "data": {
      "text/plain": [
       "False"
      ]
     },
     "execution_count": 80,
     "metadata": {},
     "output_type": "execute_result"
    }
   ],
   "source": [
    "1 in b"
   ]
  },
  {
   "cell_type": "code",
   "execution_count": 81,
   "id": "f065e45a-d4b4-4316-817d-89fb9e485877",
   "metadata": {},
   "outputs": [
    {
     "data": {
      "text/plain": [
       "3"
      ]
     },
     "execution_count": 81,
     "metadata": {},
     "output_type": "execute_result"
    }
   ],
   "source": [
    "len(a)"
   ]
  },
  {
   "cell_type": "code",
   "execution_count": 82,
   "id": "b3d82d74-268b-4bed-9e78-5d68cadf1fdb",
   "metadata": {},
   "outputs": [],
   "source": [
    "c = a + b"
   ]
  },
  {
   "cell_type": "code",
   "execution_count": 83,
   "id": "50eb27b6-a653-418f-bd1b-3bf44a731d19",
   "metadata": {},
   "outputs": [
    {
     "name": "stdout",
     "output_type": "stream",
     "text": [
      "(1, 2, 3, 4, 5)\n"
     ]
    }
   ],
   "source": [
    "print(c)"
   ]
  },
  {
   "cell_type": "code",
   "execution_count": 84,
   "id": "ef742005-16f5-4cda-b777-5f974e9ece42",
   "metadata": {},
   "outputs": [
    {
     "name": "stdout",
     "output_type": "stream",
     "text": [
      "((1, 2, 3), (4, 5))\n"
     ]
    }
   ],
   "source": [
    "d = (a, b)\n",
    "print(d)"
   ]
  },
  {
   "cell_type": "code",
   "execution_count": 85,
   "id": "b17f88f9-82af-4ee7-8147-e7f18188ae94",
   "metadata": {},
   "outputs": [
    {
     "name": "stdout",
     "output_type": "stream",
     "text": [
      "(1, 2, 3, 1, 2, 3, 1, 2, 3, 1, 2, 3)\n"
     ]
    }
   ],
   "source": [
    "e = a*4\n",
    "print(e)"
   ]
  },
  {
   "cell_type": "code",
   "execution_count": 86,
   "id": "8c8914a6-91f8-441d-857a-95d189bb5532",
   "metadata": {},
   "outputs": [
    {
     "data": {
      "text/plain": [
       "1"
      ]
     },
     "execution_count": 86,
     "metadata": {},
     "output_type": "execute_result"
    }
   ],
   "source": [
    "min(a)"
   ]
  },
  {
   "cell_type": "code",
   "execution_count": 87,
   "id": "effce609-dbfb-434e-9899-cc596a04666f",
   "metadata": {},
   "outputs": [
    {
     "name": "stdout",
     "output_type": "stream",
     "text": [
      "(1, 2, 3)\n"
     ]
    }
   ],
   "source": [
    "print(a)"
   ]
  },
  {
   "cell_type": "code",
   "execution_count": 93,
   "id": "398a8ba6-725a-46a7-886a-cc45bf5b08fd",
   "metadata": {},
   "outputs": [
    {
     "name": "stdout",
     "output_type": "stream",
     "text": [
      "(1, 2, 3, 's', (4, 5))\n"
     ]
    },
    {
     "ename": "TypeError",
     "evalue": "'<' not supported between instances of 'str' and 'int'",
     "output_type": "error",
     "traceback": [
      "\u001b[1;31m---------------------------------------------------------------------------\u001b[0m",
      "\u001b[1;31mTypeError\u001b[0m                                 Traceback (most recent call last)",
      "Cell \u001b[1;32mIn[93], line 3\u001b[0m\n\u001b[0;32m      1\u001b[0m a2 \u001b[38;5;241m=\u001b[39m (\u001b[38;5;241m1\u001b[39m, \u001b[38;5;241m2\u001b[39m, \u001b[38;5;241m3\u001b[39m, \u001b[38;5;124m\"\u001b[39m\u001b[38;5;124ms\u001b[39m\u001b[38;5;124m\"\u001b[39m, (\u001b[38;5;241m4\u001b[39m, \u001b[38;5;241m5\u001b[39m))\n\u001b[0;32m      2\u001b[0m \u001b[38;5;28mprint\u001b[39m(a2)\n\u001b[1;32m----> 3\u001b[0m \u001b[38;5;28;43mmin\u001b[39;49m\u001b[43m(\u001b[49m\u001b[43ma2\u001b[49m\u001b[43m)\u001b[49m\n",
      "\u001b[1;31mTypeError\u001b[0m: '<' not supported between instances of 'str' and 'int'"
     ]
    }
   ],
   "source": [
    "a2 = (1, 2, 3, \"s\", (4, 5))\n",
    "print(a2)\n",
    "min(a2)"
   ]
  },
  {
   "cell_type": "code",
   "execution_count": 94,
   "id": "fc48fb4e-49c1-465d-b349-3e360e3181a9",
   "metadata": {},
   "outputs": [
    {
     "ename": "TypeError",
     "evalue": "'>' not supported between instances of 'tuple' and 'int'",
     "output_type": "error",
     "traceback": [
      "\u001b[1;31m---------------------------------------------------------------------------\u001b[0m",
      "\u001b[1;31mTypeError\u001b[0m                                 Traceback (most recent call last)",
      "Cell \u001b[1;32mIn[94], line 2\u001b[0m\n\u001b[0;32m      1\u001b[0m a2 \u001b[38;5;241m=\u001b[39m (\u001b[38;5;241m1\u001b[39m, \u001b[38;5;241m2\u001b[39m, \u001b[38;5;241m3\u001b[39m, (\u001b[38;5;241m4\u001b[39m, \u001b[38;5;241m5\u001b[39m))\n\u001b[1;32m----> 2\u001b[0m \u001b[38;5;28;43mmax\u001b[39;49m\u001b[43m(\u001b[49m\u001b[43ma2\u001b[49m\u001b[43m)\u001b[49m\n",
      "\u001b[1;31mTypeError\u001b[0m: '>' not supported between instances of 'tuple' and 'int'"
     ]
    }
   ],
   "source": [
    "a2 = (1, 2, 3, (4, 5))\n",
    "max(a2)\n"
   ]
  },
  {
   "cell_type": "code",
   "execution_count": 99,
   "id": "db0c1190-70f3-45cc-8126-e3dc265c899e",
   "metadata": {},
   "outputs": [
    {
     "name": "stdout",
     "output_type": "stream",
     "text": [
      "((1, 2, 4), (1, 1))\n"
     ]
    },
    {
     "data": {
      "text/plain": [
       "(1, 2, 4)"
      ]
     },
     "execution_count": 99,
     "metadata": {},
     "output_type": "execute_result"
    }
   ],
   "source": [
    "a3 = ((1,2,4),(1,1))\n",
    "print(a3)\n",
    "max(a3)\n"
   ]
  },
  {
   "cell_type": "code",
   "execution_count": 100,
   "id": "36644f74-73bf-4cce-aaa2-8e47468a3f0f",
   "metadata": {},
   "outputs": [
    {
     "data": {
      "text/plain": [
       "(1, 1)"
      ]
     },
     "execution_count": 100,
     "metadata": {},
     "output_type": "execute_result"
    }
   ],
   "source": [
    "min(a3)"
   ]
  },
  {
   "cell_type": "code",
   "execution_count": 104,
   "id": "241f6cf9-2008-4ef2-bb18-4fa51a5b927b",
   "metadata": {},
   "outputs": [
    {
     "name": "stdout",
     "output_type": "stream",
     "text": [
      "[1, 2, 3, 4]\n"
     ]
    }
   ],
   "source": [
    "a = list([1,2,3,4])\n",
    "print(a)"
   ]
  },
  {
   "cell_type": "code",
   "execution_count": 107,
   "id": "d6426c73-41e9-4efd-9ecc-0c1f24cd268c",
   "metadata": {},
   "outputs": [
    {
     "name": "stdout",
     "output_type": "stream",
     "text": [
      "(1, 2, 3, 4)\n"
     ]
    }
   ],
   "source": [
    "tuples = tuple(a)\n",
    "print(tuples)"
   ]
  },
  {
   "cell_type": "code",
   "execution_count": null,
   "id": "36f2d821-18af-4f2b-9994-cd1fdbf5f374",
   "metadata": {},
   "outputs": [],
   "source": []
  }
 ],
 "metadata": {
  "kernelspec": {
   "display_name": "Python 3 (ipykernel)",
   "language": "python",
   "name": "python3"
  },
  "language_info": {
   "codemirror_mode": {
    "name": "ipython",
    "version": 3
   },
   "file_extension": ".py",
   "mimetype": "text/x-python",
   "name": "python",
   "nbconvert_exporter": "python",
   "pygments_lexer": "ipython3",
   "version": "3.8.1"
  }
 },
 "nbformat": 4,
 "nbformat_minor": 5
}
