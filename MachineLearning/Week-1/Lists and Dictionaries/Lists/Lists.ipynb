{
 "cells": [
  {
   "cell_type": "markdown",
   "id": "99930ff9-c4c9-4eba-9198-db63da4aea4f",
   "metadata": {},
   "source": [
    "# Create a Lists"
   ]
  },
  {
   "cell_type": "code",
   "execution_count": 1,
   "id": "70b27863-23b2-4bbd-b010-9c03ba8f624f",
   "metadata": {},
   "outputs": [],
   "source": [
    "li = []"
   ]
  },
  {
   "cell_type": "code",
   "execution_count": 2,
   "id": "16f71df6-5111-4fad-9091-e6d18a0d71ed",
   "metadata": {},
   "outputs": [],
   "source": [
    "li = [1,2,3]"
   ]
  },
  {
   "cell_type": "code",
   "execution_count": 3,
   "id": "27100b73-089c-42ea-bdce-e687d0241063",
   "metadata": {},
   "outputs": [
    {
     "data": {
      "text/plain": [
       "list"
      ]
     },
     "execution_count": 3,
     "metadata": {},
     "output_type": "execute_result"
    }
   ],
   "source": [
    "type(li)"
   ]
  },
  {
   "cell_type": "code",
   "execution_count": 4,
   "id": "ea9a101f-a976-42c6-a4e2-077561c89663",
   "metadata": {},
   "outputs": [
    {
     "data": {
      "text/plain": [
       "[1, 2, 'Parikh', 3.4]"
      ]
     },
     "execution_count": 4,
     "metadata": {},
     "output_type": "execute_result"
    }
   ],
   "source": [
    "li = [1,2, 'Parikh', 3.4]\n",
    "li"
   ]
  },
  {
   "cell_type": "markdown",
   "id": "187dbbeb-ab25-48d1-8f53-de0f6bdf0161",
   "metadata": {},
   "source": [
    "# Access and change elements in a list"
   ]
  },
  {
   "cell_type": "code",
   "execution_count": 5,
   "id": "47d982ec-b929-40f8-a669-bf7504f892cc",
   "metadata": {},
   "outputs": [
    {
     "data": {
      "text/plain": [
       "1"
      ]
     },
     "execution_count": 5,
     "metadata": {},
     "output_type": "execute_result"
    }
   ],
   "source": [
    "li[0]"
   ]
  },
  {
   "cell_type": "code",
   "execution_count": 6,
   "id": "8471976c-fe3d-4480-b4d1-a23bb222143b",
   "metadata": {},
   "outputs": [
    {
     "data": {
      "text/plain": [
       "3.4"
      ]
     },
     "execution_count": 6,
     "metadata": {},
     "output_type": "execute_result"
    }
   ],
   "source": [
    "li[3]"
   ]
  },
  {
   "cell_type": "code",
   "execution_count": 7,
   "id": "a278e28a-ddde-403b-a3d6-d1c061b47d89",
   "metadata": {},
   "outputs": [
    {
     "ename": "IndexError",
     "evalue": "list index out of range",
     "output_type": "error",
     "traceback": [
      "\u001b[1;31m---------------------------------------------------------------------------\u001b[0m",
      "\u001b[1;31mIndexError\u001b[0m                                Traceback (most recent call last)",
      "Cell \u001b[1;32mIn[7], line 1\u001b[0m\n\u001b[1;32m----> 1\u001b[0m \u001b[43mli\u001b[49m\u001b[43m[\u001b[49m\u001b[38;5;241;43m5\u001b[39;49m\u001b[43m]\u001b[49m\n",
      "\u001b[1;31mIndexError\u001b[0m: list index out of range"
     ]
    }
   ],
   "source": [
    "li[5]"
   ]
  },
  {
   "cell_type": "code",
   "execution_count": 8,
   "id": "779fc4a0-692c-4c43-aa37-a007082cdfed",
   "metadata": {},
   "outputs": [],
   "source": [
    "li[0] =10"
   ]
  },
  {
   "cell_type": "code",
   "execution_count": 9,
   "id": "aa86e832-e991-4808-8f2e-3fc53cbf8f48",
   "metadata": {},
   "outputs": [
    {
     "data": {
      "text/plain": [
       "[10, 2, 'Parikh', 3.4]"
      ]
     },
     "execution_count": 9,
     "metadata": {},
     "output_type": "execute_result"
    }
   ],
   "source": [
    "li"
   ]
  },
  {
   "cell_type": "code",
   "execution_count": 10,
   "id": "391fa4dc-5517-48e2-966c-f0653bb8c70f",
   "metadata": {},
   "outputs": [],
   "source": [
    "li[3] = \"Rohan\""
   ]
  },
  {
   "cell_type": "code",
   "execution_count": 11,
   "id": "bb2b3c4e-70bb-4bad-bed4-b27e27417802",
   "metadata": {},
   "outputs": [
    {
     "ename": "IndexError",
     "evalue": "list assignment index out of range",
     "output_type": "error",
     "traceback": [
      "\u001b[1;31m---------------------------------------------------------------------------\u001b[0m",
      "\u001b[1;31mIndexError\u001b[0m                                Traceback (most recent call last)",
      "Cell \u001b[1;32mIn[11], line 1\u001b[0m\n\u001b[1;32m----> 1\u001b[0m \u001b[43mli\u001b[49m\u001b[43m[\u001b[49m\u001b[38;5;241;43m4\u001b[39;49m\u001b[43m]\u001b[49m \u001b[38;5;241m=\u001b[39m \u001b[38;5;241m10\u001b[39m\n",
      "\u001b[1;31mIndexError\u001b[0m: list assignment index out of range"
     ]
    }
   ],
   "source": [
    "li[4] = 10"
   ]
  },
  {
   "cell_type": "markdown",
   "id": "2e4c81f5-ffcb-4384-a9e2-12f227fa5de4",
   "metadata": {},
   "source": [
    "# Slicing of a list"
   ]
  },
  {
   "cell_type": "code",
   "execution_count": 12,
   "id": "cec40683-8373-4741-a66b-380e66567c2c",
   "metadata": {},
   "outputs": [
    {
     "data": {
      "text/plain": [
       "[2, 'Parikh']"
      ]
     },
     "execution_count": 12,
     "metadata": {},
     "output_type": "execute_result"
    }
   ],
   "source": [
    "li[1:3]"
   ]
  },
  {
   "cell_type": "code",
   "execution_count": 13,
   "id": "37f7d9da-f816-4cfd-abf0-00bd4a2bbda3",
   "metadata": {},
   "outputs": [
    {
     "data": {
      "text/plain": [
       "[2, 'Parikh', 'Rohan']"
      ]
     },
     "execution_count": 13,
     "metadata": {},
     "output_type": "execute_result"
    }
   ],
   "source": [
    "li[1:]"
   ]
  },
  {
   "cell_type": "code",
   "execution_count": 14,
   "id": "2c14edce-685a-47db-89e9-759750561426",
   "metadata": {},
   "outputs": [
    {
     "data": {
      "text/plain": [
       "[10, 2, 'Parikh', 'Rohan']"
      ]
     },
     "execution_count": 14,
     "metadata": {},
     "output_type": "execute_result"
    }
   ],
   "source": [
    "li[:]"
   ]
  },
  {
   "cell_type": "code",
   "execution_count": 15,
   "id": "6917e760-95b4-4ceb-ae33-c5c26da2e72f",
   "metadata": {},
   "outputs": [
    {
     "data": {
      "text/plain": [
       "[10, 2, 'Parikh', 'Rohan']"
      ]
     },
     "execution_count": 15,
     "metadata": {},
     "output_type": "execute_result"
    }
   ],
   "source": [
    "li[:10]"
   ]
  },
  {
   "cell_type": "markdown",
   "id": "ca396790-307b-4f4c-bd9d-bb34863d47ee",
   "metadata": {},
   "source": [
    "# insert and append elements in a list"
   ]
  },
  {
   "cell_type": "code",
   "execution_count": 16,
   "id": "1744e340-21d3-4670-8acc-d5d1273e248f",
   "metadata": {},
   "outputs": [],
   "source": [
    "li.append(\"Ankush\")"
   ]
  },
  {
   "cell_type": "code",
   "execution_count": 17,
   "id": "dc977964-db71-415d-8c3a-7e72eb6265a8",
   "metadata": {},
   "outputs": [
    {
     "data": {
      "text/plain": [
       "[10, 2, 'Parikh', 'Rohan', 'Ankush']"
      ]
     },
     "execution_count": 17,
     "metadata": {},
     "output_type": "execute_result"
    }
   ],
   "source": [
    "li"
   ]
  },
  {
   "cell_type": "code",
   "execution_count": 18,
   "id": "400cd4d8-eeee-4234-9c44-75622d28f8a2",
   "metadata": {},
   "outputs": [],
   "source": [
    "li.insert(0,2)"
   ]
  },
  {
   "cell_type": "code",
   "execution_count": 19,
   "id": "ef318cfc-46ee-4659-98fa-6a567bcd0357",
   "metadata": {},
   "outputs": [
    {
     "data": {
      "text/plain": [
       "[2, 10, 2, 'Parikh', 'Rohan', 'Ankush']"
      ]
     },
     "execution_count": 19,
     "metadata": {},
     "output_type": "execute_result"
    }
   ],
   "source": [
    "li"
   ]
  },
  {
   "cell_type": "code",
   "execution_count": 20,
   "id": "b7903456-8be3-4df4-8d58-84deadde2641",
   "metadata": {},
   "outputs": [],
   "source": [
    "li.insert(9,\"Karan\")"
   ]
  },
  {
   "cell_type": "code",
   "execution_count": 21,
   "id": "e8319653-2d2f-4380-af2c-2449ad525164",
   "metadata": {},
   "outputs": [
    {
     "data": {
      "text/plain": [
       "[2, 10, 2, 'Parikh', 'Rohan', 'Ankush', 'Karan']"
      ]
     },
     "execution_count": 21,
     "metadata": {},
     "output_type": "execute_result"
    }
   ],
   "source": [
    "li"
   ]
  },
  {
   "cell_type": "code",
   "execution_count": 22,
   "id": "435f1b74-0e17-43c2-a4d2-ddfa9a2b2a93",
   "metadata": {},
   "outputs": [],
   "source": [
    "li.insert(3, 30)"
   ]
  },
  {
   "cell_type": "code",
   "execution_count": 23,
   "id": "1802b5b3-882e-46a0-81f6-e518f0d1f572",
   "metadata": {},
   "outputs": [
    {
     "data": {
      "text/plain": [
       "[2, 10, 2, 30, 'Parikh', 'Rohan', 'Ankush', 'Karan']"
      ]
     },
     "execution_count": 23,
     "metadata": {},
     "output_type": "execute_result"
    }
   ],
   "source": [
    "li"
   ]
  },
  {
   "cell_type": "code",
   "execution_count": 24,
   "id": "862a60b9-a9f3-4940-9845-6e3a56cf38c3",
   "metadata": {},
   "outputs": [],
   "source": [
    "li.append([9,10,11,12])"
   ]
  },
  {
   "cell_type": "code",
   "execution_count": 25,
   "id": "89127c35-d98f-4862-a510-83401945062a",
   "metadata": {},
   "outputs": [
    {
     "data": {
      "text/plain": [
       "[2, 10, 2, 30, 'Parikh', 'Rohan', 'Ankush', 'Karan', [9, 10, 11, 12]]"
      ]
     },
     "execution_count": 25,
     "metadata": {},
     "output_type": "execute_result"
    }
   ],
   "source": [
    "li"
   ]
  },
  {
   "cell_type": "code",
   "execution_count": 26,
   "id": "48353b26-b49b-4694-8e78-750be589bca2",
   "metadata": {},
   "outputs": [],
   "source": [
    "li.extend([9,10,11,12])"
   ]
  },
  {
   "cell_type": "code",
   "execution_count": 27,
   "id": "ced5cb2f-2986-4550-bf72-73668872d37b",
   "metadata": {},
   "outputs": [
    {
     "data": {
      "text/plain": [
       "[2,\n",
       " 10,\n",
       " 2,\n",
       " 30,\n",
       " 'Parikh',\n",
       " 'Rohan',\n",
       " 'Ankush',\n",
       " 'Karan',\n",
       " [9, 10, 11, 12],\n",
       " 9,\n",
       " 10,\n",
       " 11,\n",
       " 12]"
      ]
     },
     "execution_count": 27,
     "metadata": {},
     "output_type": "execute_result"
    }
   ],
   "source": [
    "li"
   ]
  },
  {
   "cell_type": "markdown",
   "id": "0f1edc83-e77f-4623-8e78-2eabe172d28a",
   "metadata": {},
   "source": [
    "# Removing element from a list"
   ]
  },
  {
   "cell_type": "code",
   "execution_count": 28,
   "id": "063b2073-663c-4d8b-8a94-5fc150b7956b",
   "metadata": {},
   "outputs": [],
   "source": [
    "li.append(2)"
   ]
  },
  {
   "cell_type": "code",
   "execution_count": 29,
   "id": "8e7b296f-3c0e-4d1f-b380-60cc65a0aa1f",
   "metadata": {},
   "outputs": [
    {
     "data": {
      "text/plain": [
       "[2,\n",
       " 10,\n",
       " 2,\n",
       " 30,\n",
       " 'Parikh',\n",
       " 'Rohan',\n",
       " 'Ankush',\n",
       " 'Karan',\n",
       " [9, 10, 11, 12],\n",
       " 9,\n",
       " 10,\n",
       " 11,\n",
       " 12,\n",
       " 2]"
      ]
     },
     "execution_count": 29,
     "metadata": {},
     "output_type": "execute_result"
    }
   ],
   "source": [
    "li"
   ]
  },
  {
   "cell_type": "code",
   "execution_count": 30,
   "id": "b316e533-edd7-4e98-be80-5eace77bbef1",
   "metadata": {},
   "outputs": [],
   "source": [
    "li.remove(2)"
   ]
  },
  {
   "cell_type": "code",
   "execution_count": 31,
   "id": "66bfbbfb-1ce6-48c7-89e3-dc485118c7eb",
   "metadata": {},
   "outputs": [
    {
     "data": {
      "text/plain": [
       "[10,\n",
       " 2,\n",
       " 30,\n",
       " 'Parikh',\n",
       " 'Rohan',\n",
       " 'Ankush',\n",
       " 'Karan',\n",
       " [9, 10, 11, 12],\n",
       " 9,\n",
       " 10,\n",
       " 11,\n",
       " 12,\n",
       " 2]"
      ]
     },
     "execution_count": 31,
     "metadata": {},
     "output_type": "execute_result"
    }
   ],
   "source": [
    "li"
   ]
  },
  {
   "cell_type": "code",
   "execution_count": 32,
   "id": "009341f1-d730-4d1e-8408-4a147003cb00",
   "metadata": {},
   "outputs": [
    {
     "ename": "ValueError",
     "evalue": "list.remove(x): x not in list",
     "output_type": "error",
     "traceback": [
      "\u001b[1;31m---------------------------------------------------------------------------\u001b[0m",
      "\u001b[1;31mValueError\u001b[0m                                Traceback (most recent call last)",
      "Cell \u001b[1;32mIn[32], line 1\u001b[0m\n\u001b[1;32m----> 1\u001b[0m \u001b[43mli\u001b[49m\u001b[38;5;241;43m.\u001b[39;49m\u001b[43mremove\u001b[49m\u001b[43m(\u001b[49m\u001b[38;5;241;43m5\u001b[39;49m\u001b[43m)\u001b[49m\n",
      "\u001b[1;31mValueError\u001b[0m: list.remove(x): x not in list"
     ]
    }
   ],
   "source": [
    "li.remove(5)"
   ]
  },
  {
   "cell_type": "code",
   "execution_count": 33,
   "id": "29526d10-d4bd-4c39-abe5-188a3b28b524",
   "metadata": {},
   "outputs": [
    {
     "data": {
      "text/plain": [
       "2"
      ]
     },
     "execution_count": 33,
     "metadata": {},
     "output_type": "execute_result"
    }
   ],
   "source": [
    "li.pop()"
   ]
  },
  {
   "cell_type": "code",
   "execution_count": 34,
   "id": "9e1e1a29-6539-492c-9bbe-b064e52f62e9",
   "metadata": {},
   "outputs": [
    {
     "data": {
      "text/plain": [
       "[10,\n",
       " 2,\n",
       " 30,\n",
       " 'Parikh',\n",
       " 'Rohan',\n",
       " 'Ankush',\n",
       " 'Karan',\n",
       " [9, 10, 11, 12],\n",
       " 9,\n",
       " 10,\n",
       " 11,\n",
       " 12]"
      ]
     },
     "execution_count": 34,
     "metadata": {},
     "output_type": "execute_result"
    }
   ],
   "source": [
    "li"
   ]
  },
  {
   "cell_type": "code",
   "execution_count": 35,
   "id": "951136b3-9575-49d0-b051-abea2b80361a",
   "metadata": {},
   "outputs": [
    {
     "data": {
      "text/plain": [
       "[9, 10, 11, 12]"
      ]
     },
     "execution_count": 35,
     "metadata": {},
     "output_type": "execute_result"
    }
   ],
   "source": [
    "li.pop(7)"
   ]
  },
  {
   "cell_type": "code",
   "execution_count": 36,
   "id": "1694602d-4f07-43aa-adc2-3e97a86acb52",
   "metadata": {},
   "outputs": [
    {
     "data": {
      "text/plain": [
       "[10, 2, 30, 'Parikh', 'Rohan', 'Ankush', 'Karan', 9, 10, 11, 12]"
      ]
     },
     "execution_count": 36,
     "metadata": {},
     "output_type": "execute_result"
    }
   ],
   "source": [
    "li"
   ]
  },
  {
   "cell_type": "code",
   "execution_count": 37,
   "id": "1b940ed9-5166-434f-b9a8-3c292741de5a",
   "metadata": {},
   "outputs": [
    {
     "ename": "IndexError",
     "evalue": "pop index out of range",
     "output_type": "error",
     "traceback": [
      "\u001b[1;31m---------------------------------------------------------------------------\u001b[0m",
      "\u001b[1;31mIndexError\u001b[0m                                Traceback (most recent call last)",
      "Cell \u001b[1;32mIn[37], line 1\u001b[0m\n\u001b[1;32m----> 1\u001b[0m \u001b[43mli\u001b[49m\u001b[38;5;241;43m.\u001b[39;49m\u001b[43mpop\u001b[49m\u001b[43m(\u001b[49m\u001b[38;5;241;43m20\u001b[39;49m\u001b[43m)\u001b[49m\n",
      "\u001b[1;31mIndexError\u001b[0m: pop index out of range"
     ]
    }
   ],
   "source": [
    "li.pop(20)"
   ]
  },
  {
   "cell_type": "code",
   "execution_count": null,
   "id": "b780a13d-3fe6-49b6-9017-6df1d0ff26fc",
   "metadata": {},
   "outputs": [],
   "source": [
    "len(li)"
   ]
  },
  {
   "cell_type": "markdown",
   "id": "5f57de6b-ebfb-4d6f-a11b-3d36af4fd305",
   "metadata": {},
   "source": [
    "# Looping on Lists"
   ]
  },
  {
   "cell_type": "code",
   "execution_count": 38,
   "id": "115b2c4d-797f-4438-ae13-7db6f00fc752",
   "metadata": {},
   "outputs": [
    {
     "data": {
      "text/plain": [
       "[10, 2, 30, 'Parikh', 'Rohan', 'Ankush', 'Karan', 9, 10, 11, 12]"
      ]
     },
     "execution_count": 38,
     "metadata": {},
     "output_type": "execute_result"
    }
   ],
   "source": [
    "li"
   ]
  },
  {
   "cell_type": "code",
   "execution_count": 41,
   "id": "ea747cab-1f1d-4292-83ab-4211e652e5d4",
   "metadata": {},
   "outputs": [
    {
     "name": "stdout",
     "output_type": "stream",
     "text": [
      "10\n",
      "2\n",
      "30\n",
      "Parikh\n",
      "Rohan\n",
      "Ankush\n",
      "Karan\n",
      "9\n",
      "10\n",
      "11\n",
      "12\n"
     ]
    }
   ],
   "source": [
    "for i in range(len(li)):\n",
    "    print(li[i])"
   ]
  },
  {
   "cell_type": "code",
   "execution_count": 42,
   "id": "e65007fd-8d7a-4e0b-a043-0068b241e434",
   "metadata": {},
   "outputs": [
    {
     "name": "stdout",
     "output_type": "stream",
     "text": [
      "2\n",
      "30\n",
      "Parikh\n",
      "Rohan\n",
      "Ankush\n",
      "Karan\n",
      "9\n",
      "10\n",
      "11\n",
      "12\n"
     ]
    }
   ],
   "source": [
    "for i in range(1, len(li)):\n",
    "    print(li[i])"
   ]
  },
  {
   "cell_type": "code",
   "execution_count": 43,
   "id": "1df0da5e-7c41-4920-9d5e-b76651c246c6",
   "metadata": {},
   "outputs": [
    {
     "name": "stdout",
     "output_type": "stream",
     "text": [
      "10\n",
      "2\n",
      "30\n",
      "Parikh\n",
      "Rohan\n",
      "Ankush\n",
      "Karan\n",
      "9\n",
      "10\n",
      "11\n",
      "12\n"
     ]
    }
   ],
   "source": [
    "for i in li:\n",
    "    print(i)"
   ]
  },
  {
   "cell_type": "code",
   "execution_count": 44,
   "id": "c26bd6f7-deff-4257-a8ce-a7940df316f3",
   "metadata": {},
   "outputs": [
    {
     "name": "stdout",
     "output_type": "stream",
     "text": [
      "Parikh\n",
      "Rohan\n",
      "Ankush\n",
      "Karan\n",
      "9\n",
      "10\n",
      "11\n",
      "12\n"
     ]
    }
   ],
   "source": [
    "for i in li[3:]:\n",
    "    print(i)"
   ]
  },
  {
   "cell_type": "code",
   "execution_count": 45,
   "id": "98c77dd6-4580-45ac-8d55-a30ca5869114",
   "metadata": {},
   "outputs": [
    {
     "name": "stdout",
     "output_type": "stream",
     "text": [
      "30\n",
      "Parikh\n"
     ]
    }
   ],
   "source": [
    "for i in li[2:4]:\n",
    "    print(i)"
   ]
  },
  {
   "cell_type": "markdown",
   "id": "f6f4eb0b-d4e2-4b64-bcbe-966f0cb21dfa",
   "metadata": {},
   "source": [
    "# Negative index and sequencing a list"
   ]
  },
  {
   "cell_type": "code",
   "execution_count": 46,
   "id": "5bb2a931-650f-4013-a689-397f4faf340f",
   "metadata": {},
   "outputs": [
    {
     "data": {
      "text/plain": [
       "12"
      ]
     },
     "execution_count": 46,
     "metadata": {},
     "output_type": "execute_result"
    }
   ],
   "source": [
    "li[-1]"
   ]
  },
  {
   "cell_type": "code",
   "execution_count": 48,
   "id": "3adebbc9-dbd4-44b7-85af-4012960c13b4",
   "metadata": {},
   "outputs": [
    {
     "data": {
      "text/plain": [
       "['Karan', 9, 10]"
      ]
     },
     "execution_count": 48,
     "metadata": {},
     "output_type": "execute_result"
    }
   ],
   "source": [
    "li[-5:-2]"
   ]
  },
  {
   "cell_type": "code",
   "execution_count": 49,
   "id": "aa34b427-1241-4de5-bf64-c1d7a4619839",
   "metadata": {},
   "outputs": [
    {
     "data": {
      "text/plain": [
       "'Parikh'"
      ]
     },
     "execution_count": 49,
     "metadata": {},
     "output_type": "execute_result"
    }
   ],
   "source": [
    "li[-8]"
   ]
  },
  {
   "cell_type": "markdown",
   "id": "2680912e-4650-438e-9128-f606a6a033cf",
   "metadata": {},
   "source": [
    "# Sequencing a list"
   ]
  },
  {
   "cell_type": "code",
   "execution_count": 50,
   "id": "f9121e7a-3e22-47aa-ad2f-c3924d0c9497",
   "metadata": {},
   "outputs": [
    {
     "data": {
      "text/plain": [
       "[10, 30, 'Rohan']"
      ]
     },
     "execution_count": 50,
     "metadata": {},
     "output_type": "execute_result"
    }
   ],
   "source": [
    "li[:5:2]"
   ]
  },
  {
   "cell_type": "code",
   "execution_count": 51,
   "id": "070c5385-12e2-4023-9da3-73539098e822",
   "metadata": {},
   "outputs": [
    {
     "data": {
      "text/plain": [
       "[2, 30]"
      ]
     },
     "execution_count": 51,
     "metadata": {},
     "output_type": "execute_result"
    }
   ],
   "source": [
    "li[1:3:1]"
   ]
  },
  {
   "cell_type": "code",
   "execution_count": 52,
   "id": "5de23f32-ba74-4fbd-82ee-5196fad82b7f",
   "metadata": {},
   "outputs": [
    {
     "data": {
      "text/plain": [
       "[2, 'Parikh']"
      ]
     },
     "execution_count": 52,
     "metadata": {},
     "output_type": "execute_result"
    }
   ],
   "source": [
    "li[1:5:2]"
   ]
  },
  {
   "cell_type": "code",
   "execution_count": 53,
   "id": "3925b6c4-e487-4ac4-ae63-147ccf39995f",
   "metadata": {},
   "outputs": [
    {
     "data": {
      "text/plain": [
       "[2, 30, 'Parikh', 'Rohan', 'Ankush', 'Karan', 9, 10, 11, 12]"
      ]
     },
     "execution_count": 53,
     "metadata": {},
     "output_type": "execute_result"
    }
   ],
   "source": [
    "li[1:]"
   ]
  },
  {
   "cell_type": "code",
   "execution_count": 54,
   "id": "494e541b-04c0-4ba4-bb21-bb06f41b58f0",
   "metadata": {},
   "outputs": [
    {
     "data": {
      "text/plain": [
       "[2, 'Parikh', 'Ankush', 9, 11]"
      ]
     },
     "execution_count": 54,
     "metadata": {},
     "output_type": "execute_result"
    }
   ],
   "source": [
    "li[1::2]"
   ]
  },
  {
   "cell_type": "code",
   "execution_count": 55,
   "id": "6ee15e3a-3cf0-417d-90fc-d4552926f89a",
   "metadata": {},
   "outputs": [
    {
     "data": {
      "text/plain": [
       "[10, 2, 30]"
      ]
     },
     "execution_count": 55,
     "metadata": {},
     "output_type": "execute_result"
    }
   ],
   "source": [
    "li[:3]"
   ]
  },
  {
   "cell_type": "code",
   "execution_count": 56,
   "id": "932a7ba4-e4c4-49bd-813b-24bb393c798d",
   "metadata": {},
   "outputs": [
    {
     "data": {
      "text/plain": [
       "[12]"
      ]
     },
     "execution_count": 56,
     "metadata": {},
     "output_type": "execute_result"
    }
   ],
   "source": [
    "li[-1:]"
   ]
  },
  {
   "cell_type": "code",
   "execution_count": 57,
   "id": "b28667b9-1fa0-4b60-b907-9ee56d4fa644",
   "metadata": {},
   "outputs": [
    {
     "data": {
      "text/plain": [
       "[12, 11]"
      ]
     },
     "execution_count": 57,
     "metadata": {},
     "output_type": "execute_result"
    }
   ],
   "source": [
    "li[:-3:-1]"
   ]
  },
  {
   "cell_type": "markdown",
   "id": "a5035b0e-1e20-4643-968c-5dc1d95852ec",
   "metadata": {},
   "source": [
    "# Line Separarted input"
   ]
  },
  {
   "cell_type": "code",
   "execution_count": 58,
   "id": "09bc2864-2e6b-405b-be02-48f0cc74460f",
   "metadata": {},
   "outputs": [
    {
     "name": "stdin",
     "output_type": "stream",
     "text": [
      " 5\n",
      " 2\n",
      " 3\n",
      " 5\n",
      " 7\n",
      " 9\n"
     ]
    }
   ],
   "source": [
    "n = int(input())\n",
    "li = list()\n",
    "for i in range(n):\n",
    "    curr = int(input())\n",
    "    li.append(curr)"
   ]
  },
  {
   "cell_type": "code",
   "execution_count": 59,
   "id": "b2248372-07ea-41f2-9dbb-e27b142aa35b",
   "metadata": {},
   "outputs": [
    {
     "data": {
      "text/plain": [
       "[2, 3, 5, 7, 9]"
      ]
     },
     "execution_count": 59,
     "metadata": {},
     "output_type": "execute_result"
    }
   ],
   "source": [
    "li"
   ]
  },
  {
   "cell_type": "code",
   "execution_count": 62,
   "id": "fa376fc8-7201-4805-a0f2-0cecabe65391",
   "metadata": {},
   "outputs": [
    {
     "name": "stdout",
     "output_type": "stream",
     "text": [
      "2 3 5 7 9 "
     ]
    }
   ],
   "source": [
    "for ele in li:\n",
    "    print(ele, end=\" \")"
   ]
  },
  {
   "cell_type": "markdown",
   "id": "ae964b49-5f78-4f48-8dc2-8baee00be174",
   "metadata": {},
   "source": [
    "# Space Separated Input"
   ]
  },
  {
   "cell_type": "code",
   "execution_count": 65,
   "id": "e5fa0bdf-9676-451a-b4cb-99ca0f830d32",
   "metadata": {},
   "outputs": [
    {
     "name": "stdin",
     "output_type": "stream",
     "text": [
      " 5\n",
      " 1 2 3 4 5\n"
     ]
    }
   ],
   "source": [
    "n = int(input())\n",
    "string = input()\n",
    "li = []\n",
    "str_split = string.split()\n",
    "str_split\n",
    "for i in str_split:\n",
    "    li.append(int(i))"
   ]
  },
  {
   "cell_type": "code",
   "execution_count": 66,
   "id": "23cb2586-489f-40e7-beea-05d7f8f2be73",
   "metadata": {},
   "outputs": [
    {
     "data": {
      "text/plain": [
       "[1, 2, 3, 4, 5]"
      ]
     },
     "execution_count": 66,
     "metadata": {},
     "output_type": "execute_result"
    }
   ],
   "source": [
    "li"
   ]
  },
  {
   "cell_type": "code",
   "execution_count": 69,
   "id": "2fd2242e-3f92-4a70-8c2a-b83d2318481c",
   "metadata": {},
   "outputs": [
    {
     "name": "stdin",
     "output_type": "stream",
     "text": [
      " 1 2 3 4 5\n"
     ]
    }
   ],
   "source": [
    "li = [int(x ) for x in input().split()]"
   ]
  },
  {
   "cell_type": "code",
   "execution_count": 70,
   "id": "368baea4-4719-44db-8fe7-166d91e6505e",
   "metadata": {},
   "outputs": [
    {
     "data": {
      "text/plain": [
       "[1, 2, 3, 4, 5]"
      ]
     },
     "execution_count": 70,
     "metadata": {},
     "output_type": "execute_result"
    }
   ],
   "source": [
    "li"
   ]
  },
  {
   "cell_type": "code",
   "execution_count": 71,
   "id": "ea13d1f4-4a97-4130-ae2a-ffae9b93020a",
   "metadata": {},
   "outputs": [
    {
     "name": "stdout",
     "output_type": "stream",
     "text": [
      "1\n",
      "2\n",
      "3\n",
      "4\n",
      "5\n"
     ]
    }
   ],
   "source": [
    "for ele in li:\n",
    "    print(ele)"
   ]
  },
  {
   "cell_type": "code",
   "execution_count": null,
   "id": "1f9dc20c-5cc4-4882-b2fb-e47667c53b7c",
   "metadata": {},
   "outputs": [],
   "source": []
  }
 ],
 "metadata": {
  "kernelspec": {
   "display_name": "Python 3 (ipykernel)",
   "language": "python",
   "name": "python3"
  },
  "language_info": {
   "codemirror_mode": {
    "name": "ipython",
    "version": 3
   },
   "file_extension": ".py",
   "mimetype": "text/x-python",
   "name": "python",
   "nbconvert_exporter": "python",
   "pygments_lexer": "ipython3",
   "version": "3.8.1"
  }
 },
 "nbformat": 4,
 "nbformat_minor": 5
}
