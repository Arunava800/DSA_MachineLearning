{
 "cells": [
  {
   "cell_type": "markdown",
   "id": "871cda51-d597-46b9-96b7-079dfc46ff2f",
   "metadata": {},
   "source": [
    "## Problem Statement:\n",
    "\n",
    "Given a string S, find the largest substring with no repeatation i.e. largest substring which contain all unique characters.\n",
    "\n",
    "*_Sample Input:_*  abcdabceb\n",
    "\n",
    "*_Sample Output:_* dabce"
   ]
  },
  {
   "cell_type": "code",
   "execution_count": 9,
   "id": "3aade276-ecfa-489d-9d03-a7e4dbe86d70",
   "metadata": {},
   "outputs": [
    {
     "name": "stdin",
     "output_type": "stream",
     "text": [
      " ccvvchcbchccccccjjhjhjhkkc\n"
     ]
    },
    {
     "name": "stdout",
     "output_type": "stream",
     "text": [
      "{'c': 1, 'cv': 2, 'v': 1, 'vch': 3, 'ch': 2, 'hcb': 3, 'cb': 2, 'bch': 3, 'hc': 2, 'cj': 2, 'j': 1, 'jh': 2, 'hj': 2, 'jhk': 3, 'hk': 2, 'k': 1, 'kc': 2}\n",
      "vch\n"
     ]
    }
   ],
   "source": [
    "string = input()\n",
    "string_table = {}\n",
    "s = \"\"\n",
    "\n",
    "i = 0\n",
    "while True:\n",
    "    if i < len(string) and string[i] not in s:\n",
    "        s += string[i]\n",
    "        i += 1\n",
    "    else:\n",
    "        string_table[s] = len(s)\n",
    "        s = \"\"\n",
    "        i = 0\n",
    "        string = string[1:]\n",
    "        if len(string) < 1:\n",
    "            break\n",
    "maximum = -1\n",
    "max_string = \"\"\n",
    "print(string_table)\n",
    "for keys, values in string_table.items():\n",
    "    if values > maximum:\n",
    "        maximum = values\n",
    "        max_string = keys\n",
    "print(max_string)"
   ]
  },
  {
   "cell_type": "code",
   "execution_count": null,
   "id": "39a43ca3-0885-4865-aad6-1f2a18ff7923",
   "metadata": {},
   "outputs": [],
   "source": []
  }
 ],
 "metadata": {
  "kernelspec": {
   "display_name": "Python 3 (ipykernel)",
   "language": "python",
   "name": "python3"
  },
  "language_info": {
   "codemirror_mode": {
    "name": "ipython",
    "version": 3
   },
   "file_extension": ".py",
   "mimetype": "text/x-python",
   "name": "python",
   "nbconvert_exporter": "python",
   "pygments_lexer": "ipython3",
   "version": "3.8.1"
  }
 },
 "nbformat": 4,
 "nbformat_minor": 5
}
