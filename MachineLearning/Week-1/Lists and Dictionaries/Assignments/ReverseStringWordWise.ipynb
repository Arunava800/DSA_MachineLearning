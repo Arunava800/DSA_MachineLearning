{
 "cells": [
  {
   "cell_type": "markdown",
   "id": "b382b1f7-c3a6-4f42-8d98-0b5a7276625b",
   "metadata": {},
   "source": [
    "## Problem Statement:\n",
    "\n",
    "Reverse the given string word wise. That is, the last word in the given string should come at first place, last second word at 2nd place and so on. Individual words should remain as it is.\n",
    "\n",
    "*_Sample Input:_* Welcome to coding Ninjas\n",
    "\n",
    "*_Sample output:_* Ninjas Coding to Welcome"
   ]
  },
  {
   "cell_type": "markdown",
   "id": "93d36083-01a9-4b14-8ac2-d39bb695c66b",
   "metadata": {},
   "source": [
    "## Solution: 1. Reverse the String, 2. Reverse the words"
   ]
  },
  {
   "cell_type": "code",
   "execution_count": 23,
   "id": "95703331-6877-47ca-9956-4bfc8b695a69",
   "metadata": {},
   "outputs": [
    {
     "name": "stdin",
     "output_type": "stream",
     "text": [
      " Hello World\n"
     ]
    },
    {
     "name": "stdout",
     "output_type": "stream",
     "text": [
      "World Hello\n"
     ]
    }
   ],
   "source": [
    "string = input()\n",
    "\n",
    "# Reverse the string\n",
    "ptrA = 0\n",
    "ptrB = len(string) - 1\n",
    "string_list = list(string)\n",
    "\n",
    "# Reverse the string\n",
    "while ptrA < ptrB:\n",
    "    string_list[ptrA], string_list[ptrB] = string_list[ptrB], string_list[ptrA]\n",
    "    ptrA += 1\n",
    "    ptrB -= 1\n",
    "\n",
    "# Reverse the word\n",
    "ptrA = 0\n",
    "ptrB = 0\n",
    "for i in range(len(string_list)):\n",
    "    if string_list[i] == ' ' or i == len(string_list) -1:\n",
    "        ptrB = i - 1\n",
    "        if i == len(string_list)-1:\n",
    "            ptrB = i\n",
    "  \n",
    "        while ptrA < ptrB:\n",
    "            string_list[ptrA], string_list[ptrB] = string_list[ptrB], string_list[ptrA]\n",
    "            ptrA += 1\n",
    "            ptrB -= 1\n",
    "        ptrA = i + 1\n",
    "        ptrB = ptrA\n",
    "\n",
    "string = \"\"\n",
    "for i in string_list:\n",
    "    string += i\n",
    "print(string)"
   ]
  },
  {
   "cell_type": "code",
   "execution_count": null,
   "id": "4ce58396-20ff-4689-84ad-8f5787294ce2",
   "metadata": {},
   "outputs": [],
   "source": []
  }
 ],
 "metadata": {
  "kernelspec": {
   "display_name": "Python 3 (ipykernel)",
   "language": "python",
   "name": "python3"
  },
  "language_info": {
   "codemirror_mode": {
    "name": "ipython",
    "version": 3
   },
   "file_extension": ".py",
   "mimetype": "text/x-python",
   "name": "python",
   "nbconvert_exporter": "python",
   "pygments_lexer": "ipython3",
   "version": "3.8.1"
  }
 },
 "nbformat": 4,
 "nbformat_minor": 5
}
