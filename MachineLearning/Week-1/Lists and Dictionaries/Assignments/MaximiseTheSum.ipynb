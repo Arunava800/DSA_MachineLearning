{
 "cells": [
  {
   "cell_type": "markdown",
   "id": "effc43ef-097b-44d7-a3bf-25c11682adbb",
   "metadata": {},
   "source": [
    "## Problem Statement:\n",
    "\n",
    "Given two sorted arrays(in increasing order), find a path through the intersections that produces the maximum sum and then returns the maximum sum.  That is, we can switch from one array to another array only at common elements. If no intersection element is present, we need to take sum of all elements from the array with greater sum. \n",
    "\n",
    "*_Sample Input:_* 6\n",
    "\n",
    "1 5 10 15 20 25\n",
    "\n",
    "5\n",
    "\n",
    "2 4 5 9 15\n",
    "\n",
    "*_Sample Output:_*  81\n",
    "\n",
    "\n",
    "*_Explanation:_* We will start from array 2 and take the sum till five (sum = 11).Then we will switch to array at element 10  and take till 15 . So, sum = 36. Now, no elements are left in the array after 15, so, we will contiune in array 1 . Hence the sum is 81"
   ]
  },
  {
   "cell_type": "markdown",
   "id": "b621771f-1fb6-4abb-93da-8f78224be6a3",
   "metadata": {},
   "source": [
    "## Algorithm:\n",
    "\n",
    "1. Take two input arrays arr1 = [1, 5, 10, 15, 20, 25] and arr2 = [2, 4, 5, 9 15]\n",
    "2. initialize i, j, sum1, sum2, result to 0\n",
    "3. if arr1[i] > arr2[j]:\n",
    "4.     sum2 = sum2 + arr2[j]\n",
    "5. Increment j\n",
    "6. if arr1[i] < arr2[j]:\n",
    "7.     sum1 = sum1 + arr1[i]\n",
    "8. Increment i\n",
    "9. if arr1[i] == arr2[j]:\n",
    "10.     result = max(sum1, sum2)\n",
    "11.    increment i and j\n",
    "12.    set sum1, sum2 = 0, 0\n",
    "   \n",
    "13.if i < len(arr1):\n",
    "           sum1 += arr1[i]\n",
    "14. if j < len(arr2):\n",
    "15.      sum2 += arr2[j]"
   ]
  },
  {
   "cell_type": "code",
   "execution_count": 41,
   "id": "eaf7f4b8-d766-4398-b7b1-33abe25bb075",
   "metadata": {},
   "outputs": [],
   "source": [
    "from typing import List\n",
    "def maximise_sum(arr1: List, arr2: List, m: int, n: int) -> int:\n",
    "    index1, index2, result, sum1, sum2 = 0, 0, 0, 0, 0\n",
    "    length1 = len(arr1)\n",
    "    length2 = len(arr2)\n",
    "    while index1 < length1 and index2 < length2:\n",
    "        if arr1[index1] > arr2[index2]:\n",
    "            sum2 += arr2[index2]\n",
    "            index2 += 1\n",
    "        elif arr1[index1] < arr2[index2]:\n",
    "            sum1 += arr1[index1]\n",
    "            index1 += 1\n",
    "        else:\n",
    "            result += max(sum1, sum2) + arr1[index1]\n",
    "            index1 += 1\n",
    "            index2 += 1\n",
    "            sum1 , sum2 = 0, 0\n",
    "    while index1 < length1:\n",
    "        sum1 += arr1[index1]\n",
    "        index1 += 1\n",
    "    while index2 < length2:\n",
    "        sum2 += arr2[index2]\n",
    "        index2 += 1\n",
    "    result += max(sum1, sum2) \n",
    "    return result"
   ]
  },
  {
   "cell_type": "code",
   "execution_count": 43,
   "id": "faf0d074-d4fb-44ac-8554-025dbbf2daee",
   "metadata": {},
   "outputs": [
    {
     "name": "stdin",
     "output_type": "stream",
     "text": [
      " 1\n",
      " 1\n",
      " 7719477\n",
      " 7369117\n"
     ]
    },
    {
     "name": "stdout",
     "output_type": "stream",
     "text": [
      "7719477\n"
     ]
    }
   ],
   "source": [
    "m = int(input())\n",
    "n = int(input())\n",
    "array_1 = list(map(int, input().split()))\n",
    "array_2 = list(map(int, input().split()))\n",
    "print(maximise_sum(array_1, array_2, m, n))"
   ]
  },
  {
   "cell_type": "code",
   "execution_count": null,
   "id": "6095a8e7-6964-418f-ab81-f5970b18559f",
   "metadata": {},
   "outputs": [],
   "source": []
  },
  {
   "cell_type": "code",
   "execution_count": null,
   "id": "8f842617-83a8-46ca-a6f8-9b6607b76eb6",
   "metadata": {},
   "outputs": [],
   "source": []
  }
 ],
 "metadata": {
  "kernelspec": {
   "display_name": "Python 3 (ipykernel)",
   "language": "python",
   "name": "python3"
  },
  "language_info": {
   "codemirror_mode": {
    "name": "ipython",
    "version": 3
   },
   "file_extension": ".py",
   "mimetype": "text/x-python",
   "name": "python",
   "nbconvert_exporter": "python",
   "pygments_lexer": "ipython3",
   "version": "3.8.1"
  }
 },
 "nbformat": 4,
 "nbformat_minor": 5
}
