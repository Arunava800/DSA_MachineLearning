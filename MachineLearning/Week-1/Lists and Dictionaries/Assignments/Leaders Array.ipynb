{
 "cells": [
  {
   "cell_type": "markdown",
   "id": "2a112de1-2ca2-4665-95d4-f61c23f1d5f6",
   "metadata": {},
   "source": [
    "## Problem Statement:\n",
    "\n",
    "Given an integer array `A` of size `n`. Find and print all the leaders present in the input array. An array element A[i] is called leader, if all the elements following it(ie, present at the right) are less than or equal to A[i]. Print all the leaders separated by a space and in the same order they are present in the input array.\n",
    "\n",
    "*_Sample Input:_* 3 12 34 2 0 -1\n",
    "\n",
    "*_Sample Output:_* 34 2 0 -1"
   ]
  },
  {
   "cell_type": "markdown",
   "id": "dbe82283-72aa-405c-939a-2601435ac8f2",
   "metadata": {},
   "source": [
    "## Solution: The maximum Value from the last element\n"
   ]
  },
  {
   "cell_type": "code",
   "execution_count": null,
   "id": "eb9d5f70-d7bb-40f4-af70-5e1c220aabc6",
   "metadata": {},
   "outputs": [
    {
     "name": "stdin",
     "output_type": "stream",
     "text": [
      " 975\n"
     ]
    }
   ],
   "source": [
    "# Approach 1\n",
    "\n",
    "n = int(input())\n",
    "li =  list(map(int, input().split()))[:n]\n",
    "new_list = []\n",
    "maximum = -100000\n",
    "for i in range(len(li)-2,-1, -1):\n",
    "    if li[i] > maximum:\n",
    "        maximum = li[i]\n",
    "        new_list.append(maximum)\n",
    "for i in new_list[-1::-1]:\n",
    "    print(i)"
   ]
  },
  {
   "cell_type": "code",
   "execution_count": 14,
   "id": "4a568958-e14b-4396-9274-55c165d69b17",
   "metadata": {},
   "outputs": [
    {
     "name": "stdout",
     "output_type": "stream",
     "text": [
      "1 2 3 4 5 "
     ]
    }
   ],
   "source": []
  },
  {
   "cell_type": "code",
   "execution_count": null,
   "id": "21faffeb-d05d-4825-a7d2-f381f4d9156b",
   "metadata": {},
   "outputs": [],
   "source": []
  }
 ],
 "metadata": {
  "kernelspec": {
   "display_name": "Python 3 (ipykernel)",
   "language": "python",
   "name": "python3"
  },
  "language_info": {
   "codemirror_mode": {
    "name": "ipython",
    "version": 3
   },
   "file_extension": ".py",
   "mimetype": "text/x-python",
   "name": "python",
   "nbconvert_exporter": "python",
   "pygments_lexer": "ipython3",
   "version": "3.8.1"
  }
 },
 "nbformat": 4,
 "nbformat_minor": 5
}
