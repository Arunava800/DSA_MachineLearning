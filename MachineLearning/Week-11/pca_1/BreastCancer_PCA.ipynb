{
 "cells": [
  {
   "cell_type": "code",
   "execution_count": 1,
   "id": "2392654c-ac0c-4bbc-a3f4-4e4c3b4d16bb",
   "metadata": {},
   "outputs": [],
   "source": [
    "import numpy as np\n",
    "from sklearn import decomposition, linear_model, datasets\n",
    "import time\n",
    "from sklearn.preprocessing import StandardScaler\n",
    "from sklearn.model_selection import train_test_split"
   ]
  },
  {
   "cell_type": "code",
   "execution_count": 2,
   "id": "81b93d29-964d-4428-8a08-556519cad542",
   "metadata": {},
   "outputs": [],
   "source": [
    "breast_cancer = datasets.load_breast_cancer()"
   ]
  },
  {
   "cell_type": "code",
   "execution_count": 3,
   "id": "9460fc7a-5262-4d7a-9bfd-34a85422a888",
   "metadata": {},
   "outputs": [
    {
     "data": {
      "text/plain": [
       "(569, 30)"
      ]
     },
     "execution_count": 3,
     "metadata": {},
     "output_type": "execute_result"
    }
   ],
   "source": [
    "x = breast_cancer.data\n",
    "x.shape"
   ]
  },
  {
   "cell_type": "code",
   "execution_count": 4,
   "id": "360c2834-aec2-4370-a5ac-bbfadc544869",
   "metadata": {},
   "outputs": [],
   "source": [
    "sc = StandardScaler()\n",
    "x_std = sc.fit_transform(x)\n",
    "x_train, x_test, y_train, y_test = train_test_split(x_std, breast_cancer.target, random_state = 0)"
   ]
  },
  {
   "cell_type": "code",
   "execution_count": 5,
   "id": "dd03ead4-3424-4760-a576-22277cff7706",
   "metadata": {},
   "outputs": [],
   "source": [
    "pca = decomposition.PCA(n_components = 15)\n",
    "x_train_pca = pca.fit_transform(x_train)\n",
    "x_test_pca = pca.transform(x_test)"
   ]
  },
  {
   "cell_type": "code",
   "execution_count": 6,
   "id": "e8088e5d-36b4-4c33-9032-484ed722709c",
   "metadata": {},
   "outputs": [
    {
     "name": "stdout",
     "output_type": "stream",
     "text": [
      "Score: 0.7291758706114048\n",
      "Time:  0.012002944946289062\n"
     ]
    }
   ],
   "source": [
    "lr = linear_model.LinearRegression()\n",
    "start = time.time()\n",
    "lr.fit(x_train, y_train)\n",
    "end = time.time()\n",
    "print(\"Score:\", lr.score(x_test, y_test))\n",
    "print(\"Time: \", end-start)"
   ]
  },
  {
   "cell_type": "code",
   "execution_count": 8,
   "id": "84de18d0-b523-4d4d-9a4d-ba5ca2d1f573",
   "metadata": {},
   "outputs": [
    {
     "name": "stdout",
     "output_type": "stream",
     "text": [
      "PCA score:  0.7265914378052422\n",
      "Time:  0.004012584686279297\n"
     ]
    }
   ],
   "source": [
    "lr = linear_model.LinearRegression()\n",
    "start = time.time()\n",
    "lr.fit(x_train_pca, y_train)\n",
    "end = time.time()\n",
    "print(\"PCA score: \", lr.score(x_test_pca, y_test))\n",
    "print(\"Time: \", end-start)"
   ]
  },
  {
   "cell_type": "code",
   "execution_count": null,
   "id": "8d5df382-5914-4a60-bc7e-25264ece0f9c",
   "metadata": {},
   "outputs": [],
   "source": []
  },
  {
   "cell_type": "code",
   "execution_count": null,
   "id": "be7982b5-5ac3-4e62-aa80-370b0403cc21",
   "metadata": {},
   "outputs": [],
   "source": []
  }
 ],
 "metadata": {
  "kernelspec": {
   "display_name": "Python 3 (ipykernel)",
   "language": "python",
   "name": "python3"
  },
  "language_info": {
   "codemirror_mode": {
    "name": "ipython",
    "version": 3
   },
   "file_extension": ".py",
   "mimetype": "text/x-python",
   "name": "python",
   "nbconvert_exporter": "python",
   "pygments_lexer": "ipython3",
   "version": "3.12.7"
  }
 },
 "nbformat": 4,
 "nbformat_minor": 5
}
