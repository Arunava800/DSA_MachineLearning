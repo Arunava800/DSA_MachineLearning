{
 "cells": [
  {
   "cell_type": "code",
   "execution_count": 1,
   "id": "25cdd660-0d24-4cd8-801c-ddf2a9d4328d",
   "metadata": {},
   "outputs": [],
   "source": [
    "from keras.models import Sequential\n",
    "from keras.layers import Dense"
   ]
  },
  {
   "cell_type": "code",
   "execution_count": 2,
   "id": "5435e024-25e8-4c30-acda-efcb43ee33a4",
   "metadata": {},
   "outputs": [],
   "source": [
    "model = Sequential()\n",
    "layer1 = Dense(units = 32, activation = 'relu', input_dim = 30)\n",
    "model.add(layer1)\n",
    "model.add(Dense(units = 16, activation='relu'))\n",
    "model.add(Dense(units=1, activation='sigmoid'))\n",
    "model.compile(optimizer = 'adam', loss = 'binary_crossentropy', metrics=['accuracy'])"
   ]
  },
  {
   "cell_type": "code",
   "execution_count": 3,
   "id": "1cfb313a-17c6-44a6-9cdd-9014fc8b5548",
   "metadata": {},
   "outputs": [],
   "source": [
    "from sklearn import datasets\n",
    "cancer = datasets.load_breast_cancer()"
   ]
  },
  {
   "cell_type": "code",
   "execution_count": 4,
   "id": "7b3300d9-843a-4e42-8bff-7ad5f67c6dd1",
   "metadata": {},
   "outputs": [],
   "source": [
    "from sklearn.model_selection import train_test_split\n",
    "x_train, x_test, y_train, y_test = train_test_split(cancer.data, cancer.target, test_size = 0.2)"
   ]
  },
  {
   "cell_type": "code",
   "execution_count": 5,
   "id": "07943a2d-597c-4174-a74a-897bb4fa3b8d",
   "metadata": {},
   "outputs": [],
   "source": [
    "from sklearn.preprocessing import StandardScaler\n",
    "sc=StandardScaler()\n",
    "x_train = sc.fit_transform(x_train)\n",
    "x_test = sc.fit_transform(x_test)"
   ]
  },
  {
   "cell_type": "code",
   "execution_count": 6,
   "id": "f92d2be2-6efc-41f4-8fb3-be9905fec684",
   "metadata": {},
   "outputs": [
    {
     "name": "stdout",
     "output_type": "stream",
     "text": [
      "Epoch 1/20\n",
      "10/10 [==============================] - 3s 52ms/step - loss: 0.5567 - accuracy: 0.8220 - val_loss: 0.5124 - val_accuracy: 0.8421\n",
      "Epoch 2/20\n",
      "10/10 [==============================] - 0s 7ms/step - loss: 0.4386 - accuracy: 0.9407 - val_loss: 0.4155 - val_accuracy: 0.8772\n",
      "Epoch 3/20\n",
      "10/10 [==============================] - 0s 8ms/step - loss: 0.3428 - accuracy: 0.9604 - val_loss: 0.3435 - val_accuracy: 0.8947\n",
      "Epoch 4/20\n",
      "10/10 [==============================] - 0s 7ms/step - loss: 0.2706 - accuracy: 0.9560 - val_loss: 0.2984 - val_accuracy: 0.9035\n",
      "Epoch 5/20\n",
      "10/10 [==============================] - 0s 7ms/step - loss: 0.2181 - accuracy: 0.9560 - val_loss: 0.2739 - val_accuracy: 0.9035\n",
      "Epoch 6/20\n",
      "10/10 [==============================] - 0s 7ms/step - loss: 0.1801 - accuracy: 0.9560 - val_loss: 0.2648 - val_accuracy: 0.9035\n",
      "Epoch 7/20\n",
      "10/10 [==============================] - 0s 8ms/step - loss: 0.1531 - accuracy: 0.9626 - val_loss: 0.2591 - val_accuracy: 0.9035\n",
      "Epoch 8/20\n",
      "10/10 [==============================] - 0s 7ms/step - loss: 0.1326 - accuracy: 0.9692 - val_loss: 0.2547 - val_accuracy: 0.9035\n",
      "Epoch 9/20\n",
      "10/10 [==============================] - 0s 8ms/step - loss: 0.1167 - accuracy: 0.9692 - val_loss: 0.2528 - val_accuracy: 0.9035\n",
      "Epoch 10/20\n",
      "10/10 [==============================] - 0s 8ms/step - loss: 0.1041 - accuracy: 0.9736 - val_loss: 0.2512 - val_accuracy: 0.9035\n",
      "Epoch 11/20\n",
      "10/10 [==============================] - 0s 8ms/step - loss: 0.0935 - accuracy: 0.9780 - val_loss: 0.2506 - val_accuracy: 0.9035\n",
      "Epoch 12/20\n",
      "10/10 [==============================] - 0s 8ms/step - loss: 0.0851 - accuracy: 0.9802 - val_loss: 0.2503 - val_accuracy: 0.9123\n",
      "Epoch 13/20\n",
      "10/10 [==============================] - 0s 8ms/step - loss: 0.0775 - accuracy: 0.9824 - val_loss: 0.2504 - val_accuracy: 0.9123\n",
      "Epoch 14/20\n",
      "10/10 [==============================] - 0s 8ms/step - loss: 0.0712 - accuracy: 0.9824 - val_loss: 0.2530 - val_accuracy: 0.9123\n",
      "Epoch 15/20\n",
      "10/10 [==============================] - 0s 8ms/step - loss: 0.0662 - accuracy: 0.9824 - val_loss: 0.2522 - val_accuracy: 0.9123\n",
      "Epoch 16/20\n",
      "10/10 [==============================] - 0s 7ms/step - loss: 0.0620 - accuracy: 0.9868 - val_loss: 0.2554 - val_accuracy: 0.9211\n",
      "Epoch 17/20\n",
      "10/10 [==============================] - 0s 8ms/step - loss: 0.0583 - accuracy: 0.9868 - val_loss: 0.2596 - val_accuracy: 0.9123\n",
      "Epoch 18/20\n",
      "10/10 [==============================] - 0s 8ms/step - loss: 0.0546 - accuracy: 0.9890 - val_loss: 0.2621 - val_accuracy: 0.9123\n",
      "Epoch 19/20\n",
      "10/10 [==============================] - 0s 8ms/step - loss: 0.0518 - accuracy: 0.9890 - val_loss: 0.2703 - val_accuracy: 0.9123\n",
      "Epoch 20/20\n",
      "10/10 [==============================] - 0s 8ms/step - loss: 0.0490 - accuracy: 0.9868 - val_loss: 0.2660 - val_accuracy: 0.9211\n"
     ]
    },
    {
     "data": {
      "text/plain": [
       "<keras.callbacks.History at 0x2892d392620>"
      ]
     },
     "execution_count": 6,
     "metadata": {},
     "output_type": "execute_result"
    }
   ],
   "source": [
    "model.fit(x_train, y_train, epochs = 20, batch_size = 50, validation_data =(x_test, y_test))"
   ]
  },
  {
   "cell_type": "code",
   "execution_count": 7,
   "id": "9bc0e94d-0d5e-463e-92c4-0bd50b54c8ea",
   "metadata": {},
   "outputs": [
    {
     "name": "stdout",
     "output_type": "stream",
     "text": [
      "4/4 [==============================] - 0s 3ms/step\n"
     ]
    },
    {
     "data": {
      "text/plain": [
       "array([[9.99843478e-01],\n",
       "       [9.99851167e-01],\n",
       "       [9.99951303e-01],\n",
       "       [3.99251208e-02],\n",
       "       [9.95980561e-01],\n",
       "       [9.98750448e-01],\n",
       "       [9.99521911e-01],\n",
       "       [9.96565640e-01],\n",
       "       [4.24097339e-03],\n",
       "       [9.99322355e-01],\n",
       "       [9.99932468e-01],\n",
       "       [9.75582838e-01],\n",
       "       [2.96612196e-02],\n",
       "       [9.99346197e-01],\n",
       "       [9.72825110e-01],\n",
       "       [1.10691963e-02],\n",
       "       [9.96062577e-01],\n",
       "       [9.34238720e-04],\n",
       "       [4.92985398e-02],\n",
       "       [4.34595812e-03],\n",
       "       [3.54610221e-03],\n",
       "       [9.91405368e-01],\n",
       "       [9.99132693e-01],\n",
       "       [5.80942631e-01],\n",
       "       [7.85604835e-01],\n",
       "       [9.99270320e-01],\n",
       "       [9.98001277e-01],\n",
       "       [9.99549747e-01],\n",
       "       [5.65005121e-06],\n",
       "       [9.99995172e-01],\n",
       "       [9.99946475e-01],\n",
       "       [8.29857599e-04],\n",
       "       [9.99476969e-01],\n",
       "       [9.98010099e-01],\n",
       "       [4.79541952e-03],\n",
       "       [2.65507842e-04],\n",
       "       [9.99778152e-01],\n",
       "       [9.99765694e-01],\n",
       "       [1.21117815e-01],\n",
       "       [9.58130062e-01],\n",
       "       [9.99895573e-01],\n",
       "       [9.06542301e-01],\n",
       "       [9.43947613e-01],\n",
       "       [1.27304193e-05],\n",
       "       [9.99770164e-01],\n",
       "       [9.99998748e-01],\n",
       "       [9.99107778e-01],\n",
       "       [9.96606171e-01],\n",
       "       [9.91673887e-01],\n",
       "       [9.99892712e-01],\n",
       "       [2.26281444e-03],\n",
       "       [9.98672783e-01],\n",
       "       [9.89834189e-01],\n",
       "       [9.99953151e-01],\n",
       "       [9.98338580e-01],\n",
       "       [3.84558678e-01],\n",
       "       [9.43812847e-01],\n",
       "       [9.88777876e-01],\n",
       "       [9.99904096e-01],\n",
       "       [1.54949902e-02],\n",
       "       [9.99664009e-01],\n",
       "       [9.98080850e-01],\n",
       "       [9.80144620e-01],\n",
       "       [4.06972365e-03],\n",
       "       [1.33613241e-06],\n",
       "       [2.47772560e-01],\n",
       "       [9.98593032e-01],\n",
       "       [3.61771934e-04],\n",
       "       [9.73337173e-01],\n",
       "       [3.31731513e-04],\n",
       "       [3.51541297e-04],\n",
       "       [9.99909103e-01],\n",
       "       [9.98454750e-01],\n",
       "       [2.36369856e-03],\n",
       "       [6.33037865e-01],\n",
       "       [7.54355337e-04],\n",
       "       [9.67027545e-01],\n",
       "       [9.99420404e-01],\n",
       "       [2.29699595e-04],\n",
       "       [9.99451399e-01],\n",
       "       [6.48254645e-04],\n",
       "       [9.99961436e-01],\n",
       "       [5.91193442e-04],\n",
       "       [9.98377919e-01],\n",
       "       [5.75774945e-02],\n",
       "       [9.91422832e-01],\n",
       "       [9.94361162e-01],\n",
       "       [9.80509102e-01],\n",
       "       [9.97486889e-01],\n",
       "       [9.79354382e-01],\n",
       "       [9.99937654e-01],\n",
       "       [3.09357680e-02],\n",
       "       [9.99842644e-01],\n",
       "       [9.96875703e-01],\n",
       "       [2.17383988e-02],\n",
       "       [8.24534527e-06],\n",
       "       [9.99891818e-01],\n",
       "       [9.91387427e-01],\n",
       "       [9.93556798e-01],\n",
       "       [9.83620882e-01],\n",
       "       [9.89540040e-01],\n",
       "       [9.96759653e-01],\n",
       "       [9.96789336e-01],\n",
       "       [7.19369203e-02],\n",
       "       [1.37394003e-03],\n",
       "       [4.89207101e-04],\n",
       "       [1.61086470e-01],\n",
       "       [9.97976780e-01],\n",
       "       [9.81957793e-01],\n",
       "       [9.82061386e-01],\n",
       "       [9.96183753e-01],\n",
       "       [1.48746833e-01],\n",
       "       [4.98282909e-01],\n",
       "       [9.87858713e-01]], dtype=float32)"
      ]
     },
     "execution_count": 7,
     "metadata": {},
     "output_type": "execute_result"
    }
   ],
   "source": [
    "predictions = model.predict(x_test)\n",
    "predictions"
   ]
  },
  {
   "cell_type": "code",
   "execution_count": 8,
   "id": "fb509983-a91f-4a9b-bdef-029aefee0f90",
   "metadata": {},
   "outputs": [
    {
     "name": "stdout",
     "output_type": "stream",
     "text": [
      "4/4 [==============================] - 0s 3ms/step - loss: 0.2660 - accuracy: 0.9211\n"
     ]
    },
    {
     "data": {
      "text/plain": [
       "[0.2660083472728729, 0.9210526347160339]"
      ]
     },
     "execution_count": 8,
     "metadata": {},
     "output_type": "execute_result"
    }
   ],
   "source": [
    "score = model.evaluate(x_test, y_test)\n",
    "score"
   ]
  },
  {
   "cell_type": "code",
   "execution_count": null,
   "id": "6ddafcbc-449b-4726-b382-53346bc6f2f5",
   "metadata": {},
   "outputs": [],
   "source": []
  }
 ],
 "metadata": {
  "kernelspec": {
   "display_name": "Python 3 (ipykernel)",
   "language": "python",
   "name": "python3"
  },
  "language_info": {
   "codemirror_mode": {
    "name": "ipython",
    "version": 3
   },
   "file_extension": ".py",
   "mimetype": "text/x-python",
   "name": "python",
   "nbconvert_exporter": "python",
   "pygments_lexer": "ipython3",
   "version": "3.10.13"
  }
 },
 "nbformat": 4,
 "nbformat_minor": 5
}
