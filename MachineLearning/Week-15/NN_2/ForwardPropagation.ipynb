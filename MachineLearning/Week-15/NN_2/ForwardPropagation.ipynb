{
 "cells": [
  {
   "cell_type": "code",
   "execution_count": 1,
   "id": "3f4e39ec-0b83-4cf6-9dff-21eb5f0f1181",
   "metadata": {},
   "outputs": [],
   "source": [
    "import numpy as np"
   ]
  },
  {
   "cell_type": "code",
   "execution_count": 5,
   "id": "3fbfdac0-713f-407d-b46f-d3a971239abf",
   "metadata": {},
   "outputs": [],
   "source": [
    "X = np.array([[0,0],[0,1],[1,0],[1,1]])\n",
    "Y = np.array([[0,0,0,1]])"
   ]
  },
  {
   "cell_type": "code",
   "execution_count": 6,
   "id": "9a1bca57-8a97-451c-a06a-d5813af4d32e",
   "metadata": {},
   "outputs": [
    {
     "data": {
      "text/plain": [
       "((4, 2), (1, 4))"
      ]
     },
     "execution_count": 6,
     "metadata": {},
     "output_type": "execute_result"
    }
   ],
   "source": [
    "X.shape, Y.shape"
   ]
  },
  {
   "cell_type": "code",
   "execution_count": 9,
   "id": "7dc983ab-457e-47a4-9766-91481ef7695b",
   "metadata": {},
   "outputs": [],
   "source": [
    "Y = Y.T"
   ]
  },
  {
   "cell_type": "code",
   "execution_count": 10,
   "id": "2628e31e-ec9f-4d66-9ec0-284ae3ac1ba7",
   "metadata": {},
   "outputs": [
    {
     "data": {
      "text/plain": [
       "(4, 1)"
      ]
     },
     "execution_count": 10,
     "metadata": {},
     "output_type": "execute_result"
    }
   ],
   "source": [
    "Y.shape"
   ]
  },
  {
   "cell_type": "code",
   "execution_count": 12,
   "id": "cf1bcd6b-ef26-4334-aad2-a44b7ea916b3",
   "metadata": {},
   "outputs": [],
   "source": [
    "def sig(z):\n",
    "    return 1 / (1+ np.exp(-z))"
   ]
  },
  {
   "cell_type": "markdown",
   "id": "904860ca-eac6-4688-8d29-73a9b8d9f1fe",
   "metadata": {},
   "source": [
    "## No hidden layeres"
   ]
  },
  {
   "cell_type": "code",
   "execution_count": 23,
   "id": "7f01e4e8-06d7-42a9-a80f-39d3ff44f541",
   "metadata": {},
   "outputs": [
    {
     "data": {
      "text/plain": [
       "(array([[0.3601241 ],\n",
       "        [0.67360356]]),\n",
       " array([0.82276683]))"
      ]
     },
     "execution_count": 23,
     "metadata": {},
     "output_type": "execute_result"
    }
   ],
   "source": [
    "weights =2* np.random.random((2,1)) - 1\n",
    "bias = 2*np.random.random(1)-1\n",
    "weights,bias"
   ]
  },
  {
   "cell_type": "code",
   "execution_count": 24,
   "id": "b7f6cea1-8244-483e-9063-5114067c0a68",
   "metadata": {},
   "outputs": [],
   "source": [
    "output0 = X"
   ]
  },
  {
   "cell_type": "code",
   "execution_count": 26,
   "id": "3dd74dbd-bc56-4c4e-ad2b-087c05234f00",
   "metadata": {},
   "outputs": [
    {
     "data": {
      "text/plain": [
       "array([[0.69482335],\n",
       "       [0.81703251],\n",
       "       [0.7654672 ],\n",
       "       [0.86488783]])"
      ]
     },
     "execution_count": 26,
     "metadata": {},
     "output_type": "execute_result"
    }
   ],
   "source": [
    "output = sig(np.dot(output0, weights)+bias)\n",
    "output"
   ]
  },
  {
   "cell_type": "markdown",
   "id": "c70dcf8c-2329-4c0b-b2ec-59ace50ceecf",
   "metadata": {},
   "source": [
    "## With hidden layers"
   ]
  },
  {
   "cell_type": "code",
   "execution_count": null,
   "id": "f535c3a3-4d9e-4e12-a189-069178ae106a",
   "metadata": {},
   "outputs": [],
   "source": []
  }
 ],
 "metadata": {
  "kernelspec": {
   "display_name": "Python 3 (ipykernel)",
   "language": "python",
   "name": "python3"
  },
  "language_info": {
   "codemirror_mode": {
    "name": "ipython",
    "version": 3
   },
   "file_extension": ".py",
   "mimetype": "text/x-python",
   "name": "python",
   "nbconvert_exporter": "python",
   "pygments_lexer": "ipython3",
   "version": "3.12.8"
  }
 },
 "nbformat": 4,
 "nbformat_minor": 5
}
