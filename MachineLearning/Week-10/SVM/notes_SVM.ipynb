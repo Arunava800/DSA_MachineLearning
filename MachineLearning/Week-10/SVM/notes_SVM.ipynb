{
 "cells": [
  {
   "cell_type": "markdown",
   "metadata": {
    "id": "Dsqyd1xDhwC6"
   },
   "source": [
    "#**SVM**"
   ]
  },
  {
   "cell_type": "markdown",
   "metadata": {
    "id": "SXI1Y97SQcNl"
   },
   "source": [
    "**What will we learn?**\r\n",
    "1. **Introduction**: What is SVM?\r\n",
    "2. **Cost Function**\r\n",
    "3. **Decision Boundary**: Proper classification. \r\n",
    "4. **Kernels** : What is Kernel?\r\n",
    "6. **Scikit-learn Implementation**\r\n",
    "7. **Non-Linear SVM**\r\n",
    "8. **Landmarks**\r\n",
    "9. **Different kinds of Kernels**\r\n",
    "10. **Multiclass Classification**\r\n",
    "11. **GridSearchCV**: Choosing Parameters Using Grid Search\r\n",
    "12. **Advantages and Disadvantages of SVM** "
   ]
  },
  {
   "cell_type": "markdown",
   "metadata": {
    "id": "9AubotyGiTq4"
   },
   "source": [
    "Support Vector Machine(SVM) is a powerful classifier that works both on linearly\r\n",
    "and nonlinearly separable data.\r\n",
    "\r\n",
    "<img src = \"https://files.codingninjas.in/svm1-7553.JPG\">\r\n",
    "\r\n",
    "SVM tries to find the “best” margin (distance between the line and the support\r\n",
    "vectors) that separates the classes. This reduces the risk of error on the data, while\r\n",
    "logistic regression does not. Instead it can have different decision boundaries with\r\n",
    "different weights that are near to the optimal point.\r\n"
   ]
  },
  {
   "cell_type": "markdown",
   "metadata": {
    "id": "eKSqHqQNiToh"
   },
   "source": [
    "##**Cost Function**\r\n"
   ]
  },
  {
   "cell_type": "markdown",
   "metadata": {
    "id": "W2EcsNKjiTmJ"
   },
   "source": [
    "<img src = \"https://files.codingninjas.in/svm2-7554.JPG\">\r\n",
    "\r\n",
    "The Cost Function is used to train the SVM. By minimizing the value of J(theta), we can ensure that the SVM is as accurate as possible. In the equation, the functions $cost_1$ and $cost_0$ refer to the cost for an example where y = 1 and the cost for an example where y = 0 respectively. For SVMs, cost is determined by kernel (similarity) functions.\r\n",
    "\r\n",
    "\r\n",
    "<img src = \"https://files.codingninjas.in/svm3-7555.JPG\" >\r\n",
    "\r\n",
    "\r\n"
   ]
  },
  {
   "cell_type": "markdown",
   "metadata": {
    "id": "v7Ge6YliiTj7"
   },
   "source": [
    "##**Decision Boundary**"
   ]
  },
  {
   "cell_type": "markdown",
   "metadata": {
    "id": "v_wPKJMbiThz"
   },
   "source": [
    "It is a plane of $n - 1$ dimensions in $n$ dimensional feature space that separates the two classes for a 2-D feature space, it would be a line and for a 3-D feature space it would be a plane and so on. Decision Boundary is also known as a hyperplane.\r\n",
    "\r\n",
    "Now, the goal is to choose a decision boundary with the greatest possible margin\r\n",
    "between the decision boundary and any point within the training set, giving a\r\n",
    "greater chance of new data being classified correctly.\r\n",
    "\r\n",
    "<img src = \"https://files.codingninjas.in/svm4-7556.JPG\">"
   ]
  },
  {
   "cell_type": "markdown",
   "metadata": {
    "id": "y5XvJXZOiTft"
   },
   "source": [
    "Lets glance at a few points:\r\n",
    "\r\n",
    "● If you were just using the large margin, then SVM would be very sensitive to outliers.\r\n",
    "\r\n",
    "$ \\qquad $ <img src = \"\thttps://files.codingninjas.in/svm5-7557.JPG\">\r\n",
    "\r\n",
    "● If C is very large then we use this quite naive “maximize the margin”\r\n",
    "approach and select the magenta boundary.\r\n",
    "\r\n",
    "$ \\qquad $ <img src = \"https://files.codingninjas.in/svm6-7558.JPG\">\r\n",
    "\r\n",
    "● But if C is reasonably small, then you stick with the black\r\n",
    "decision boundary"
   ]
  },
  {
   "cell_type": "markdown",
   "metadata": {
    "id": "FY5pSVzviTdi"
   },
   "source": [
    "##**Kernels**"
   ]
  },
  {
   "cell_type": "markdown",
   "metadata": {
    "id": "i3WJygPyiTbR"
   },
   "source": [
    "The main function of the kernel is to transform the given dataset input data into the\r\n",
    "required form. There are various types of functions such as linear, polynomial, and\r\n",
    "radial basis functions (RBF). Polynomial and RBF are useful for non-linear\r\n",
    "hyperplane. Polynomial and RBF kernels compute the separation line in the higher\r\n",
    "dimension. In some applications, it is suggested to use a more complex\r\n",
    "kernel to separate the classes that are curved or nonlinear. This transformation can\r\n",
    "lead to more accurate classifiers.\r\n"
   ]
  },
  {
   "cell_type": "markdown",
   "metadata": {
    "id": "Xel6CVLriTZL"
   },
   "source": [
    "##**SVM using Sklearn**"
   ]
  },
  {
   "cell_type": "markdown",
   "metadata": {
    "id": "DeS9TVkiiTXD"
   },
   "source": [
    "**Step 1 -** We will create dummy data where there will be two features and\r\n",
    "corresponding to them there will be a label given which will tell to which class the feature belongs to."
   ]
  },
  {
   "cell_type": "code",
   "execution_count": 1,
   "metadata": {
    "id": "CqR9ptlryKRE"
   },
   "outputs": [],
   "source": [
    "import numpy as np\r\n",
    "X = np.array([[1, 1], [2, 1], [1, 2], [1.5, 1.5], [3, 4], [2, 5], [4, 3], [7, 2], [3, 5], [2, 6], [6, 2], [3, 4], [4, 4]])\r\n",
    "y = [0, 1, 0, 0, 1, 1, 1, 1, 1, 1, 1, 1, 1]"
   ]
  },
  {
   "cell_type": "markdown",
   "metadata": {
    "id": "SN3i6x13iTU6"
   },
   "source": [
    "**Step 2 -** Plot both features on a plane ."
   ]
  },
  {
   "cell_type": "code",
   "execution_count": 2,
   "metadata": {
    "colab": {
     "base_uri": "https://localhost:8080/",
     "height": 265
    },
    "id": "oFqG7z91ykcF",
    "outputId": "befd84a3-c058-448d-af3e-53040d011168"
   },
   "outputs": [
    {
     "data": {
      "image/png": "[encoded data removed]",
      "text/plain": [
       "<Figure size 640x480 with 1 Axes>"
      ]
     },
     "metadata": {},
     "output_type": "display_data"
    }
   ],
   "source": [
    "import matplotlib.pyplot as plt\r\n",
    "X_x1 = X[:, 0]\r\n",
    "X_x2 = X[:, 1]\r\n",
    "plt.scatter(X_x1, X_x2, c = y)\r\n",
    "plt.show()"
   ]
  },
  {
   "cell_type": "markdown",
   "metadata": {
    "id": "YIC0arOriTSq"
   },
   "source": [
    "**Step 3 -** Now we will create a support vector classifier object by passing the\r\n",
    "argument kernel as the linear kernel in SVC() function. Then, fit your model on train set using fit()\r\n"
   ]
  },
  {
   "cell_type": "code",
   "execution_count": 3,
   "metadata": {
    "colab": {
     "base_uri": "https://localhost:8080/"
    },
    "id": "YsZxOm4KzcF6",
    "outputId": "45abffca-9dbb-48d9-b04e-f458ec4038e1"
   },
   "outputs": [
    {
     "data": {
      "text/plain": [
       "(array([[3.99804688e+00, 4.44089210e-16]]), array([-6.99633789]))"
      ]
     },
     "execution_count": 3,
     "metadata": {},
     "output_type": "execute_result"
    }
   ],
   "source": [
    "from sklearn.svm import SVC\r\n",
    "svcLinear =  SVC(kernel='linear', C=100000).fit(X, y)\r\n",
    "svcLinear.coef_, svcLinear.intercept_"
   ]
  },
  {
   "cell_type": "markdown",
   "metadata": {
    "id": "j_5qs506iTQk"
   },
   "source": [
    "**Step 4 -** The SVC function returns the coefficient as well as the intercept of the\r\n",
    "hyperplane using which we will plot the hyperplane."
   ]
  },
  {
   "cell_type": "code",
   "execution_count": 4,
   "metadata": {
    "colab": {
     "base_uri": "https://localhost:8080/",
     "height": 302
    },
    "id": "6LBWlWv3z7cZ",
    "outputId": "96b2f07e-ded9-48e0-fa1d-7f678ad7a1a8"
   },
   "outputs": [
    {
     "data": {
      "image/png": "[encoded data removed]",
      "text/plain": [
       "<Figure size 640x480 with 1 Axes>"
      ]
     },
     "metadata": {},
     "output_type": "display_data"
    }
   ],
   "source": [
    "x1 = np.array([0, 5])\r\n",
    "x2 = -1 *(svcLinear.intercept_ + svcLinear.coef_[0][0] * x1)/svcLinear.coef_[0][1]\r\n",
    "plt.plot(x1, x2)\r\n",
    "plt.scatter(X_x1, X_x2, c = y)\r\n",
    "plt.axis([0, 8, 0, 8])\r\n",
    "plt.show()"
   ]
  },
  {
   "cell_type": "markdown",
   "metadata": {
    "id": "wfG8h5x48Mvb"
   },
   "source": [
    "Here, the blue line represents the hyperplane which is separating the two features.\r\n",
    "The value of C is large so it will create a decision boundary which will not cause any\r\n",
    "error but the margin will be low. But if we change the value of C to be 1 then the\r\n",
    "decision boundary will have a high margin with a small error."
   ]
  },
  {
   "cell_type": "markdown",
   "metadata": {
    "id": "wsFClNpGiTOY"
   },
   "source": [
    "##**Non-Linear SVM**"
   ]
  },
  {
   "cell_type": "markdown",
   "metadata": {
    "id": "BqmsYkzWiTMK"
   },
   "source": [
    "\r\n",
    "<img src = \"https://files.codingninjas.in/svm7-7559.JPG\">\r\n",
    "\r\n",
    "First way to find a nonlinear boundary is to come up with a complex set of\r\n",
    "polynomial features to fit the data.\r\n",
    "\r\n",
    "● Have $hθ(x)$ which\r\n",
    "\r\n",
    "$\\qquad$○ Returns 1, if the combined weighted sum of vectors (weighted by the\r\n",
    "parameter vector) is less than or equal to 0.\r\n",
    "\r\n",
    "$\\qquad$○ Else return 0.\r\n",
    "\r\n",
    "\r\n",
    "Another way of writing this is\r\n",
    "\r\n",
    "● That a hypothesis computes a decision boundary by taking the sum of the\r\n",
    "parameter vector multiplied by a new feature vector f, which simply contains\r\n",
    "the various high order x terms.\r\n",
    "\r\n",
    "● e.g.\r\n",
    "\r\n",
    "$\\qquad$ ○ $hθ(x) = θ_0+ θ_1f_1+ θ_2f_2 + θ_3f_3$\r\n",
    "\r\n",
    "$\\qquad$○ Where\r\n",
    "\r\n",
    "$\\qquad$$\\qquad$■ $f_1= x_1$\r\n",
    "\r\n",
    "$\\qquad$$\\qquad$■ $f_2 = x_1x_2$\r\n",
    "\r\n",
    "$\\qquad$$\\qquad$■ $f_3 = ...$\r\n",
    "\r\n",
    "$\\qquad$$\\qquad$■ i.e. not specific values, but each of the terms from your complex\r\n",
    "polynomial function.\r\n",
    "\r\n",
    "As we saw with computer imaging, high order polynomials become computationally\r\n",
    "expensive.\r\n"
   ]
  },
  {
   "cell_type": "markdown",
   "metadata": {
    "id": "cpUiwWURiTKA"
   },
   "source": [
    "##**Landmarks**"
   ]
  },
  {
   "cell_type": "markdown",
   "metadata": {
    "id": "WP8gAGpgiTHs"
   },
   "source": [
    "To create extra features for Non-linear decision boundaries, we mostly rely on polynomial functions that are some combination of the features already present. However, there may be better non-polynomial extra features that lead to higher accuracy. \r\n",
    "\r\n",
    "SVM finds new features by selecting random datapoints called landmarks from the dataset and defines **similarity functions (or kernels)** corresponding to each landmark\r\n",
    "\r\n",
    "Following is an example:\r\n",
    "\r\n",
    "● New features\r\n",
    "\r\n",
    "$\\qquad$○ Define three features in this example (ignore $x_0$)\r\n",
    "\r\n",
    "$\\qquad$○ Have a graph of $x_1$ vs. $x_2$\r\n",
    "(don't plot the values, just define the space)\r\n",
    "\r\n",
    "$\\qquad$○ Pick three points in that space\r\n",
    "\r\n",
    "<img src = \"https://files.codingninjas.in/svm8-7560.JPG\">\r\n",
    "\r\n",
    "These points $l^1$, $l^2$, and $l^3$, are chosen manually and are the landmarks. Now we will choose kernels that will act as similarity functions for each of these landmarks. The kernel used can be chosen from the choices given below"
   ]
  },
  {
   "cell_type": "markdown",
   "metadata": {
    "id": "5jfij_UdiTFe"
   },
   "source": [
    "##**Different kinds of Kernels**"
   ]
  },
  {
   "cell_type": "markdown",
   "metadata": {
    "id": "MAy9KsVliTDZ"
   },
   "source": [
    "**1. Gaussian Kernel**\r\n",
    "\r\n",
    "*   Need to define$ \\sigma (\\sigma^2)$\r\n",
    "*   When would you choose a Gaussian?\r\n",
    "*   If n is small and/or m is large\r\n",
    "*   e.g. 2D training set that's large\r\n",
    "*  If you're using a Gaussian kernel then you may need to implement the kernel function\r\n",
    "*   e.g. a function fi = kernel(x1,x2)\r\n",
    "*   Returns a real number\r\n",
    "*   Some SVM packages will expect you to define kernel\r\n",
    "*   Although, some SVM implementations include the Gaussian and a few\r\n",
    "*   Gaussian is probably most popular kernel\r\n",
    "*   Returns a real number\r\n",
    "*   NB - make sure you perform feature scaling before using a Gaussian kernel\r\n",
    "\r\n"
   ]
  },
  {
   "cell_type": "markdown",
   "metadata": {
    "id": "MkmXN-QWiTBN"
   },
   "source": [
    "**2. Linear Kernel**\r\n",
    "\r\n",
    "$\\qquad$● Predict y = 1 if $(θ^T\r\n",
    " x) >= 0$\r\n",
    "\r\n",
    "$\\qquad$$\\qquad$○ So no f vector\r\n",
    "\r\n",
    "$\\qquad$$\\qquad$○ Get a standard linear classifier\r\n",
    "\r\n",
    "$\\qquad$● Why do this?\r\n",
    "\r\n",
    "$\\qquad$$\\qquad$○ If n is large and m is small then\r\n",
    "\r\n",
    "$\\qquad$$\\qquad$$\\qquad$■ Lots of features, few examples\r\n",
    "\r\n",
    "$\\qquad$$\\qquad$$\\qquad$■ Not enough data - risk overfitting in a high dimensional\r\n",
    "feature-space"
   ]
  },
  {
   "cell_type": "markdown",
   "metadata": {
    "id": "uzN3YWcZ9P49"
   },
   "source": [
    "**3. Polynomial Kernel**\r\n",
    "\r\n",
    "$\\qquad$● We measure the similarity of x and l by doing one of where I is Identity\r\n",
    "matrix.\r\n",
    "\r\n",
    "$\\qquad$$\\qquad$○ $(x^T l)^2$\r\n",
    "\r\n",
    "$\\qquad$$\\qquad$○ $(x^T l)^3$\r\n",
    "\r\n",
    "$\\qquad$$\\qquad$○ $(x^T (l+1))^3$\r\n",
    "\r\n",
    "$\\qquad$● General form is\r\n",
    "\r\n",
    "$\\qquad$$\\qquad$○ $(x^T (l+Con))^D$\r\n",
    "\r\n",
    "$\\qquad$● If they're similar then the inner product tends to be large.\r\n",
    "\r\n",
    "$\\qquad$● Not used that often.\r\n",
    "\r\n",
    "$\\qquad$● Two parameters\r\n",
    "\r\n",
    "$\\qquad$$\\qquad$○ Degree of polynomial $(D)$\r\n",
    "\r\n",
    "$\\qquad$$\\qquad$○ Number you add to $l (Con)$\r\n",
    "\r\n",
    "$\\qquad$● Usually performs worse than the Gaussian kernel.\r\n",
    "\r\n",
    "$\\qquad$● Used when x and l are both non-negative.\r\n"
   ]
  },
  {
   "cell_type": "markdown",
   "metadata": {
    "id": "iF7RIrLA9P2j"
   },
   "source": [
    "##**Multiclass Classification**"
   ]
  },
  {
   "cell_type": "markdown",
   "metadata": {
    "id": "AA3SfTei9Pq3"
   },
   "source": [
    "In its most simple form, SVM is applied on binary classification, i.e., classifying data\r\n",
    "points in one of two classes. For multiclass classification, the same principle is utilized.\r\n",
    "\r\n",
    "The multiclass problem is broken down to multiple binary classification cases,\r\n",
    "which is also called **one-vs-one**. In scikit-learn **one-vs-one** is not default, and needs\r\n",
    "to be selected explicitly (as can be seen further down in the code). \r\n",
    "\r\n",
    "**One-vs-rest** is set\r\n",
    "as default. It basically divides the data points in **class x** and **rest.** Consecutively a\r\n",
    "certain class is distinguished from all other classes.\r\n",
    "The number of classifiers necessary for one-vs-one multiclass classification can be\r\n",
    "retrieved with the following formula (with n being the number of classes):\r\n",
    "\r\n",
    "$$\\frac{n*(n - 1)}{2}$$\r\n",
    "\r\n",
    "In the one-vs-one approach, each classifier separates points of two different classes\r\n",
    "and comprising all one-vs-one classifiers leads to a multiclass classifier."
   ]
  },
  {
   "cell_type": "markdown",
   "metadata": {
    "id": "hZGf3w9h9PoD"
   },
   "source": [
    "###**Multiclass Classification on IRIS Dataset**"
   ]
  },
  {
   "cell_type": "markdown",
   "metadata": {
    "id": "fcNBJCmk9Plf"
   },
   "source": [
    "**Step 1 -** Import the libraries"
   ]
  },
  {
   "cell_type": "code",
   "execution_count": null,
   "metadata": {
    "id": "TIg0MMoB_L0D"
   },
   "outputs": [],
   "source": [
    "from sklearn import svm, datasets\r\n",
    "import numpy as np\r\n",
    "from sklearn.model_selection import train_test_split\r\n",
    "import matplotlib.pyplot as plt"
   ]
  },
  {
   "cell_type": "markdown",
   "metadata": {
    "id": "62I1drDB9PjF"
   },
   "source": [
    "**Step 2 -** Load the Dataset\r\n",
    "\r\n",
    "Store variables as target y and the first two features as x (sepal length and sepal\r\n",
    "width of the iris flowers)\r\n"
   ]
  },
  {
   "cell_type": "code",
   "execution_count": null,
   "metadata": {
    "id": "QTJ0v4HE_Oce"
   },
   "outputs": [],
   "source": [
    "iris = datasets.load_iris()\r\n",
    "x = iris.data[:, 0:2]\r\n",
    "y = iris.target"
   ]
  },
  {
   "cell_type": "markdown",
   "metadata": {
    "id": "Wt-eVPR29Pgp"
   },
   "source": [
    "**Step 3 -** Split the Dataset\r\n",
    "\r\n",
    "Now let’s split the dataset in train and test set for the training and prediction."
   ]
  },
  {
   "cell_type": "code",
   "execution_count": null,
   "metadata": {
    "id": "ymOjoEyg_QFN"
   },
   "outputs": [],
   "source": [
    "x_train, x_test, y_train, y_test = train_test_split(x, y)"
   ]
  },
  {
   "cell_type": "markdown",
   "metadata": {
    "id": "X9Klo0jy9PMk"
   },
   "source": [
    "**Step 4 -** Different Kernels\r\n",
    "\r\n",
    "We take a look at the different kernel functions. The penalty term C is set to 1 for all\r\n",
    "classifiers. For the polynomial function, degree of 3 is selected. This is not\r\n",
    "necessary for other kernel functions\r\n"
   ]
  },
  {
   "cell_type": "code",
   "execution_count": null,
   "metadata": {
    "colab": {
     "base_uri": "https://localhost:8080/"
    },
    "id": "xtNaCirU_UsK",
    "outputId": "63ca6ac1-cfcd-43a1-ac14-3945f045db57"
   },
   "outputs": [
    {
     "data": {
      "text/plain": [
       "SVC(C=1.0, break_ties=False, cache_size=200, class_weight=None, coef0=0.0,\n",
       "    decision_function_shape='ovr', degree=3, gamma='scale', kernel='linear',\n",
       "    max_iter=-1, probability=False, random_state=None, shrinking=True,\n",
       "    tol=0.001, verbose=False)"
      ]
     },
     "execution_count": 8,
     "metadata": {
      "tags": []
     },
     "output_type": "execute_result"
    }
   ],
   "source": [
    "clf = svm.SVC(kernel = 'linear')\r\n",
    "clf.fit(x_train, y_train)"
   ]
  },
  {
   "cell_type": "markdown",
   "metadata": {
    "id": "ShByD15Y_BpC"
   },
   "source": [
    "Also we can use different kernels such as :\r\n",
    "\r\n",
    "1. rbf = svm.SVC(kernel='rbf', gamma=1, C=1,\r\n",
    " decision_function_shape='ovo').fit(X_train, y_train)\r\n",
    "2. poly = svm.SVC(kernel='poly', degree=3, C=1,\r\n",
    " decision_function_shape='ovo').fit(X_train, y_train)\r\n",
    "3. sig = svm.SVC(kernel='sigmoid', C=1,\r\n",
    " decision_function_shape='ovo').fit(X_train, y_train)"
   ]
  },
  {
   "cell_type": "markdown",
   "metadata": {
    "id": "rpZC25TQ_BmM"
   },
   "source": [
    "**Step 5 -**\r\n",
    "\r\n",
    "Now let's specify the mesh, in which we will plot the results.\r\n",
    "\r\n",
    "Here h is the step size in the mesh, it alters the accuracy of the plotprint."
   ]
  },
  {
   "cell_type": "code",
   "execution_count": null,
   "metadata": {
    "id": "mZeaUF5c_l7d"
   },
   "outputs": [],
   "source": [
    "def makegrid(x1, x2, h = 0.02):\r\n",
    "    x1_min, x1_max = x1.min() - 1, x1.max() + 1\r\n",
    "    x2_min, x2_max = x2.min() - 1, x2.max() + 1\r\n",
    "    a = np.arange(x1_min,x1_max,h)\r\n",
    "    b = np.arange(x2_min, x2_max, h)\r\n",
    "    xx, yy = np.meshgrid(a, b)\r\n",
    "    return xx, yy"
   ]
  },
  {
   "cell_type": "markdown",
   "metadata": {
    "id": "PMh1-mOS_Bjd"
   },
   "source": [
    "**Step 6 -**\r\n",
    "\r\n",
    "Now, we will plot the decision boundary.\r\n"
   ]
  },
  {
   "cell_type": "code",
   "execution_count": null,
   "metadata": {
    "colab": {
     "base_uri": "https://localhost:8080/",
     "height": 265
    },
    "id": "5fNSzBjG_pj3",
    "outputId": "59203c22-d062-4b50-d773-6ef31e2e1b99"
   },
   "outputs": [
    {
     "data": {
      "image/png": "[encoded data removed]",
      "text/plain": [
       "<Figure size 432x288 with 1 Axes>"
      ]
     },
     "metadata": {
      "needs_background": "light",
      "tags": []
     },
     "output_type": "display_data"
    }
   ],
   "source": [
    "xx, yy = makegrid(x[:, 0], x[:, 1])\r\n",
    "predictions = clf.predict(np.c_[xx.ravel(), yy.ravel()])\r\n",
    "plt.scatter(xx.ravel(), yy.ravel(), c = predictions)\r\n",
    "plt.show()"
   ]
  },
  {
   "cell_type": "markdown",
   "metadata": {
    "id": "7jGGhPQ9_36g"
   },
   "source": [
    "The decision boundary looks like this for a linear kernel."
   ]
  },
  {
   "cell_type": "code",
   "execution_count": null,
   "metadata": {
    "colab": {
     "base_uri": "https://localhost:8080/"
    },
    "id": "xg5-tptc_wpK",
    "outputId": "a43fd212-fa93-4e1d-a951-6bb3a7d70ca0"
   },
   "outputs": [
    {
     "data": {
      "text/plain": [
       "0.8157894736842105"
      ]
     },
     "execution_count": 11,
     "metadata": {
      "tags": []
     },
     "output_type": "execute_result"
    }
   ],
   "source": [
    "# Score\r\n",
    "clf.score(x_test, y_test)"
   ]
  },
  {
   "cell_type": "markdown",
   "metadata": {
    "id": "Pf_NJO5-_Bc6"
   },
   "source": [
    "##**Choosing Parameters Using Grid Search**"
   ]
  },
  {
   "cell_type": "markdown",
   "metadata": {
    "id": "ZQaRAoDl_BaJ"
   },
   "source": [
    "Grid search optimizes the SVM parameters (C, degree, etc) using a cross\r\n",
    "validation (CV) technique as a performance metric. The goal is to identify good\r\n",
    "hyper-parameter combinations so that the classifier can predict unknown data\r\n",
    "accurately.\r\n",
    "\r\n",
    "To choose C and using k-fold CV, we first split the available data into k subsets (in\r\n",
    "most experiments we set k to be 10). One subset is used as a testing data and then\r\n",
    "evaluated using the remaining $k - 1$ training subsets. Then we calculate the CV error\r\n",
    "using this split error for the\r\n",
    "SVM classifier using different values of C, and other parameters. Various\r\n",
    "combinations of hyper-parameter values are entered and the one with the best\r\n",
    "cross-validation accuracy (or the lowest CV error) is selected and used to train an\r\n",
    "SVM on the whole dataset.\r\n",
    "\r\n",
    "<img src = \"https://files.codingninjas.in/svm9-7561.JPG\" height = \"500\">"
   ]
  },
  {
   "cell_type": "markdown",
   "metadata": {
    "id": "aAqPv4wJ_BXj"
   },
   "source": [
    "###**Example: Grid Search On SVM**"
   ]
  },
  {
   "cell_type": "markdown",
   "metadata": {
    "id": "VVlP7MXzAVDY"
   },
   "source": [
    "**Step 1 -** Import the libraries"
   ]
  },
  {
   "cell_type": "code",
   "execution_count": null,
   "metadata": {
    "id": "PG5Viz_hAVn8"
   },
   "outputs": [],
   "source": [
    "from sklearn import svm, datasets\r\n",
    "from sklearn.model_selection import train_test_split\r\n",
    "from sklearn.model_selection import GridSearchCV"
   ]
  },
  {
   "cell_type": "markdown",
   "metadata": {
    "id": "FoI5u2NhAayq"
   },
   "source": [
    "**Step 2 -** Load The Dataset"
   ]
  },
  {
   "cell_type": "code",
   "execution_count": null,
   "metadata": {
    "id": "_6ciqypmAHXp"
   },
   "outputs": [],
   "source": [
    "iris = datasets.load_iris()\r\n",
    "x = iris.data\r\n",
    "y = iris.target"
   ]
  },
  {
   "cell_type": "markdown",
   "metadata": {
    "id": "RFAJHCRm_BBa"
   },
   "source": [
    "**Step 3 -** Split the Dataset into Training and testing data\r\n"
   ]
  },
  {
   "cell_type": "code",
   "execution_count": null,
   "metadata": {
    "id": "iggMCoeoAlJH"
   },
   "outputs": [],
   "source": [
    "x_train,x_test, y_train, y_test = train_test_split(x, y)"
   ]
  },
  {
   "cell_type": "markdown",
   "metadata": {
    "id": "B0NW9BfnAeBb"
   },
   "source": [
    "**Using the Grid Search**\r\n",
    "Here, we will provide different sets of values for both C and gamma and using grid\r\n",
    "search we will find the best values on which the score will be the highest."
   ]
  },
  {
   "cell_type": "code",
   "execution_count": null,
   "metadata": {
    "colab": {
     "base_uri": "https://localhost:8080/"
    },
    "id": "zwo10VqwAltH",
    "outputId": "904ba490-b318-47ff-937a-4e28b16c94a3"
   },
   "outputs": [
    {
     "data": {
      "text/plain": [
       "GridSearchCV(cv=None, error_score=nan,\n",
       "             estimator=SVC(C=1.0, break_ties=False, cache_size=200,\n",
       "                           class_weight=None, coef0=0.0,\n",
       "                           decision_function_shape='ovr', degree=3,\n",
       "                           gamma='scale', kernel='rbf', max_iter=-1,\n",
       "                           probability=False, random_state=None, shrinking=True,\n",
       "                           tol=0.001, verbose=False),\n",
       "             iid='deprecated', n_jobs=None,\n",
       "             param_grid={'C': [100.0, 1000.0, 5000.0, 10000.0, 50000.0,\n",
       "                               100000.0],\n",
       "                         'gamma': [0.001, 0.0005, 0.0001, 0.005]},\n",
       "             pre_dispatch='2*n_jobs', refit=True, return_train_score=False,\n",
       "             scoring=None, verbose=0)"
      ]
     },
     "execution_count": 15,
     "metadata": {
      "tags": []
     },
     "output_type": "execute_result"
    }
   ],
   "source": [
    "clf = svm.SVC()\r\n",
    "grid = {'C' : [1e2, 1e3, 5e3, 1e4, 5e4, 1e5],\r\n",
    "       'gamma' : [1e-3, 5e-4, 1e-4, 5e-3]}\r\n",
    "abc = GridSearchCV(clf, grid)\r\n",
    "abc.fit(x_train, y_train)"
   ]
  },
  {
   "cell_type": "markdown",
   "metadata": {
    "id": "FjoWaN8bAeg0"
   },
   "source": [
    "Using the best estimator function we will find the best value of C and gamma\r\n"
   ]
  },
  {
   "cell_type": "code",
   "execution_count": null,
   "metadata": {
    "colab": {
     "base_uri": "https://localhost:8080/"
    },
    "id": "aRltdxR4Amex",
    "outputId": "5e25d24d-f1c2-4460-847e-41a3ceda97b1"
   },
   "outputs": [
    {
     "data": {
      "text/plain": [
       "SVC(C=100.0, break_ties=False, cache_size=200, class_weight=None, coef0=0.0,\n",
       "    decision_function_shape='ovr', degree=3, gamma=0.001, kernel='rbf',\n",
       "    max_iter=-1, probability=False, random_state=None, shrinking=True,\n",
       "    tol=0.001, verbose=False)"
      ]
     },
     "execution_count": 16,
     "metadata": {
      "tags": []
     },
     "output_type": "execute_result"
    }
   ],
   "source": [
    "abc.best_estimator_"
   ]
  },
  {
   "cell_type": "markdown",
   "metadata": {
    "id": "znfMyyVYAeYD"
   },
   "source": [
    "The value of C using grid search came to be 1000 and the value of gamma is 0.005 ."
   ]
  },
  {
   "cell_type": "markdown",
   "metadata": {
    "id": "Wkaj_EAaArr4"
   },
   "source": [
    "The grid search function can be optimised according to our needs using various\r\n",
    "parameters. For additional details you may visit the documentation by clicking on\r\n",
    "the following link:\r\n",
    "\r\n",
    "https://scikit-learn.org/stable/modules/generated/sklearn.model_selection.GridSearchCV.html"
   ]
  },
  {
   "cell_type": "markdown",
   "metadata": {
    "id": "H_WW9jJZArop"
   },
   "source": [
    "● SVM parameters (C)\r\n",
    "\r\n",
    "$\\qquad$○ Bias and variance trade off\r\n",
    "\r\n",
    "$\\qquad$○ Must chose C\r\n",
    "\r\n",
    "$\\qquad$$\\qquad$■ C plays a role similar to $1/\\lambda$ (where $\\lambda$ is the\r\n",
    "regularization parameter)\r\n",
    "\r\n",
    "$\\qquad$○ Large C gives a hypothesis of low bias high variance --> overfitting\r\n",
    "\r\n",
    "$\\qquad$○ Small C gives a hypothesis of high bias low variance --> underfitting\r\n",
    "\r\n",
    "● SVM parameters $(σ^2)$\r\n",
    "\r\n",
    "$\\qquad$○ Parameter for calculating f values\r\n",
    "\r\n",
    "$\\qquad$$\\qquad$■ Large $(σ^2)$ - f features vary more smoothly - higher bias, lower variance\r\n",
    "\r\n",
    "$\\qquad$$\\qquad$■ Small $(σ^2)$ - f features vary abruptly - ow bias, high variance\r\n"
   ]
  },
  {
   "cell_type": "markdown",
   "metadata": {
    "id": "tI95rP-lArh5"
   },
   "source": [
    "##**Avantages and Disadvantages of SVM Classifiers**"
   ]
  },
  {
   "cell_type": "markdown",
   "metadata": {
    "id": "wbNQ1R2FAre2"
   },
   "source": [
    "**Avantages of SVM classifiers:**\r\n",
    "\r\n",
    "1. SVM classifiers offer great accuracy and work well with high dimensional space.\r\n",
    "\r\n",
    "2. SVM classifiers basically use a subset of training points hence in result uses very\r\n",
    "less memory.\r\n",
    "\r\n",
    "**Disadvantages of SVM classifiers:**\r\n",
    "\r\n",
    "1. They have high training time hence in practice not suitable for large datasets.\r\n",
    "2. SVM classifiers do not work well with overlapping\r\n",
    "classes."
   ]
  }
 ],
 "metadata": {
  "colab": {
   "collapsed_sections": [],
   "name": "Copy of SVM notes.ipynb",
   "provenance": []
  },
  "kernelspec": {
   "display_name": "Python 3 (ipykernel)",
   "language": "python",
   "name": "python3"
  },
  "language_info": {
   "codemirror_mode": {
    "name": "ipython",
    "version": 3
   },
   "file_extension": ".py",
   "mimetype": "text/x-python",
   "name": "python",
   "nbconvert_exporter": "python",
   "pygments_lexer": "ipython3",
   "version": "3.12.7"
  }
 },
 "nbformat": 4,
 "nbformat_minor": 4
}
