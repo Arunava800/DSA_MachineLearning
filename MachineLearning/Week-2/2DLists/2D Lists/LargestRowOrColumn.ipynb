{
 "cells": [
  {
   "cell_type": "markdown",
   "id": "dc307b7d-a5d4-4c23-803a-29a965e78a0f",
   "metadata": {},
   "source": [
    "## Problem Statement:\n",
    "\n",
    "For a given two dimensional integers array/lists of size(NxM), you need to find out which row or column has the largest sum(sum of all the elements in a row or column) amongst all the rows/ columns.\n",
    "If there are more than one rows/columns with maximum sum, consider the row or column that comes first. And if the ith row and jth column  has the same largest sum, consider the row as an answer.\n",
    "\n",
    "*_Sample Input:_*\n",
    "\n",
    "6 9 8 5\n",
    "\n",
    "9 2 4 1\n",
    "\n",
    "8 3 9 3\n",
    "\n",
    "8 7 8 6\n",
    "\n",
    "\n",
    "*_Sample Output: _*\n",
    "\n",
    "row 0 31"
   ]
  },
  {
   "cell_type": "code",
   "execution_count": 51,
   "id": "d19fd71e-0b02-4aad-b766-b79a668f2613",
   "metadata": {},
   "outputs": [],
   "source": [
    "def findLargest(arr, nRows, mCols):\n",
    "    max_rows, max_cols = 0, 0\n",
    "    row_num, col_num = 0, 0\n",
    "\n",
    "    #Calculating the maximum row\n",
    "    for i in range(nRows):\n",
    "        sum_rows = 0\n",
    "        for j in range(mCols):\n",
    "            sum_rows += arr[i][j]\n",
    "        if sum_rows > max_rows:\n",
    "            row_num = i\n",
    "        max_rows = max(sum_rows, max_rows)\n",
    "       \n",
    "\n",
    "    #Calculating the maximum columns\n",
    "    for i in range(mCols):\n",
    "        sum_cols = 0\n",
    "        for j in range(nRows):\n",
    "            sum_cols += arr[j][i]\n",
    "        if sum_cols > max_cols:\n",
    "            col_num = i\n",
    "        max_cols = max(sum_cols, max_cols)\n",
    "\n",
    "    \n",
    "    #Fetching the maximum value between the maximum row and maximum column\n",
    "    maximum_num = max(max_cols,max_rows)\n",
    "\n",
    "    #Printing the maximum row or maximum column\n",
    "    if maximum_num == max_rows:\n",
    "        print(\"row \"+str(row_num) +\" \"+ str(max_rows))\n",
    "    else:\n",
    "        print(\"column \"+str(col_num)+\" \"+ str(max_cols))"
   ]
  },
  {
   "cell_type": "code",
   "execution_count": 52,
   "id": "02a58f48-3d2c-405f-9cb4-b7dfbb3fd22d",
   "metadata": {},
   "outputs": [
    {
     "name": "stdin",
     "output_type": "stream",
     "text": [
      "Enter the number of rows 2\n",
      "Enter the number of columns 3\n",
      " 1\n",
      " 2\n",
      " 3\n",
      " 4\n",
      " 5\n",
      " -6\n"
     ]
    },
    {
     "name": "stdout",
     "output_type": "stream",
     "text": [
      "column 1 7\n"
     ]
    }
   ],
   "source": [
    "m = int(input(\"Enter the number of rows\"))\n",
    "n = int(input(\"Enter the number of columns\"))\n",
    "l = []\n",
    "for rows in range(m):\n",
    "    li = list()\n",
    "    for col in range(n):\n",
    "        x = int(input())\n",
    "        li.append(x)\n",
    "    l.append(li)\n",
    "findLargest(l, m, n)"
   ]
  },
  {
   "cell_type": "code",
   "execution_count": null,
   "id": "8df747f9-a5d8-48e1-b0fd-6e31fcf5d866",
   "metadata": {},
   "outputs": [],
   "source": []
  }
 ],
 "metadata": {
  "kernelspec": {
   "display_name": "Python 3 (ipykernel)",
   "language": "python",
   "name": "python3"
  },
  "language_info": {
   "codemirror_mode": {
    "name": "ipython",
    "version": 3
   },
   "file_extension": ".py",
   "mimetype": "text/x-python",
   "name": "python",
   "nbconvert_exporter": "python",
   "pygments_lexer": "ipython3",
   "version": "3.8.1"
  }
 },
 "nbformat": 4,
 "nbformat_minor": 5
}
