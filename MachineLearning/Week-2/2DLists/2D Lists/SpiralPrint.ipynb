{
 "cells": [
  {
   "cell_type": "code",
   "execution_count": 1,
   "id": "8caca528-08e6-4878-a794-24877af852dc",
   "metadata": {},
   "outputs": [
    {
     "data": {
      "text/html": [
       "<img src=\"spiral.jpeg\" width=\"300\" height=\"300\"/>"
      ],
      "text/plain": [
       "<IPython.core.display.Image object>"
      ]
     },
     "execution_count": 1,
     "metadata": {},
     "output_type": "execute_result"
    }
   ],
   "source": [
    "from IPython.display import Image\n",
    "from IPython.core.display import HTML\n",
    "Image(url=\"spiral.jpeg\", width = 300, height= 300)"
   ]
  },
  {
   "cell_type": "code",
   "execution_count": 5,
   "id": "b2e39b7e-4a5a-4a03-8aa3-0fbd8a01e614",
   "metadata": {
    "editable": true,
    "slideshow": {
     "slide_type": ""
    },
    "tags": []
   },
   "outputs": [],
   "source": [
    "def spiralPrint(mat, nRows, mCols):\n",
    "    elements = nRows * mCols\n",
    "    s_row, e_row = 0, nRows\n",
    "    s_col, e_col = 0, mCols\n",
    "    while elements > 0:\n",
    "        # Left -> Right\n",
    "        for i in range(s_col, e_col):\n",
    "            print(mat[s_row][i], end=\" \")\n",
    "            elements -= 1\n",
    "        # Top -> Bottom\n",
    "        s_row += 1\n",
    "        e_col -= 1\n",
    "        for i in range(s_row, e_row):\n",
    "            print(mat[i][e_col], end=\" \")\n",
    "            elements -= 1\n",
    "            \n",
    "        #Left -> Right\n",
    "        e_row -= 1\n",
    "        e_col -= 1\n",
    "        for i in range(e_col , s_col-1, -1):\n",
    "            print(mat[e_row][i],end=\" \")\n",
    "            elements -= 1\n",
    "\n",
    "        #Top -> Bottom\n",
    "        e_row -= 1\n",
    "        for i in range(e_row, s_row-1, -1):\n",
    "            print(mat[i][s_col], end=\" \")\n",
    "            elements -= 1\n",
    "        s_col += 1\n",
    "        e_col += 1\n",
    "        e_row += 1"
   ]
  },
  {
   "cell_type": "code",
   "execution_count": 6,
   "id": "7af52d64-8b7a-4eba-accc-2225d90d9fc0",
   "metadata": {},
   "outputs": [
    {
     "name": "stdin",
     "output_type": "stream",
     "text": [
      "Enter the number of rows: 3\n",
      "Enter the number of columns 3\n",
      " 1 2 3\n",
      " 4 5 6 \n",
      " 7 8 9\n"
     ]
    },
    {
     "name": "stdout",
     "output_type": "stream",
     "text": [
      "1 2 3 6 9 8 7 4 5 "
     ]
    }
   ],
   "source": [
    "n = int(input(\"Enter the number of rows:\"))\n",
    "m = int(input(\"Enter the number of columns\"))\n",
    "array = []\n",
    "for i in range(n):\n",
    "    temp = list()\n",
    "    temp = [int(ele) for ele in input().split()][:m]\n",
    "    array.append(temp)\n",
    "\n",
    "spiralPrint(array, n, m)"
   ]
  },
  {
   "cell_type": "code",
   "execution_count": null,
   "id": "b396f244-7c56-4f03-960b-2b0afdc53603",
   "metadata": {},
   "outputs": [],
   "source": []
  }
 ],
 "metadata": {
  "kernelspec": {
   "display_name": "Python 3 (ipykernel)",
   "language": "python",
   "name": "python3"
  },
  "language_info": {
   "codemirror_mode": {
    "name": "ipython",
    "version": 3
   },
   "file_extension": ".py",
   "mimetype": "text/x-python",
   "name": "python",
   "nbconvert_exporter": "python",
   "pygments_lexer": "ipython3",
   "version": "3.8.1"
  }
 },
 "nbformat": 4,
 "nbformat_minor": 5
}
