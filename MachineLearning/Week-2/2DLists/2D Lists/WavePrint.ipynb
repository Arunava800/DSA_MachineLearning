{
 "cells": [
  {
   "cell_type": "markdown",
   "id": "723c9be2-71e4-41e6-a7ce-efb3a9c87f61",
   "metadata": {},
   "source": [
    "## Sample Input:\n",
    "1 2 3\n",
    "\n",
    "4 5 6\n",
    "\n",
    "7 8 9\n",
    "\n",
    "## Sample Output: 1 2 4 8 5 2 3 6 9"
   ]
  },
  {
   "cell_type": "code",
   "execution_count": 8,
   "id": "7a19c79d-7041-41eb-9b39-faba269c5366",
   "metadata": {},
   "outputs": [
    {
     "name": "stdin",
     "output_type": "stream",
     "text": [
      " 1 2 3\n",
      " 4 5 6\n",
      " 7 8 9\n"
     ]
    },
    {
     "name": "stdout",
     "output_type": "stream",
     "text": [
      "1 4 7 8 5 2 3 6 9 "
     ]
    }
   ],
   "source": [
    "out2 = [[int(j)  for j in input().split()]for i in range(3)]\n",
    "n = len(out2)\n",
    "m = len(out2[0])\n",
    "\n",
    "for col in range(m):\n",
    "    if col % 2 == 0:\n",
    "        for i in range(n):\n",
    "            print(out2[i][col], end= \" \")\n",
    "    else:\n",
    "        i = n-1\n",
    "        while i >= 0:\n",
    "            print(out2[i][col], end = \" \")\n",
    "            i = i - 1"
   ]
  },
  {
   "cell_type": "code",
   "execution_count": null,
   "id": "b7aa0ce6-febb-4f1d-b26d-4e666f965cf9",
   "metadata": {},
   "outputs": [],
   "source": []
  }
 ],
 "metadata": {
  "kernelspec": {
   "display_name": "Python 3 (ipykernel)",
   "language": "python",
   "name": "python3"
  },
  "language_info": {
   "codemirror_mode": {
    "name": "ipython",
    "version": 3
   },
   "file_extension": ".py",
   "mimetype": "text/x-python",
   "name": "python",
   "nbconvert_exporter": "python",
   "pygments_lexer": "ipython3",
   "version": "3.8.1"
  }
 },
 "nbformat": 4,
 "nbformat_minor": 5
}
