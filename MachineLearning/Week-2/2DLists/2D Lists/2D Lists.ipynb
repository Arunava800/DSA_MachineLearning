{
 "cells": [
  {
   "cell_type": "code",
   "execution_count": 1,
   "id": "1e419e7e-dc09-4d68-9aa5-2306f9c61dd6",
   "metadata": {},
   "outputs": [],
   "source": [
    "l = [[1,2,3],[4,5,6]]"
   ]
  },
  {
   "cell_type": "code",
   "execution_count": 2,
   "id": "e31e0d32-9a81-43d3-bf5a-33e480bbc56a",
   "metadata": {},
   "outputs": [
    {
     "data": {
      "text/plain": [
       "[[1, 2, 3], [4, 5, 6]]"
      ]
     },
     "execution_count": 2,
     "metadata": {},
     "output_type": "execute_result"
    }
   ],
   "source": [
    "l"
   ]
  },
  {
   "cell_type": "code",
   "execution_count": 3,
   "id": "a92235aa-d910-4644-89f6-9d13a8434b5a",
   "metadata": {},
   "outputs": [
    {
     "name": "stdout",
     "output_type": "stream",
     "text": [
      "[1, 2, 3]\n"
     ]
    }
   ],
   "source": [
    "print(l[0])"
   ]
  },
  {
   "cell_type": "code",
   "execution_count": 4,
   "id": "b2153a31-50e9-42c2-bcc7-6bcdb527026f",
   "metadata": {},
   "outputs": [
    {
     "name": "stdout",
     "output_type": "stream",
     "text": [
      "2\n"
     ]
    }
   ],
   "source": [
    "print(l[0][1])"
   ]
  },
  {
   "cell_type": "markdown",
   "id": "853eaf10-5c56-4ea5-a9ce-34c599e0a105",
   "metadata": {},
   "source": [
    "# Creating a 2D arrays"
   ]
  },
  {
   "cell_type": "markdown",
   "id": "293f0195-587c-42fa-b761-df13cd2351db",
   "metadata": {},
   "source": [
    "### Method 1:"
   ]
  },
  {
   "cell_type": "code",
   "execution_count": 6,
   "id": "83533924-a452-46ab-9335-c8b707e747f6",
   "metadata": {},
   "outputs": [],
   "source": [
    "l2 = [[0,0,0]for i in range(10)]"
   ]
  },
  {
   "cell_type": "code",
   "execution_count": 8,
   "id": "8cdaf011-6893-4bd7-a1ba-530d49db097d",
   "metadata": {},
   "outputs": [
    {
     "data": {
      "text/plain": [
       "[[0, 0, 0],\n",
       " [0, 0, 0],\n",
       " [0, 0, 0],\n",
       " [0, 0, 0],\n",
       " [0, 0, 0],\n",
       " [0, 0, 0],\n",
       " [0, 0, 0],\n",
       " [0, 0, 0],\n",
       " [0, 0, 0],\n",
       " [0, 0, 0]]"
      ]
     },
     "execution_count": 8,
     "metadata": {},
     "output_type": "execute_result"
    }
   ],
   "source": [
    "l2"
   ]
  },
  {
   "cell_type": "code",
   "execution_count": 9,
   "id": "c58c7603-1897-419b-8ad1-52e624da9283",
   "metadata": {},
   "outputs": [],
   "source": [
    "l3 = [[j for j in range (5)] for i in range(10)]"
   ]
  },
  {
   "cell_type": "code",
   "execution_count": 10,
   "id": "0f59d360-b355-4049-ad6d-efe0eeca828a",
   "metadata": {},
   "outputs": [
    {
     "data": {
      "text/plain": [
       "[[0, 1, 2, 3, 4],\n",
       " [0, 1, 2, 3, 4],\n",
       " [0, 1, 2, 3, 4],\n",
       " [0, 1, 2, 3, 4],\n",
       " [0, 1, 2, 3, 4],\n",
       " [0, 1, 2, 3, 4],\n",
       " [0, 1, 2, 3, 4],\n",
       " [0, 1, 2, 3, 4],\n",
       " [0, 1, 2, 3, 4],\n",
       " [0, 1, 2, 3, 4]]"
      ]
     },
     "execution_count": 10,
     "metadata": {},
     "output_type": "execute_result"
    }
   ],
   "source": [
    "l3"
   ]
  },
  {
   "cell_type": "code",
   "execution_count": 11,
   "id": "d184635f-6e7a-45d3-8113-1eb219be4f00",
   "metadata": {},
   "outputs": [],
   "source": [
    "l4 = [[i*j+10 for j in range(5)]for i in range(10)]"
   ]
  },
  {
   "cell_type": "code",
   "execution_count": 12,
   "id": "45ab9c7c-016a-404a-9c6d-69627af50665",
   "metadata": {},
   "outputs": [
    {
     "data": {
      "text/plain": [
       "[[10, 10, 10, 10, 10],\n",
       " [10, 11, 12, 13, 14],\n",
       " [10, 12, 14, 16, 18],\n",
       " [10, 13, 16, 19, 22],\n",
       " [10, 14, 18, 22, 26],\n",
       " [10, 15, 20, 25, 30],\n",
       " [10, 16, 22, 28, 34],\n",
       " [10, 17, 24, 31, 38],\n",
       " [10, 18, 26, 34, 42],\n",
       " [10, 19, 28, 37, 46]]"
      ]
     },
     "execution_count": 12,
     "metadata": {},
     "output_type": "execute_result"
    }
   ],
   "source": [
    "l4"
   ]
  },
  {
   "cell_type": "markdown",
   "id": "1b40e53a-dae4-4f5e-8fb7-560e3a1f8159",
   "metadata": {},
   "source": [
    "\n",
    "### Take input in 2D array"
   ]
  },
  {
   "cell_type": "code",
   "execution_count": 22,
   "id": "b6241390-fd4d-4904-b1ee-99eb722d0377",
   "metadata": {},
   "outputs": [
    {
     "name": "stdin",
     "output_type": "stream",
     "text": [
      " 2 3\n",
      " 1 2 3 4 5 6\n"
     ]
    }
   ],
   "source": [
    "string = input().strip().split()\n",
    "n = int(string[0])\n",
    "m = int(string[1])\n",
    "l = [int(i) for i in input().strip().split()]\n",
    "output = []\n",
    "for i in range(n):\n",
    "    output.append([])\n",
    "    for j in range(m):\n",
    "        output[i].append(l[i*m+j])"
   ]
  },
  {
   "cell_type": "code",
   "execution_count": 23,
   "id": "56d60efc-f600-4670-8c0d-0fcf64c297e8",
   "metadata": {},
   "outputs": [
    {
     "data": {
      "text/plain": [
       "[[1, 2, 3], [4, 5, 6]]"
      ]
     },
     "execution_count": 23,
     "metadata": {},
     "output_type": "execute_result"
    }
   ],
   "source": [
    "output"
   ]
  },
  {
   "cell_type": "code",
   "execution_count": 24,
   "id": "01eee9e0-cbe8-471f-98df-68dd58d4f472",
   "metadata": {},
   "outputs": [],
   "source": [
    "output2 = [[l[i*m+j]for j in range(m)]for i in range(n)]"
   ]
  },
  {
   "cell_type": "code",
   "execution_count": 25,
   "id": "4dd3c923-6475-4fdb-a45c-0fc90f430106",
   "metadata": {},
   "outputs": [
    {
     "data": {
      "text/plain": [
       "[[1, 2, 3], [4, 5, 6]]"
      ]
     },
     "execution_count": 25,
     "metadata": {},
     "output_type": "execute_result"
    }
   ],
   "source": [
    "output2"
   ]
  },
  {
   "cell_type": "code",
   "execution_count": null,
   "id": "ddb92082-f821-4a16-9dfe-680a271937ec",
   "metadata": {},
   "outputs": [],
   "source": []
  }
 ],
 "metadata": {
  "kernelspec": {
   "display_name": "Python 3 (ipykernel)",
   "language": "python",
   "name": "python3"
  },
  "language_info": {
   "codemirror_mode": {
    "name": "ipython",
    "version": 3
   },
   "file_extension": ".py",
   "mimetype": "text/x-python",
   "name": "python",
   "nbconvert_exporter": "python",
   "pygments_lexer": "ipython3",
   "version": "3.8.1"
  }
 },
 "nbformat": 4,
 "nbformat_minor": 5
}
