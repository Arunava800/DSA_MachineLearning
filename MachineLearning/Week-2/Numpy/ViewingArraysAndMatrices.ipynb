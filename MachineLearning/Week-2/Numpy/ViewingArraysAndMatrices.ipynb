{
 "cells": [
  {
   "cell_type": "markdown",
   "id": "75d15619-c6df-4c7c-9ca6-d47461a21b5d",
   "metadata": {},
   "source": [
    "## Find unique elements in the array"
   ]
  },
  {
   "cell_type": "code",
   "execution_count": 2,
   "id": "9b8443e5-fca9-41a5-890a-491c4ed3b43e",
   "metadata": {},
   "outputs": [],
   "source": [
    "import numpy as np"
   ]
  },
  {
   "cell_type": "code",
   "execution_count": 3,
   "id": "5afbe0b8-5bd6-4d9b-a596-5f68e434e8dc",
   "metadata": {},
   "outputs": [],
   "source": [
    "random_array = np.random.randint(20, size=(5,3))"
   ]
  },
  {
   "cell_type": "code",
   "execution_count": 4,
   "id": "20360b58-3c4d-417b-934d-8c46e010a11a",
   "metadata": {},
   "outputs": [
    {
     "data": {
      "text/plain": [
       "array([ 0,  1,  2,  4,  5,  9, 10, 12, 13, 16])"
      ]
     },
     "execution_count": 4,
     "metadata": {},
     "output_type": "execute_result"
    }
   ],
   "source": [
    "np.unique(random_array)"
   ]
  },
  {
   "cell_type": "markdown",
   "id": "248fe8aa-f4bb-46cd-ba84-f554e880d87e",
   "metadata": {},
   "source": [
    "# Viewing Arrays and matrices\n"
   ]
  },
  {
   "cell_type": "code",
   "execution_count": 5,
   "id": "a5b8d7cc-0a32-4778-921e-afc3b5ec3a74",
   "metadata": {},
   "outputs": [],
   "source": [
    "a1 = np.array([1,2,3])\n",
    "a2 = np.array([[1,2,3],\n",
    "              [4, 5, 6.3]])\n",
    "\n",
    "a3 = np.array([[[1,2,3],\n",
    "              [4,5,6],\n",
    "              [7,8,9]],\n",
    "             [[10, 11, 12],\n",
    "             [13,14,15],\n",
    "             [16,17,18]]])"
   ]
  },
  {
   "cell_type": "code",
   "execution_count": 6,
   "id": "1f499c66-2b5c-47ec-b5be-728468f95afa",
   "metadata": {},
   "outputs": [
    {
     "data": {
      "text/plain": [
       "1"
      ]
     },
     "execution_count": 6,
     "metadata": {},
     "output_type": "execute_result"
    }
   ],
   "source": [
    "a1[0]"
   ]
  },
  {
   "cell_type": "code",
   "execution_count": 7,
   "id": "d63b7ab0-cff8-4990-b645-e625f7b2f60f",
   "metadata": {},
   "outputs": [
    {
     "data": {
      "text/plain": [
       "array([1., 2., 3.])"
      ]
     },
     "execution_count": 7,
     "metadata": {},
     "output_type": "execute_result"
    }
   ],
   "source": [
    "a2[0]"
   ]
  },
  {
   "cell_type": "code",
   "execution_count": 8,
   "id": "a6e7d865-b5d6-44db-a006-b1c51544467c",
   "metadata": {},
   "outputs": [
    {
     "data": {
      "text/plain": [
       "array([[1, 2, 3],\n",
       "       [4, 5, 6],\n",
       "       [7, 8, 9]])"
      ]
     },
     "execution_count": 8,
     "metadata": {},
     "output_type": "execute_result"
    }
   ],
   "source": [
    "a3[0]"
   ]
  },
  {
   "cell_type": "code",
   "execution_count": 12,
   "id": "92131479-c0f6-4e3d-8606-b17120ff5c9c",
   "metadata": {},
   "outputs": [
    {
     "data": {
      "text/plain": [
       "array([[[ 1,  2,  3],\n",
       "        [ 4,  5,  6]],\n",
       "\n",
       "       [[10, 11, 12],\n",
       "        [13, 14, 15]]])"
      ]
     },
     "execution_count": 12,
     "metadata": {},
     "output_type": "execute_result"
    }
   ],
   "source": [
    " a3[:2,:2]"
   ]
  },
  {
   "cell_type": "code",
   "execution_count": 13,
   "id": "659f248d-08d6-459d-bbaf-e4829859f116",
   "metadata": {},
   "outputs": [],
   "source": [
    "a2 = np.array([[1,2,3],\n",
    "              [4, 5, 6.3]])\n",
    "\n",
    "a3 = np.array([[[1,2,3],\n",
    "              [4,5,6],\n",
    "              [7,8,9]],\n",
    "             [[10, 11, 12],\n",
    "             [13,14,15],\n",
    "             [16,17,18]]])"
   ]
  },
  {
   "cell_type": "code",
   "execution_count": 15,
   "id": "84b327aa-805b-45fe-9f1b-a346ed5f944c",
   "metadata": {},
   "outputs": [
    {
     "data": {
      "text/plain": [
       "array([[[ 1,  4,  9],\n",
       "        [ 4, 10, 18],\n",
       "        [ 7, 16, 27]],\n",
       "\n",
       "       [[10, 22, 36],\n",
       "        [13, 28, 45],\n",
       "        [16, 34, 54]]])"
      ]
     },
     "execution_count": 15,
     "metadata": {},
     "output_type": "execute_result"
    }
   ],
   "source": [
    "a3 * a1"
   ]
  },
  {
   "cell_type": "markdown",
   "id": "a3ae19b6-ebd7-4375-af32-5202e9a8eb84",
   "metadata": {},
   "source": [
    "## Manipulating Arrays 2"
   ]
  },
  {
   "cell_type": "code",
   "execution_count": 17,
   "id": "bb67a47e-0b2e-4020-8f53-dda2a631522e",
   "metadata": {},
   "outputs": [
    {
     "data": {
      "text/plain": [
       "array([0.9302537 , 0.85463177, 0.56895749, ..., 0.27614256, 0.99592085,\n",
       "       0.31169347])"
      ]
     },
     "execution_count": 17,
     "metadata": {},
     "output_type": "execute_result"
    }
   ],
   "source": [
    "massive_array = np.random.random(100000)\n",
    "massive_array"
   ]
  },
  {
   "cell_type": "code",
   "execution_count": 18,
   "id": "4acacfee-957e-4b85-9338-b38f25f70c16",
   "metadata": {},
   "outputs": [
    {
     "name": "stdout",
     "output_type": "stream",
     "text": [
      "13.5 ms ± 2.43 ms per loop (mean ± std. dev. of 7 runs, 10 loops each)\n",
      "58.3 µs ± 10.2 µs per loop (mean ± std. dev. of 7 runs, 10,000 loops each)\n"
     ]
    }
   ],
   "source": [
    "%timeit sum(massive_array)\n",
    "%timeit np.sum(massive_array)"
   ]
  },
  {
   "cell_type": "code",
   "execution_count": 19,
   "id": "93e7738c-1e66-44c1-bcb7-f62bcf0462b1",
   "metadata": {},
   "outputs": [
    {
     "data": {
      "text/plain": [
       "0.9999998406973233"
      ]
     },
     "execution_count": 19,
     "metadata": {},
     "output_type": "execute_result"
    }
   ],
   "source": [
    "np.max(massive_array)"
   ]
  },
  {
   "cell_type": "code",
   "execution_count": 20,
   "id": "1f556e51-434a-441a-97bc-4ffe9543768f",
   "metadata": {},
   "outputs": [
    {
     "data": {
      "text/plain": [
       "4.239322013765978e-06"
      ]
     },
     "execution_count": 20,
     "metadata": {},
     "output_type": "execute_result"
    }
   ],
   "source": [
    "np.min(massive_array)"
   ]
  },
  {
   "cell_type": "code",
   "execution_count": 21,
   "id": "3fe72267-7022-4b57-bd91-3474b02bd292",
   "metadata": {},
   "outputs": [
    {
     "data": {
      "text/plain": [
       "0.28845288533751856"
      ]
     },
     "execution_count": 21,
     "metadata": {},
     "output_type": "execute_result"
    }
   ],
   "source": [
    "np.std(massive_array)"
   ]
  },
  {
   "cell_type": "code",
   "execution_count": 22,
   "id": "0229a7e8-d54d-47b6-bc6b-f2adbe99ebc2",
   "metadata": {},
   "outputs": [
    {
     "data": {
      "text/plain": [
       "0.08320506705953963"
      ]
     },
     "execution_count": 22,
     "metadata": {},
     "output_type": "execute_result"
    }
   ],
   "source": [
    "np.var(massive_array)"
   ]
  },
  {
   "cell_type": "code",
   "execution_count": null,
   "id": "e2939248-47ab-4d1c-b8b5-e8d9d21ab38b",
   "metadata": {},
   "outputs": [],
   "source": []
  },
  {
   "cell_type": "code",
   "execution_count": null,
   "id": "a6c78ff9-201d-4eae-a04b-d5bf16c46bba",
   "metadata": {},
   "outputs": [],
   "source": []
  },
  {
   "cell_type": "code",
   "execution_count": null,
   "id": "d611469f-57c8-4ac3-9778-9a1f8461daf4",
   "metadata": {},
   "outputs": [],
   "source": []
  },
  {
   "cell_type": "code",
   "execution_count": null,
   "id": "482c2a2b-10ca-4157-9294-202e2477a10b",
   "metadata": {},
   "outputs": [],
   "source": []
  },
  {
   "cell_type": "code",
   "execution_count": null,
   "id": "929da693-e454-43f6-b7b9-7fff9044e81b",
   "metadata": {},
   "outputs": [],
   "source": []
  },
  {
   "cell_type": "markdown",
   "id": "2ab57608-7139-44c2-be6e-ed333a461af1",
   "metadata": {},
   "source": [
    "### Reshape a2 to be compatible with a3"
   ]
  },
  {
   "cell_type": "code",
   "execution_count": null,
   "id": "edd2f882-83c5-45a4-a05c-bf669b7d248e",
   "metadata": {},
   "outputs": [],
   "source": []
  }
 ],
 "metadata": {
  "kernelspec": {
   "display_name": "Python 3 (ipykernel)",
   "language": "python",
   "name": "python3"
  },
  "language_info": {
   "codemirror_mode": {
    "name": "ipython",
    "version": 3
   },
   "file_extension": ".py",
   "mimetype": "text/x-python",
   "name": "python",
   "nbconvert_exporter": "python",
   "pygments_lexer": "ipython3",
   "version": "3.8.1"
  }
 },
 "nbformat": 4,
 "nbformat_minor": 5
}
