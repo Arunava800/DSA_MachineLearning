{
 "cells": [
  {
   "cell_type": "code",
   "execution_count": 2,
   "id": "de5f25e6-06f2-4511-b516-750410fd38d4",
   "metadata": {},
   "outputs": [],
   "source": [
    "import numpy as np"
   ]
  },
  {
   "cell_type": "code",
   "execution_count": 3,
   "id": "ee6e0460-10e8-493c-b649-46b5d47856fd",
   "metadata": {},
   "outputs": [],
   "source": [
    "sample_array = np.array([1,2,3])"
   ]
  },
  {
   "cell_type": "code",
   "execution_count": 4,
   "id": "d27bdb4f-2987-4228-b240-a36be09f65cc",
   "metadata": {},
   "outputs": [
    {
     "data": {
      "text/plain": [
       "array([1, 2, 3])"
      ]
     },
     "execution_count": 4,
     "metadata": {},
     "output_type": "execute_result"
    }
   ],
   "source": [
    "sample_array"
   ]
  },
  {
   "cell_type": "code",
   "execution_count": 6,
   "id": "5f06f45f-2dc7-4a8d-a943-30f57c0a78f9",
   "metadata": {},
   "outputs": [
    {
     "data": {
      "text/plain": [
       "array([1., 1., 1., 1., 1., 1., 1., 1., 1., 1., 1., 1., 1., 1., 1., 1., 1.,\n",
       "       1., 1., 1.])"
      ]
     },
     "execution_count": 6,
     "metadata": {},
     "output_type": "execute_result"
    }
   ],
   "source": [
    "ones_float = np.ones(20)\n",
    "ones_float"
   ]
  },
  {
   "cell_type": "code",
   "execution_count": 7,
   "id": "6c8e00af-215d-46ab-9ef3-bf9fc74f2c76",
   "metadata": {},
   "outputs": [
    {
     "data": {
      "text/plain": [
       "array([1, 1, 1, 1, 1, 1, 1, 1, 1, 1, 1, 1, 1, 1, 1, 1, 1, 1, 1, 1])"
      ]
     },
     "execution_count": 7,
     "metadata": {},
     "output_type": "execute_result"
    }
   ],
   "source": [
    "ones_int = np.ones(20, int)\n",
    "ones_int"
   ]
  },
  {
   "cell_type": "code",
   "execution_count": 10,
   "id": "6079bb50-10ba-4aee-9f8d-2896baaa0a70",
   "metadata": {},
   "outputs": [
    {
     "data": {
      "text/plain": [
       "array([[1., 1., 1.],\n",
       "       [1., 1., 1.]])"
      ]
     },
     "execution_count": 10,
     "metadata": {},
     "output_type": "execute_result"
    }
   ],
   "source": [
    "np.ones((2,3))"
   ]
  },
  {
   "cell_type": "code",
   "execution_count": 11,
   "id": "8c57c3cb-9d96-4f83-9db0-241b4e5f0655",
   "metadata": {},
   "outputs": [],
   "source": [
    "zeros = np.zeros((2,3))"
   ]
  },
  {
   "cell_type": "code",
   "execution_count": 12,
   "id": "1455d311-0d9c-4567-9cf2-7466d9f41a0c",
   "metadata": {},
   "outputs": [
    {
     "data": {
      "text/plain": [
       "array([[0., 0., 0.],\n",
       "       [0., 0., 0.]])"
      ]
     },
     "execution_count": 12,
     "metadata": {},
     "output_type": "execute_result"
    }
   ],
   "source": [
    "zeros"
   ]
  },
  {
   "cell_type": "markdown",
   "id": "4acf908b-acad-495e-861d-1a9527d081c8",
   "metadata": {},
   "source": [
    "* arange(start,stop,step): Returns evenly spaced values within a given interval"
   ]
  },
  {
   "cell_type": "code",
   "execution_count": 13,
   "id": "e6fea294-1e2e-46f1-a537-0a3bd94dfca6",
   "metadata": {},
   "outputs": [
    {
     "data": {
      "text/plain": [
       "array([0, 1, 2, 3, 4, 5, 6, 7, 8, 9])"
      ]
     },
     "execution_count": 13,
     "metadata": {},
     "output_type": "execute_result"
    }
   ],
   "source": [
    "np.arange(10)"
   ]
  },
  {
   "cell_type": "code",
   "execution_count": 14,
   "id": "5246c18c-ea86-4a10-aff4-fabeabe99604",
   "metadata": {},
   "outputs": [
    {
     "data": {
      "text/plain": [
       "array([3, 5, 7, 9])"
      ]
     },
     "execution_count": 14,
     "metadata": {},
     "output_type": "execute_result"
    }
   ],
   "source": [
    "np.arange(3,10, 2)"
   ]
  },
  {
   "cell_type": "code",
   "execution_count": 15,
   "id": "e48ea751-7029-4c5c-9182-c26a05dfbc66",
   "metadata": {},
   "outputs": [],
   "source": [
    "random_array = np.random.randint(0, 20)"
   ]
  },
  {
   "cell_type": "code",
   "execution_count": 16,
   "id": "e6110c4c-1dbd-4145-99f7-f3c0d425ad18",
   "metadata": {},
   "outputs": [
    {
     "data": {
      "text/plain": [
       "18"
      ]
     },
     "execution_count": 16,
     "metadata": {},
     "output_type": "execute_result"
    }
   ],
   "source": [
    "random_array"
   ]
  },
  {
   "cell_type": "code",
   "execution_count": 17,
   "id": "805ce91e-9612-4aa3-9b2f-9975eead8fb3",
   "metadata": {},
   "outputs": [],
   "source": [
    "random_array = np.random.randint(0, 10, size =(3,5))"
   ]
  },
  {
   "cell_type": "code",
   "execution_count": 18,
   "id": "7c7ded7c-e133-47ec-8b83-869fe0ddabe4",
   "metadata": {},
   "outputs": [
    {
     "data": {
      "text/plain": [
       "array([[3, 9, 6, 9, 9],\n",
       "       [5, 6, 1, 2, 4],\n",
       "       [0, 9, 0, 0, 9]])"
      ]
     },
     "execution_count": 18,
     "metadata": {},
     "output_type": "execute_result"
    }
   ],
   "source": [
    "random_array"
   ]
  },
  {
   "cell_type": "code",
   "execution_count": 19,
   "id": "e3c8e9e1-7751-47bd-8cd0-d22bffa2e992",
   "metadata": {},
   "outputs": [
    {
     "data": {
      "text/plain": [
       "15"
      ]
     },
     "execution_count": 19,
     "metadata": {},
     "output_type": "execute_result"
    }
   ],
   "source": [
    "random_array.size"
   ]
  },
  {
   "cell_type": "code",
   "execution_count": 20,
   "id": "ad023c9c-c301-49f4-9f80-1c33599464f2",
   "metadata": {},
   "outputs": [
    {
     "data": {
      "text/plain": [
       "(3, 5)"
      ]
     },
     "execution_count": 20,
     "metadata": {},
     "output_type": "execute_result"
    }
   ],
   "source": [
    "random_array.shape"
   ]
  },
  {
   "cell_type": "code",
   "execution_count": 22,
   "id": "49406e6f-cbab-4bc5-beec-10c6134abc8d",
   "metadata": {},
   "outputs": [
    {
     "data": {
      "text/plain": [
       "array([[0.77434304, 0.85938421, 0.43961291],\n",
       "       [0.5327585 , 0.78100144, 0.17524043],\n",
       "       [0.89380534, 0.40924817, 0.77352267],\n",
       "       [0.96137822, 0.74360448, 0.0877006 ],\n",
       "       [0.71586169, 0.20039758, 0.06494603]])"
      ]
     },
     "execution_count": 22,
     "metadata": {},
     "output_type": "execute_result"
    }
   ],
   "source": [
    "random_3 = np.random.rand(5,3)\n",
    "random_3"
   ]
  },
  {
   "cell_type": "code",
   "execution_count": null,
   "id": "dbbdb5b5-ec95-4113-9250-7892c7a4bb5a",
   "metadata": {},
   "outputs": [],
   "source": []
  }
 ],
 "metadata": {
  "kernelspec": {
   "display_name": "Python 3 (ipykernel)",
   "language": "python",
   "name": "python3"
  },
  "language_info": {
   "codemirror_mode": {
    "name": "ipython",
    "version": 3
   },
   "file_extension": ".py",
   "mimetype": "text/x-python",
   "name": "python",
   "nbconvert_exporter": "python",
   "pygments_lexer": "ipython3",
   "version": "3.8.1"
  }
 },
 "nbformat": 4,
 "nbformat_minor": 5
}
